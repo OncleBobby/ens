{
 "cells": [
  {
   "cell_type": "markdown",
   "id": "b73ad84d",
   "metadata": {},
   "source": [
    "# Initialization"
   ]
  },
  {
   "cell_type": "code",
   "execution_count": null,
   "id": "cfdea75f",
   "metadata": {},
   "outputs": [],
   "source": [
    "%load_ext autoreload\n",
    "%autoreload 2\n",
    "import sys, warnings, time, numpy, yaml, pandas, logging\n",
    "sys.path.append(\"../src/\") # go to parent dir\n",
    "from data_access import get_X, get_y, get_train_test\n",
    "from models.factory import ModelFactory\n",
    "warnings.filterwarnings('ignore')\n",
    "with open('../confs/logs.yaml', 'rt') as f:\n",
    "    config = yaml.safe_load(f.read())\n",
    "logging.config.dictConfig(config)"
   ]
  },
  {
   "cell_type": "code",
   "execution_count": null,
   "id": "f766bfa6",
   "metadata": {},
   "outputs": [],
   "source": [
    "X_train, y_train, X_test, y_test, target = get_train_test(train_size=0.8, random_state=42)\n",
    "train_scores = get_y()\n",
    "test_data = get_X('test')\n",
    "features = ['TEAM_GAME_WON_season_sum', 'TEAM_GAME_WON_season_average', 'TEAM_SHOTS_ON_TARGET_season_average', 'TEAM_SHOTS_ON_TARGET_season_sum', 'TEAM_GAME_LOST_season_sum', 'TEAM_GAME_LOST_season_average', 'TEAM_ATTACKS_season_average', 'TEAM_BALL_POSSESSION_season_average', 'TEAM_SHOTS_TOTAL_season_average', 'TEAM_SHOTS_INSIDEBOX_season_average', 'TEAM_DANGEROUS_ATTACKS_season_sum', 'TEAM_GOALS_season_average', 'TEAM_YELLOWCARDS_5_last_match_std', 'TEAM_GOALS_season_sum', 'TEAM_CORNERS_season_average', 'TEAM_SHOTS_ON_TARGET_5_last_match_std', 'TEAM_YELLOWCARDS_season_std', 'TEAM_ATTACKS_5_last_match_std', 'TEAM_DANGEROUS_ATTACKS_season_average', 'TEAM_SHOTS_OFF_TARGET_season_std']\n",
    "features = ['TEAM_GAME_WON_season_sum', 'TEAM_GOALS_season_average', 'TEAM_SHOTS_ON_TARGET_season_average', 'TEAM_GAME_LOST_season_sum', 'TEAM_GAME_WON_season_average', 'TEAM_GAME_LOST_season_average', 'TEAM_DANGEROUS_ATTACKS_season_sum', 'TEAM_BALL_POSSESSION_season_average', 'TEAM_SHOTS_INSIDEBOX_season_average', 'TEAM_GOALS_season_sum', 'TEAM_CORNERS_season_sum', 'TEAM_SHOTS_TOTAL_season_average', 'TEAM_ATTACKS_season_average', 'TEAM_YELLOWCARDS_5_last_match_std', 'TEAM_ATTACKS_5_last_match_std', 'TEAM_SHOTS_ON_TARGET_season_sum', 'TEAM_SHOTS_ON_TARGET_5_last_match_std', 'TEAM_BALL_POSSESSION_season_std', 'TEAM_BALL_SAFE_season_std', 'TEAM_DANGEROUS_ATTACKS_season_average', 'TEAM_BALL_SAFE_season_average', 'TEAM_SHOTS_OFF_TARGET_5_last_match_std', 'TEAM_CORNERS_season_average', 'TEAM_BALL_SAFE_5_last_match_average', 'TEAM_DANGEROUS_ATTACKS_season_std', 'TEAM_CORNERS_5_last_match_std', 'TEAM_ATTACKS_season_sum', 'TEAM_ATTACKS_season_std', 'TEAM_PENALTIES_season_std', 'TEAM_DANGEROUS_ATTACKS_5_last_match_std', 'TEAM_BALL_POSSESSION_5_last_match_std', 'TEAM_BALL_POSSESSION_5_last_match_average', 'TEAM_CORNERS_5_last_match_sum', 'TEAM_SAVES_5_last_match_std', 'TEAM_BALL_SAFE_5_last_match_std', 'TEAM_SHOTS_ON_TARGET_season_std', 'TEAM_SHOTS_OFF_TARGET_season_std', 'TEAM_GAME_DRAW_season_sum', 'TEAM_SAVES_season_std', 'TEAM_GOALS_5_last_match_std', 'TEAM_OFFSIDES_5_last_match_std', 'TEAM_OFFSIDES_season_std', 'TEAM_FOULS_season_std', 'TEAM_SHOTS_OUTSIDEBOX_5_last_match_std', 'TEAM_SUBSTITUTIONS_season_std', 'TEAM_YELLOWCARDS_season_std', 'TEAM_CORNERS_season_std', 'TEAM_SAVES_season_average', 'TEAM_CORNERS_5_last_match_average', 'TEAM_SAVES_season_sum', 'TEAM_FOULS_5_last_match_std', 'TEAM_YELLOWCARDS_5_last_match_sum', 'TEAM_BALL_SAFE_season_sum', 'TEAM_SUBSTITUTIONS_season_average', 'TEAM_REDCARDS_season_std', 'TEAM_YELLOWCARDS_season_sum', 'TEAM_OFFSIDES_season_sum', 'TEAM_SUBSTITUTIONS_5_last_match_std', 'TEAM_PENALTIES_season_average', 'TEAM_GAME_DRAW_season_average', 'TEAM_GOALS_season_std', 'TEAM_PENALTIES_season_sum', 'TEAM_BALL_SAFE_5_last_match_sum', 'TEAM_SHOTS_TOTAL_season_std', 'TEAM_GOALS_5_last_match_average', 'TEAM_SHOTS_INSIDEBOX_season_std', 'TEAM_SHOTS_TOTAL_5_last_match_std', 'TEAM_YELLOWCARDS_season_average', 'TEAM_SHOTS_INSIDEBOX_5_last_match_std', 'TEAM_SUCCESSFUL_PASSES_PERCENTAGE_5_last_match_std', 'TEAM_SUBSTITUTIONS_season_sum', 'TEAM_OFFSIDES_5_last_match_sum', 'TEAM_OFFSIDES_season_average', 'TEAM_YELLOWCARDS_5_last_match_average', 'TEAM_OFFSIDES_5_last_match_average', 'TEAM_ATTACKS_5_last_match_average', 'TEAM_SHOTS_OUTSIDEBOX_season_std', 'TEAM_SHOTS_OFF_TARGET_season_sum', 'TEAM_SAVES_5_last_match_average', 'TEAM_SHOTS_OFF_TARGET_5_last_match_average', 'TEAM_SHOTS_ON_TARGET_5_last_match_average', 'TEAM_SHOTS_ON_TARGET_5_last_match_sum', 'TEAM_SUCCESSFUL_PASSES_season_std', 'TEAM_REDCARDS_season_sum', 'TEAM_FOULS_season_average', 'TEAM_INJURIES_5_last_match_sum', 'TEAM_SUCCESSFUL_PASSES_PERCENTAGE_season_std', 'TEAM_INJURIES_season_sum', 'TEAM_REDCARDS_season_average', 'TEAM_SHOTS_TOTAL_5_last_match_average', 'TEAM_SHOTS_OFF_TARGET_5_last_match_sum', 'TEAM_FOULS_season_sum', 'TEAM_DANGEROUS_ATTACKS_5_last_match_sum', 'TEAM_GOALS_5_last_match_sum', 'TEAM_SHOTS_OFF_TARGET_season_average', 'TEAM_SAVES_5_last_match_sum', 'TEAM_PASSES_season_std', 'TEAM_ATTACKS_5_last_match_sum', 'TEAM_SUBSTITUTIONS_5_last_match_average', 'TEAM_DANGEROUS_ATTACKS_5_last_match_average', 'TEAM_FOULS_5_last_match_sum', 'TEAM_GAME_LOST_5_last_match_average', 'TEAM_INJURIES_season_std', 'TEAM_SUBSTITUTIONS_5_last_match_sum', 'TEAM_PASSES_5_last_match_std', 'TEAM_SUCCESSFUL_PASSES_PERCENTAGE_season_average', 'TEAM_SHOTS_TOTAL_5_last_match_sum', 'TEAM_INJURIES_5_last_match_average', 'TEAM_SUCCESSFUL_PASSES_5_last_match_std', 'TEAM_SHOTS_INSIDEBOX_5_last_match_sum', 'TEAM_INJURIES_5_last_match_std', 'TEAM_FOULS_5_last_match_average', 'TEAM_INJURIES_season_average', 'TEAM_SHOTS_OUTSIDEBOX_season_average', 'TEAM_GAME_WON_5_last_match_average', 'TEAM_SHOTS_OUTSIDEBOX_season_sum', 'TEAM_GAME_WON_5_last_match_sum', 'TEAM_PASSES_season_average', 'TEAM_PENALTIES_5_last_match_std', 'TEAM_GAME_DRAW_5_last_match_sum', 'TEAM_SUCCESSFUL_PASSES_season_average', 'TEAM_GAME_LOST_5_last_match_sum', 'TEAM_SUCCESSFUL_PASSES_PERCENTAGE_5_last_match_average', 'TEAM_SHOTS_INSIDEBOX_5_last_match_average', 'TEAM_PASSES_season_sum', 'TEAM_GAME_DRAW_5_last_match_average', 'TEAM_SUCCESSFUL_PASSES_season_sum', 'TEAM_SHOTS_OUTSIDEBOX_5_last_match_average', 'TEAM_SHOTS_OUTSIDEBOX_5_last_match_sum', 'TEAM_SUCCESSFUL_PASSES_5_last_match_sum', 'TEAM_PENALTIES_5_last_match_average', 'TEAM_PENALTIES_5_last_match_sum', 'TEAM_REDCARDS_5_last_match_std', 'TEAM_PASSES_5_last_match_average', 'TEAM_SUCCESSFUL_PASSES_5_last_match_average', 'TEAM_PASSES_5_last_match_sum', 'TEAM_REDCARDS_5_last_match_average', 'TEAM_REDCARDS_5_last_match_sum']\n",
    "# features=['TEAM_GAME_WON_season_average', 'TEAM_SHOTS_TOTAL_season_average', 'TEAM_SHOTS_ON_TARGET_5_last_match_std', 'TEAM_ATTACKS_5_last_match_std', 'TEAM_BALL_SAFE_season_std', 'TEAM_SHOTS_OFF_TARGET_5_last_match_std', 'TEAM_SUCCESSFUL_PASSES_PERCENTAGE_5_last_match_std', 'TEAM_YELLOWCARDS_season_std', 'TEAM_SAVES_5_last_match_std', 'TEAM_SHOTS_OFF_TARGET_season_std', 'TEAM_ATTACKS_season_std', 'TEAM_OFFSIDES_season_std', 'TEAM_DANGEROUS_ATTACKS_season_std', 'TEAM_INJURIES_season_std', 'TEAM_BALL_POSSESSION_season_std', 'TEAM_YELLOWCARDS_5_last_match_std', 'TEAM_FOULS_5_last_match_std', 'TEAM_OFFSIDES_5_last_match_std', 'TEAM_BALL_SAFE_5_last_match_std', 'TEAM_BALL_POSSESSION_5_last_match_std', 'TEAM_SAVES_season_std', 'TEAM_SAVES_season_average', 'TEAM_BALL_SAFE_season_average', 'TEAM_SHOTS_INSIDEBOX_season_average', 'TEAM_OFFSIDES_season_average', 'TEAM_SUBSTITUTIONS_season_average', 'TEAM_BALL_SAFE_5_last_match_sum', 'TEAM_GAME_LOST_season_sum', 'TEAM_FOULS_season_std', 'TEAM_SHOTS_INSIDEBOX_5_last_match_sum', 'TEAM_PASSES_5_last_match_std', 'TEAM_ATTACKS_season_average', 'TEAM_INJURIES_5_last_match_std', 'TEAM_INJURIES_season_sum', 'TEAM_PASSES_season_std', 'TEAM_BALL_SAFE_season_sum', 'TEAM_SUBSTITUTIONS_season_std', 'TEAM_DANGEROUS_ATTACKS_5_last_match_std', 'TEAM_GAME_LOST_season_average', 'TEAM_SHOTS_ON_TARGET_season_sum', 'TEAM_GOALS_season_sum', 'TEAM_CORNERS_5_last_match_std', 'TEAM_SHOTS_OUTSIDEBOX_5_last_match_std', 'TEAM_OFFSIDES_season_sum', 'TEAM_INJURIES_5_last_match_average', 'TEAM_GOALS_5_last_match_std', 'TEAM_SHOTS_TOTAL_season_std', 'TEAM_CORNERS_season_std', 'TEAM_SHOTS_OUTSIDEBOX_season_std', 'TEAM_CORNERS_season_sum', 'TEAM_GAME_DRAW_season_average', 'TEAM_CORNERS_season_average', 'TEAM_SHOTS_INSIDEBOX_5_last_match_std', 'TEAM_REDCARDS_season_std', 'TEAM_FOULS_5_last_match_sum', 'TEAM_GAME_DRAW_5_last_match_sum', 'TEAM_GAME_WON_5_last_match_sum', 'TEAM_SHOTS_TOTAL_5_last_match_std', 'TEAM_GAME_WON_season_sum', 'TEAM_YELLOWCARDS_5_last_match_sum', 'TEAM_SHOTS_OFF_TARGET_season_average', 'TEAM_SHOTS_ON_TARGET_season_std', 'TEAM_PENALTIES_5_last_match_std', 'TEAM_GAME_DRAW_season_sum', 'TEAM_SUCCESSFUL_PASSES_PERCENTAGE_season_average', 'TEAM_BALL_POSSESSION_season_average', 'TEAM_SUBSTITUTIONS_season_sum', 'TEAM_DANGEROUS_ATTACKS_season_average', 'TEAM_GOALS_season_std', 'TEAM_PENALTIES_season_std', 'TEAM_FOULS_season_average', 'TEAM_SUCCESSFUL_PASSES_PERCENTAGE_season_std', 'TEAM_REDCARDS_season_average', 'TEAM_SAVES_5_last_match_sum', 'TEAM_ATTACKS_season_sum', 'TEAM_INJURIES_season_average', 'TEAM_FOULS_season_sum', 'TEAM_CORNERS_5_last_match_sum', 'TEAM_DANGEROUS_ATTACKS_season_sum', 'TEAM_YELLOWCARDS_season_sum', 'TEAM_SUCCESSFUL_PASSES_season_std', 'TEAM_DANGEROUS_ATTACKS_5_last_match_sum', 'TEAM_OFFSIDES_5_last_match_sum', 'TEAM_SHOTS_OUTSIDEBOX_season_average', 'TEAM_SHOTS_ON_TARGET_5_last_match_sum', 'TEAM_SUBSTITUTIONS_5_last_match_std', 'TEAM_PENALTIES_season_sum', 'TEAM_BALL_SAFE_5_last_match_average', 'TEAM_REDCARDS_5_last_match_std', 'TEAM_SHOTS_OUTSIDEBOX_5_last_match_sum', 'TEAM_INJURIES_5_last_match_sum', 'TEAM_SAVES_season_sum', 'TEAM_SUCCESSFUL_PASSES_PERCENTAGE_5_last_match_average', 'TEAM_SHOTS_INSIDEBOX_season_std', 'TEAM_SUBSTITUTIONS_5_last_match_average', 'TEAM_PASSES_season_average', 'TEAM_SUCCESSFUL_PASSES_5_last_match_std', 'TEAM_REDCARDS_season_sum', 'TEAM_GOALS_5_last_match_average', 'TEAM_PASSES_season_sum', 'TEAM_GAME_LOST_5_last_match_sum', 'TEAM_SUBSTITUTIONS_5_last_match_sum', 'TEAM_BALL_POSSESSION_5_last_match_average', 'TEAM_GOALS_5_last_match_sum', 'TEAM_CORNERS_5_last_match_average', 'TEAM_GOALS_season_average', 'TEAM_ATTACKS_5_last_match_sum', 'TEAM_SHOTS_ON_TARGET_season_average', 'TEAM_SHOTS_OFF_TARGET_season_sum', 'TEAM_PENALTIES_5_last_match_sum', 'TEAM_SHOTS_TOTAL_5_last_match_sum', 'TEAM_SHOTS_OUTSIDEBOX_5_last_match_average', 'TEAM_SUCCESSFUL_PASSES_5_last_match_sum', 'TEAM_SHOTS_TOTAL_5_last_match_average', 'TEAM_PASSES_5_last_match_sum', 'TEAM_SHOTS_INSIDEBOX_5_last_match_average', 'TEAM_ATTACKS_5_last_match_average', 'TEAM_YELLOWCARDS_season_average', 'TEAM_SHOTS_OFF_TARGET_5_last_match_sum', 'TEAM_YELLOWCARDS_5_last_match_average', 'TEAM_SUCCESSFUL_PASSES_season_sum', 'TEAM_OFFSIDES_5_last_match_average', 'TEAM_SUCCESSFUL_PASSES_season_average', 'TEAM_SAVES_5_last_match_average', 'TEAM_DANGEROUS_ATTACKS_5_last_match_average', 'TEAM_SHOTS_OFF_TARGET_5_last_match_average', 'TEAM_PENALTIES_season_average', 'TEAM_PASSES_5_last_match_average', 'TEAM_FOULS_5_last_match_average', 'TEAM_SHOTS_OUTSIDEBOX_season_sum', 'TEAM_REDCARDS_5_last_match_sum', 'TEAM_SUCCESSFUL_PASSES_5_last_match_average', 'TEAM_SHOTS_ON_TARGET_5_last_match_average', 'TEAM_PENALTIES_5_last_match_average', 'TEAM_GAME_WON_5_last_match_average', 'TEAM_REDCARDS_5_last_match_average', 'TEAM_GAME_LOST_5_last_match_average', 'TEAM_GAME_DRAW_5_last_match_average']\n",
    "features = ['TEAM_SHOTS_ON_TARGET_season_average', 'TEAM_GAME_LOST_season_average', 'TEAM_GAME_LOST_season_sum', 'TEAM_GAME_WON_season_average', 'TEAM_SHOTS_INSIDEBOX_season_average', 'TEAM_GAME_WON_season_sum', 'TEAM_DANGEROUS_ATTACKS_season_average', 'TEAM_BALL_POSSESSION_season_average', 'TEAM_SHOTS_TOTAL_season_average', 'TEAM_GOALS_season_sum', 'TEAM_GOALS_season_average', 'TEAM_DANGEROUS_ATTACKS_season_sum']\n",
    "features=['TEAM_GAME_WON_season_average', 'TEAM_GAME_LOST_season_average', 'TEAM_GOALS_season_sum', 'TEAM_SHOTS_INSIDEBOX_season_average', 'TEAM_BALL_POSSESSION_season_average', 'TEAM_CORNERS_5_last_match_average', 'TEAM_BALL_SAFE_5_last_match_sum', 'TEAM_GAME_DRAW_season_average']\n",
    "features=['TEAM_GAME_WON_season_average', 'TEAM_GAME_LOST_season_average', 'TEAM_GOALS_season_sum', 'TEAM_SHOTS_INSIDEBOX_season_average', 'TEAM_BALL_POSSESSION_season_average', 'TEAM_CORNERS_5_last_match_average', 'TEAM_BALL_SAFE_5_last_match_sum']\n",
    "features=features[:20]\n",
    "X_train = X_train[features]\n",
    "X_test = X_test[features]\n",
    "test_data = test_data[features]"
   ]
  },
  {
   "cell_type": "code",
   "execution_count": null,
   "id": "b917b69e",
   "metadata": {},
   "outputs": [],
   "source": [
    "def eval_model(model, save_model=False, X=X_test):\n",
    "    start = time.time()\n",
    "    model.fit()\n",
    "    score = model.evaluate(X)\n",
    "    end = time.time()\n",
    "    logging.info(f'{model.name}={score} in {numpy.round((end-start), 2)}s')\n",
    "    if save_model:\n",
    "        model.save(test_data)\n",
    "    return {'name': model.name, 'score': score, 'time': numpy.round((end-start), 2)}"
   ]
  },
  {
   "cell_type": "code",
   "execution_count": null,
   "id": "db21ca92",
   "metadata": {},
   "outputs": [],
   "source": [
    "%load_ext autoreload\n",
    "%autoreload 2\n",
    "def eval_model_for_name(name, X=X_train, y=y_train):\n",
    "    with open('../confs/models.yaml', 'r') as file:\n",
    "        configurations = yaml.safe_load(file)\n",
    "    factory = ModelFactory(configurations, X, y, train_scores)\n",
    "    model = factory.get_model(name)\n",
    "    return eval_model(model)"
   ]
  },
  {
   "cell_type": "code",
   "execution_count": null,
   "id": "06cc2593",
   "metadata": {},
   "outputs": [],
   "source": [
    "def get_features(name = 'random_forest'):\n",
    "    with open('../confs/models.yaml', 'r') as file:\n",
    "        configurations = yaml.safe_load(file)\n",
    "    factory = ModelFactory(configurations, X_train, y_train, train_scores)\n",
    "    model = factory.get_model(name)\n",
    "    eval_model(model)\n",
    "    df_importances = model.get_feature_importances()\n",
    "    return list(df_importances['feature'])"
   ]
  },
  {
   "cell_type": "markdown",
   "id": "e5be1763",
   "metadata": {},
   "source": [
    "# Stacking"
   ]
  },
  {
   "cell_type": "code",
   "execution_count": null,
   "id": "fdc703a8",
   "metadata": {},
   "outputs": [],
   "source": [
    "%load_ext autoreload\n",
    "%autoreload 2\n",
    "from models.stacking_model import StackingModel\n",
    "# names= ['catboost', 'gradient_boosting', 'ada_boost', 'hist_gradient_boosting', 'lightgbm', 'xgb_classifier']\n",
    "names= ['gradient_boosting', 'ada_boost', 'lightgbm', 'xgb_classifier']\n",
    "# names= ['catboost', 'random_forest']\n",
    "# names= ['lightgbm']\n",
    "with open('../confs/models.yaml', 'r') as file:\n",
    "    configurations = yaml.safe_load(file)\n",
    "factory = ModelFactory(configurations, X_train, y_train, train_scores)\n",
    "params = {'estimators': {name:factory.get_model(name) for name in names}}\n",
    "\n",
    "model = StackingModel(X_train, y_train, train_scores, params)\n",
    "line = eval_model(model)\n",
    "model.name = 'stacking_classifier'\n",
    "model.save(test_data)\n",
    "score = model.evaluate(X_test)\n",
    "print(f'{model.name}={score}')"
   ]
  }
 ],
 "metadata": {
  "kernelspec": {
   "display_name": "Python 3 (ipykernel)",
   "language": "python",
   "name": "python3"
  },
  "language_info": {
   "codemirror_mode": {
    "name": "ipython",
    "version": 3
   },
   "file_extension": ".py",
   "mimetype": "text/x-python",
   "name": "python",
   "nbconvert_exporter": "python",
   "pygments_lexer": "ipython3",
   "version": "3.11.7"
  }
 },
 "nbformat": 4,
 "nbformat_minor": 5
}
