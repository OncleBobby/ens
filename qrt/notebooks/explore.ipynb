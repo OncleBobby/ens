{
 "cells": [
  {
   "cell_type": "code",
   "execution_count": null,
   "id": "cfdea75f",
   "metadata": {},
   "outputs": [],
   "source": [
    "%load_ext autoreload\n",
    "%autoreload 2\n",
    "import sys, warnings\n",
    "sys.path.append(\"../src/\") # go to parent dir\n",
    "from main import get_X, get_y, get_score\n",
    "warnings.filterwarnings('ignore')"
   ]
  },
  {
   "cell_type": "markdown",
   "id": "7e1d16ba",
   "metadata": {},
   "source": [
    "## Read Train data"
   ]
  },
  {
   "cell_type": "code",
   "execution_count": null,
   "id": "3a12ee53",
   "metadata": {},
   "outputs": [],
   "source": [
    "train_data = get_X('train')\n",
    "train_data.head()"
   ]
  },
  {
   "cell_type": "code",
   "execution_count": null,
   "id": "208cc4f1",
   "metadata": {},
   "outputs": [],
   "source": [
    "train_scores = get_y()\n",
    "train_scores.head()"
   ]
  }
 ],
 "metadata": {
  "kernelspec": {
   "display_name": "Python 3 (ipykernel)",
   "language": "python",
   "name": "python3"
  },
  "language_info": {
   "codemirror_mode": {
    "name": "ipython",
    "version": 3
   },
   "file_extension": ".py",
   "mimetype": "text/x-python",
   "name": "python",
   "nbconvert_exporter": "python",
   "pygments_lexer": "ipython3",
   "version": "3.12.1"
  }
 },
 "nbformat": 4,
 "nbformat_minor": 5
}
