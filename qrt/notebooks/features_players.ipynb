{
 "cells": [
  {
   "cell_type": "markdown",
   "id": "b73ad84d",
   "metadata": {},
   "source": [
    "# Initialization"
   ]
  },
  {
   "cell_type": "code",
   "execution_count": null,
   "id": "cfdea75f",
   "metadata": {},
   "outputs": [],
   "source": [
    "%load_ext autoreload\n",
    "%autoreload 2\n",
    "import sys, warnings, time, numpy, yaml, pandas, logging, random\n",
    "from pathlib import Path\n",
    "sys.path.append(\"../src/\") # go to parent dir\n",
    "from data_access import get_X, get_y, get_train_test\n",
    "from models.factory import ModelFactory\n",
    "warnings.filterwarnings('ignore')\n",
    "with open('../confs/logs.yaml', 'rt') as f:\n",
    "    config = yaml.safe_load(f.read())\n",
    "logging.config.dictConfig(config)"
   ]
  },
  {
   "cell_type": "code",
   "execution_count": null,
   "id": "f766bfa6",
   "metadata": {},
   "outputs": [],
   "source": [
    "type='player'\n",
    "X_train, y_train, X_test, y_test, target = get_train_test(train_size=0.8, random_state=42, type=type)\n",
    "train_scores = get_y('train', type)\n",
    "test_data = get_X('test', type)"
   ]
  },
  {
   "cell_type": "code",
   "execution_count": null,
   "id": "b917b69e",
   "metadata": {},
   "outputs": [],
   "source": [
    "def eval_model(model, save_model=False, X=X_test):\n",
    "    start = time.time()\n",
    "    model.fit()\n",
    "    score = model.evaluate(X)\n",
    "    end = time.time()\n",
    "    logging.debug(f'{model.name}={score} in {numpy.round((end-start), 2)}s')\n",
    "    if save_model:\n",
    "        model.save(test_data/{type})\n",
    "    return {'name': model.name, 'score': score, 'time': numpy.round((end-start), 2)}"
   ]
  },
  {
   "cell_type": "code",
   "execution_count": null,
   "id": "db21ca92",
   "metadata": {},
   "outputs": [],
   "source": [
    "%load_ext autoreload\n",
    "%autoreload 2\n",
    "def eval_model_for_name(name, X=X_train, y=y_train):\n",
    "    with open('../confs/models.yaml', 'r') as file:\n",
    "        configurations = yaml.safe_load(file)\n",
    "    factory = ModelFactory(configurations, X, y, train_scores)\n",
    "    model = factory.get_model(name)\n",
    "    return eval_model(model)"
   ]
  },
  {
   "cell_type": "code",
   "execution_count": null,
   "id": "06cc2593",
   "metadata": {},
   "outputs": [],
   "source": [
    "def get_features(name = 'ada_boost'):\n",
    "    with open('../confs/models.yaml', 'r') as file:\n",
    "        configurations = yaml.safe_load(file)\n",
    "    factory = ModelFactory(configurations, X_train, y_train, train_scores)\n",
    "    model = factory.get_model(name)\n",
    "    eval_model(model)\n",
    "    df_importances = model.get_feature_importances()\n",
    "    return list(df_importances['feature'])"
   ]
  },
  {
   "cell_type": "code",
   "execution_count": null,
   "id": "fc5ad136",
   "metadata": {},
   "outputs": [],
   "source": [
    "default_features=get_features('ada_boost')\n",
    "print(default_features)"
   ]
  },
  {
   "cell_type": "code",
   "execution_count": null,
   "id": "27380507",
   "metadata": {},
   "outputs": [],
   "source": [
    "def test_features(name = 'xgb_gblinear', save=True, features=default_features):\n",
    "    with open('../confs/models.yaml', 'r') as file:\n",
    "        configurations = yaml.safe_load(file)\n",
    "    if features is None:\n",
    "        features=default_features\n",
    "    lines = []\n",
    "    best_score = 0\n",
    "    selected_features = []\n",
    "    for i in range(1, len(features)):\n",
    "        sub_features = selected_features.copy()\n",
    "        feature = features[i-1]\n",
    "        sub_features.append(feature)\n",
    "        # sub_features = features[:i]\n",
    "        factory = ModelFactory(configurations, X_train[sub_features], y_train, train_scores)\n",
    "        model = factory.get_model(name)\n",
    "        model.name = f'{name}_{i}'\n",
    "        line = eval_model(model,X=X_test[sub_features])\n",
    "        line['nbr_features'] = len(sub_features)\n",
    "        line['model'] = name\n",
    "        line['feature'] = feature\n",
    "        line['features'] = sub_features\n",
    "        lines.append(line)\n",
    "        if best_score < line['score']:\n",
    "            selected_features.append(line['feature'])\n",
    "            best_score = line['score']\n",
    "    df = pandas.DataFrame(lines)\n",
    "    if save:\n",
    "        df.to_csv(f'../data/output/{type}/features/{name}.csv')\n",
    "    logging.info(f'Features selected for score {name} - {best_score}: {len(selected_features)}, {selected_features}')\n",
    "    return df"
   ]
  },
  {
   "cell_type": "code",
   "execution_count": null,
   "id": "619ea796",
   "metadata": {},
   "outputs": [],
   "source": [
    "def plot_features(folder = '../data/output/{type}/features/'):\n",
    "   import os, pandas\n",
    "   df = None\n",
    "   for filename in os.listdir(folder):\n",
    "      # if not os.path.isfile(filename): continue\n",
    "      model = filename.split('.')[0]\n",
    "      df_tmp = pandas.read_csv(f'{folder}{filename}')\n",
    "      df_tmp[model] = df_tmp['score']\n",
    "      if df is None:\n",
    "         df = df_tmp[[model]]\n",
    "      else:\n",
    "         df[model] = df_tmp[[model]]\n",
    "   df.plot.line()"
   ]
  },
  {
   "cell_type": "markdown",
   "id": "1ec35fa9",
   "metadata": {},
   "source": [
    "# Feature importances"
   ]
  },
  {
   "cell_type": "code",
   "execution_count": null,
   "id": "bb46e8c6",
   "metadata": {},
   "outputs": [],
   "source": [
    "name = 'lightgbm'\n",
    "features=None\n",
    "features=['PLAYER_GOALS_CONCEDED_season_average', 'PLAYER_GOALS_season_sum', 'PLAYER_KEY_PASSES_season_average', 'PLAYER_CLEARANCES_5_last_match_std', 'PLAYER_BIG_CHANCES_MISSED_season_average', 'PLAYER_BIG_CHANCES_CREATED_5_last_match_std', 'PLAYER_SAVES_INSIDE_BOX_5_last_match_sum', 'PLAYER_GOALS_CONCEDED_5_last_match_sum', 'PLAYER_PENALTIES_MISSES_5_last_match_sum', 'PLAYER_SUCCESSFUL_DRIBBLES_5_last_match_sum', 'PLAYER_TOTAL_DUELS_5_last_match_sum', 'PLAYER_PUNCHES_5_last_match_sum', 'PLAYER_GOALKEEPER_GOALS_CONCEDED_season_average']\n",
    "df = test_features(name, features=features)\n",
    "df[['score']].plot.line()"
   ]
  },
  {
   "cell_type": "code",
   "execution_count": null,
   "id": "225487af",
   "metadata": {},
   "outputs": [],
   "source": [
    "name = 'ada_boost'\n",
    "features=None\n",
    "features=['PLAYER_GOALS_CONCEDED_season_average', 'PLAYER_CLEARANCES_season_average', 'PLAYER_GOALS_season_sum', 'PLAYER_KEY_PASSES_season_average', 'PLAYER_SAVES_INSIDE_BOX_season_std', 'PLAYER_DRIBBLED_PAST_5_last_match_std', 'PLAYER_DRIBBLED_ATTEMPTS_5_last_match_average', 'PLAYER_DISPOSSESSED_5_last_match_average', 'PLAYER_DUELS_WON_season_average', 'PLAYER_PENALTIES_COMMITTED_season_average', 'PLAYER_CLEARANCES_season_sum', 'PLAYER_CLEARANCE_OFFLINE_season_sum', 'PLAYER_ACCURATE_CROSSES_5_last_match_sum']\n",
    "df = test_features(name, features=features)\n",
    "df[['score']].plot.line()"
   ]
  },
  {
   "cell_type": "code",
   "execution_count": null,
   "id": "e98a91f4",
   "metadata": {},
   "outputs": [],
   "source": [
    "name = 'xgb_gblinear'\n",
    "features=None\n",
    "features=['PLAYER_GOALS_CONCEDED_season_average', 'PLAYER_GOALS_season_sum', 'PLAYER_KEY_PASSES_season_average', 'PLAYER_BIG_CHANCES_MISSED_season_average', 'PLAYER_BLOCKED_SHOTS_season_average', 'PLAYER_RATING_5_last_match_average', 'PLAYER_PENALTIES_WON_5_last_match_average', 'PLAYER_GOALKEEPER_GOALS_CONCEDED_5_last_match_average']\n",
    "df = test_features(name, features=features)\n",
    "df[['score']].plot.line()"
   ]
  },
  {
   "cell_type": "code",
   "execution_count": null,
   "id": "8330acfa",
   "metadata": {},
   "outputs": [],
   "source": [
    "name = 'gradient_boosting'\n",
    "features=None\n",
    "features=['PLAYER_GOALS_CONCEDED_season_average', 'PLAYER_GOALS_season_sum', 'PLAYER_BIG_CHANCES_MISSED_season_average', 'PLAYER_ASSISTS_5_last_match_std', 'PLAYER_DISPOSSESSED_season_std', 'PLAYER_SAVES_INSIDE_BOX_5_last_match_sum', 'PLAYER_GOALS_CONCEDED_5_last_match_sum', 'PLAYER_MINUTES_PLAYED_5_last_match_sum', 'PLAYER_SHOTS_BLOCKED_5_last_match_sum', 'PLAYER_REDCARDS_5_last_match_std', 'PLAYER_SUCCESSFUL_DRIBBLES_5_last_match_std', 'PLAYER_LONG_BALLS_5_last_match_std', 'PLAYER_SAVES_season_sum', 'PLAYER_SHOTS_BLOCKED_season_average', 'PLAYER_LONG_BALLS_WON_season_std', 'PLAYER_CAPTAIN_5_last_match_sum', 'PLAYER_ASSISTS_season_std', 'PLAYER_STARTING_LINEUP_season_average', 'PLAYER_DUELS_LOST_season_std']\n",
    "features=['PLAYER_GOALS_CONCEDED_season_average', 'PLAYER_GOALS_season_sum', 'PLAYER_BIG_CHANCES_MISSED_season_average', 'PLAYER_ASSISTS_5_last_match_std', 'PLAYER_DISPOSSESSED_season_std', 'PLAYER_SAVES_INSIDE_BOX_5_last_match_sum', 'PLAYER_GOALS_CONCEDED_5_last_match_sum', 'PLAYER_MINUTES_PLAYED_5_last_match_sum', 'PLAYER_SHOTS_BLOCKED_5_last_match_sum', 'PLAYER_REDCARDS_5_last_match_std', 'PLAYER_SUCCESSFUL_DRIBBLES_5_last_match_std', 'PLAYER_SAVES_season_sum', 'PLAYER_SHOTS_BLOCKED_season_average', 'PLAYER_LONG_BALLS_WON_season_std', 'PLAYER_CAPTAIN_5_last_match_sum']\n",
    "df = test_features(name, features=features)\n",
    "df[['score']].plot.line()"
   ]
  },
  {
   "cell_type": "code",
   "execution_count": null,
   "id": "a8b63efd",
   "metadata": {},
   "outputs": [],
   "source": [
    "name = 'hist_gradient_boosting'\n",
    "features=None\n",
    "features=['PLAYER_GOALS_CONCEDED_season_average', 'PLAYER_KEY_PASSES_season_average', 'PLAYER_CLEARANCES_5_last_match_std', 'PLAYER_FOULS_DRAWN_5_last_match_std', 'PLAYER_BIG_CHANCES_CREATED_season_std', 'PLAYER_SHOTS_BLOCKED_5_last_match_std', 'PLAYER_FOULS_5_last_match_average', 'PLAYER_AERIALS_WON_season_sum']\n",
    "df = test_features(name, features=features)\n",
    "df[['score']].plot.line()"
   ]
  },
  {
   "cell_type": "code",
   "execution_count": null,
   "id": "e936d223",
   "metadata": {},
   "outputs": [],
   "source": [
    "name = 'xgb_classifier'\n",
    "features=None\n",
    "features=['PLAYER_GOALS_CONCEDED_season_average', 'PLAYER_YELLOWCARDS_5_last_match_std', 'PLAYER_GOALS_season_sum', 'PLAYER_KEY_PASSES_season_average', 'PLAYER_STARTING_LINEUP_season_sum', 'PLAYER_FOULS_DRAWN_5_last_match_std', 'PLAYER_BIG_CHANCES_MISSED_season_average', 'PLAYER_ASSISTS_5_last_match_std', 'PLAYER_MINUTES_PLAYED_season_std', 'PLAYER_PENALTIES_WON_season_average', 'PLAYER_REDCARDS_season_average', 'PLAYER_KEY_PASSES_5_last_match_sum', 'PLAYER_PENALTIES_SAVED_5_last_match_sum']\n",
    "df = test_features(name, features=features)\n",
    "df[['score']].plot.line()"
   ]
  },
  {
   "cell_type": "code",
   "execution_count": null,
   "id": "85bdd811",
   "metadata": {},
   "outputs": [],
   "source": [
    "name = 'catboost'\n",
    "features=None \n",
    "features=['PLAYER_GOALS_CONCEDED_season_average', 'PLAYER_KEY_PASSES_season_average', 'PLAYER_BIG_CHANCES_CREATED_5_last_match_std', 'PLAYER_DISPOSSESSED_season_std', 'PLAYER_BIG_CHANCES_CREATED_season_std', 'PLAYER_FOULS_5_last_match_average', 'PLAYER_FOULS_5_last_match_sum', 'PLAYER_SAVES_5_last_match_average']\n",
    "df = test_features(name, features=features)\n",
    "df[['score']].plot.line()"
   ]
  },
  {
   "cell_type": "code",
   "execution_count": null,
   "id": "ed850f35",
   "metadata": {},
   "outputs": [],
   "source": [
    "name = 'mlp'\n",
    "features=None\n",
    "features=['PLAYER_GOALS_CONCEDED_season_average', 'PLAYER_GOALS_CONCEDED_5_last_match_std', 'PLAYER_CLEARANCES_season_average', 'PLAYER_ACCURATE_PASSES_5_last_match_average', 'PLAYER_OFFSIDES_5_last_match_sum', 'PLAYER_SHOTS_BLOCKED_5_last_match_average']\n",
    "features=['PLAYER_GOALS_CONCEDED_season_average', 'PLAYER_GOALS_CONCEDED_5_last_match_std']\n",
    "df = test_features(name, features=features)\n",
    "df[['score']].plot.line()"
   ]
  },
  {
   "cell_type": "code",
   "execution_count": null,
   "id": "50f7dadf",
   "metadata": {},
   "outputs": [],
   "source": [
    "plot_features(f'../data/output/{type}/features/')"
   ]
  },
  {
   "cell_type": "code",
   "execution_count": null,
   "id": "95f02266",
   "metadata": {},
   "outputs": [],
   "source": [
    "plot_features(f'../data/output/{type}/all_features/')"
   ]
  }
 ],
 "metadata": {
  "kernelspec": {
   "display_name": "Python 3 (ipykernel)",
   "language": "python",
   "name": "python3"
  },
  "language_info": {
   "codemirror_mode": {
    "name": "ipython",
    "version": 3
   },
   "file_extension": ".py",
   "mimetype": "text/x-python",
   "name": "python",
   "nbconvert_exporter": "python",
   "pygments_lexer": "ipython3",
   "version": "3.11.7"
  }
 },
 "nbformat": 4,
 "nbformat_minor": 5
}
