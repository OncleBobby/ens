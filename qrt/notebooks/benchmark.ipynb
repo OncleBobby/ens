{
 "cells": [
  {
   "cell_type": "code",
   "execution_count": null,
   "id": "cfdea75f",
   "metadata": {},
   "outputs": [],
   "source": [
    "%load_ext autoreload\n",
    "%autoreload 2\n",
    "import sys, warnings, time, numpy, yaml, pandas\n",
    "sys.path.append(\"../src/\") # go to parent dir\n",
    "from data_access import get_X, get_y, get_train_test\n",
    "from models.factory import ModelFactory\n",
    "warnings.filterwarnings('ignore')"
   ]
  },
  {
   "cell_type": "code",
   "execution_count": null,
   "id": "f766bfa6",
   "metadata": {},
   "outputs": [],
   "source": [
    "train_data = get_X('train')\n",
    "train_scores = get_y()\n",
    "test_data = get_X('test')\n",
    "X_train, y_train, X_test, y_test, target = get_train_test(train_size=0.8, random_state=42)"
   ]
  },
  {
   "cell_type": "code",
   "execution_count": null,
   "id": "b917b69e",
   "metadata": {},
   "outputs": [],
   "source": [
    "def eval_model(model, save_model=False):\n",
    "    start = time.time()\n",
    "    model.fit()\n",
    "    score = model.evaluate(X_test)\n",
    "    end = time.time()\n",
    "    print(f'{model.name}={score} in {numpy.round((end-start), 2)}s')\n",
    "    if save_model:\n",
    "        model.save(test_data)\n",
    "    return {'name': model.name, 'score': score, 'time': numpy.round((end-start), 2)}"
   ]
  },
  {
   "cell_type": "code",
   "execution_count": null,
   "id": "db21ca92",
   "metadata": {},
   "outputs": [],
   "source": [
    "%load_ext autoreload\n",
    "%autoreload 2\n",
    "def eval_model_for_name(name):\n",
    "    with open('../confs/models.yaml', 'r') as file:\n",
    "        configurations = yaml.safe_load(file)\n",
    "    factory = ModelFactory(configurations, X_train, y_train, train_scores)\n",
    "    model = factory.get_model(name)\n",
    "    return eval_model(model)"
   ]
  },
  {
   "cell_type": "code",
   "execution_count": null,
   "id": "7815d4af",
   "metadata": {},
   "outputs": [],
   "source": [
    "names = ['dummy', 'random_forest']\n",
    "names= ['xgb_gblinear', 'catboost', 'random_forest', 'gradient_boosting', 'ada_boost', 'extra_trees', 'hist_gradient_boosting']\n",
    "for name in names:\n",
    "    eval_model_for_name(name)"
   ]
  },
  {
   "cell_type": "code",
   "execution_count": null,
   "id": "fdc703a8",
   "metadata": {},
   "outputs": [],
   "source": [
    "%load_ext autoreload\n",
    "%autoreload 2\n",
    "from models.stacking_model import StackingModel\n",
    "names= ['catboost', 'random_forest', 'gradient_boosting', 'ada_boost', 'extra_trees', 'hist_gradient_boosting']\n",
    "# names= ['catboost', 'random_forest']\n",
    "# names= ['random_forest']\n",
    "with open('../confs/models.yaml', 'r') as file:\n",
    "    configurations = yaml.safe_load(file)\n",
    "factory = ModelFactory(configurations, X_train, y_train, train_scores)\n",
    "params = {'estimators': {name:factory.get_model(name) for name in names}}\n",
    "\n",
    "model = StackingModel(X_train, y_train, train_scores, params)\n",
    "line = eval_model(model)\n",
    "model.name = 'stacking_classifier'\n",
    "model.save(test_data)"
   ]
  },
  {
   "cell_type": "code",
   "execution_count": null,
   "id": "fafb2c6c",
   "metadata": {},
   "outputs": [],
   "source": [
    "score = model.evaluate(X_test)\n",
    "print(f'{model.name}={score}')"
   ]
  },
  {
   "cell_type": "code",
   "execution_count": null,
   "id": "6c4d587f",
   "metadata": {},
   "outputs": [],
   "source": [
    "%load_ext autoreload\n",
    "%autoreload 2\n",
    "save_model = True\n",
    "with open('../confs/models.yaml', 'r') as file:\n",
    "    configurations = yaml.safe_load(file)\n",
    "factory = ModelFactory(configurations, X_train, y_train, train_scores)\n",
    "lines = []\n",
    "for model in factory.get_models():\n",
    "    model.fit()\n",
    "    score = model.evaluate(X_test)\n",
    "    lines.append(eval_model(model, save_model))\n",
    "df = pandas.DataFrame(lines)\n",
    "df = df.sort_values(by=['score'], ascending=False)"
   ]
  },
  {
   "cell_type": "code",
   "execution_count": null,
   "id": "6fde6915",
   "metadata": {},
   "outputs": [],
   "source": [
    "df=df.sort_values(by=['score'], ascending=False)\n",
    "print(df.sort_values(by=['score'], ascending=False))\n",
    "df.to_csv('../data/result.csv')"
   ]
  }
 ],
 "metadata": {
  "kernelspec": {
   "display_name": "Python 3 (ipykernel)",
   "language": "python",
   "name": "python3"
  },
  "language_info": {
   "codemirror_mode": {
    "name": "ipython",
    "version": 3
   },
   "file_extension": ".py",
   "mimetype": "text/x-python",
   "name": "python",
   "nbconvert_exporter": "python",
   "pygments_lexer": "ipython3",
   "version": "3.11.7"
  }
 },
 "nbformat": 4,
 "nbformat_minor": 5
}
