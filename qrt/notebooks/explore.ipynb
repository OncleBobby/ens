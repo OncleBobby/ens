{
 "cells": [
  {
   "cell_type": "code",
   "execution_count": null,
   "id": "cfdea75f",
   "metadata": {},
   "outputs": [],
   "source": [
    "%load_ext autoreload\n",
    "%autoreload 2\n",
    "import sys, warnings, yaml, logging.config\n",
    "sys.path.append(\"../src/\") # go to parent dir\n",
    "from data_access import get_X, get_y, read_statistics\n",
    "warnings.filterwarnings('ignore')\n",
    "with open('../confs/logs.yaml', 'rt') as f:\n",
    "    config = yaml.safe_load(f.read())\n",
    "logging.config.dictConfig(config)"
   ]
  },
  {
   "cell_type": "markdown",
   "id": "7e1d16ba",
   "metadata": {},
   "source": [
    "## Read Train data"
   ]
  },
  {
   "cell_type": "code",
   "execution_count": null,
   "id": "3a12ee53",
   "metadata": {},
   "outputs": [],
   "source": [
    "home_team = read_statistics('home_team', 'train')\n",
    "home_team.head()\n",
    "home_team.describe()\n",
    "# for column in home_team.columns:\n",
    "#     logging.info(column)"
   ]
  },
  {
   "cell_type": "code",
   "execution_count": null,
   "id": "48fd3767",
   "metadata": {},
   "outputs": [],
   "source": [
    "home_player = read_statistics('home_player', 'train')\n",
    "home_player.head()\n",
    "home_player.describe()\n",
    "# for column in home_player.columns:\n",
    "#     logging.info(column)"
   ]
  },
  {
   "cell_type": "code",
   "execution_count": null,
   "id": "208cc4f1",
   "metadata": {},
   "outputs": [],
   "source": [
    "train_scores = get_y()\n",
    "train_scores.head()"
   ]
  },
  {
   "cell_type": "code",
   "execution_count": null,
   "id": "c075ec57",
   "metadata": {},
   "outputs": [],
   "source": [
    "train_scores['target'] = train_scores['HOME_WINS'] + train_scores['AWAY_WINS'] *-1"
   ]
  },
  {
   "cell_type": "code",
   "execution_count": null,
   "id": "19aa5915",
   "metadata": {},
   "outputs": [],
   "source": [
    "import pandas, numpy\n",
    "name = 'train'\n",
    "home_team = read_statistics('home_team', name)\n",
    "away_team = read_statistics('away_team', name)\n",
    "home_team = home_team.iloc[:,2:]\n",
    "away_team = away_team.iloc[:,2:]\n",
    "data =  home_team.iloc[:,2:] + away_team.iloc[:,2:] * -1\n",
    "data = data.replace({numpy.inf:numpy.nan, -numpy.inf:numpy.nan})\n",
    "data"
   ]
  }
 ],
 "metadata": {
  "kernelspec": {
   "display_name": "Python 3 (ipykernel)",
   "language": "python",
   "name": "python3"
  },
  "language_info": {
   "codemirror_mode": {
    "name": "ipython",
    "version": 3
   },
   "file_extension": ".py",
   "mimetype": "text/x-python",
   "name": "python",
   "nbconvert_exporter": "python",
   "pygments_lexer": "ipython3",
   "version": "3.11.7"
  }
 },
 "nbformat": 4,
 "nbformat_minor": 5
}
