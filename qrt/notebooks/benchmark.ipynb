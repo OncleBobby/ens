{
 "cells": [
  {
   "cell_type": "code",
   "execution_count": null,
   "id": "cfdea75f",
   "metadata": {},
   "outputs": [],
   "source": [
    "%load_ext autoreload\n",
    "%autoreload 2\n",
    "import sys, warnings, time, numpy, yaml\n",
    "sys.path.append(\"../src/\") # go to parent dir\n",
    "from data_access import get_X, get_y, get_train_test\n",
    "from models.factory import ModelFactory\n",
    "from models.xgboost_model import XgboostModel\n",
    "warnings.filterwarnings('ignore')"
   ]
  },
  {
   "cell_type": "code",
   "execution_count": null,
   "id": "f766bfa6",
   "metadata": {},
   "outputs": [],
   "source": [
    "train_data = get_X('train')\n",
    "train_scores = get_y()\n",
    "test_data = get_X('test')\n",
    "X_train, y_train, X_test, y_test, X_valid, y_valid, target = get_train_test(train_size=0.8, random_state=42)"
   ]
  },
  {
   "cell_type": "code",
   "execution_count": null,
   "id": "282620c0",
   "metadata": {},
   "outputs": [],
   "source": [
    "%load_ext autoreload\n",
    "%autoreload 2\n",
    "model = XgboostModel(X_train, y_train, X_valid, y_valid, train_scores)\n",
    "model.train()\n",
    "model.evaluate(X_test)"
   ]
  },
  {
   "cell_type": "code",
   "execution_count": null,
   "id": "3560d3a3",
   "metadata": {},
   "outputs": [],
   "source": [
    "params_by_name={\n",
    "    'benchmark2': {\n",
    "          'booster': 'gbtree',\n",
    "          'tree_method':'hist',\n",
    "          'max_depth': 8, \n",
    "          'learning_rate': 0.025,\n",
    "          'objective': 'multi:softprob',\n",
    "          'num_class': 2,\n",
    "          'eval_metric':'mlogloss'\n",
    "        },\n",
    "    'benchmark3': {\n",
    "          'booster': 'gblinear',\n",
    "          'tree_method':'hist',\n",
    "          'max_depth': 8, \n",
    "          'learning_rate': 0.025,\n",
    "          'objective': 'multi:softprob',\n",
    "          'num_class': 2,\n",
    "          'eval_metric':'mlogloss'\n",
    "        },\n",
    "}\n",
    "for name, params in params_by_name.items():\n",
    "    model = XgboostModel(X_train, y_train, X_valid, y_valid, train_scores, params)\n",
    "    model.train()\n",
    "    model.evaluate(X_test)\n",
    "    model.name = name\n",
    "    model.save(test_data)"
   ]
  },
  {
   "cell_type": "code",
   "execution_count": null,
   "id": "58fb2a42",
   "metadata": {},
   "outputs": [],
   "source": [
    "%load_ext autoreload\n",
    "%autoreload 2\n",
    "def get_params(booster, tree_method, eval_metric='mlogloss'):\n",
    "    return {\n",
    "          'booster': booster,\n",
    "          'tree_method': tree_method,\n",
    "          'max_depth': 8, \n",
    "          'learning_rate': 0.025,\n",
    "          'objective': 'multi:softprob',\n",
    "          'num_class': 2,\n",
    "          'eval_metric':eval_metric\n",
    "        }\n",
    "# boosters = ['gbtree', 'gblinear', 'dart']\n",
    "boosters = ['gblinear']\n",
    "# tree_methods = ['auto', 'exact', 'approx', 'hist']\n",
    "tree_methods = ['hist']\n",
    "# eval_metrics = ['mphe', 'merror', 'mlogloss', 'auc']\n",
    "eval_metrics = ['mlogloss']\n",
    "for booster in boosters:\n",
    "    for tree_method in tree_methods:\n",
    "        for eval_metric in eval_metrics:\n",
    "          start = time.time()\n",
    "          name = f'{booster}_{tree_method}_{eval_metric}'\n",
    "          params = get_params(booster, tree_method, eval_metric)\n",
    "          model = XgboostModel(X_train, y_train, X_valid, y_valid, train_scores, params)\n",
    "          model.train()\n",
    "          score = model.evaluate(X_test)\n",
    "          end = time.time()\n",
    "          print(f'{name}={score} in {numpy.round((end-start), 2)}s')"
   ]
  },
  {
   "cell_type": "code",
   "execution_count": null,
   "id": "6c4d587f",
   "metadata": {},
   "outputs": [],
   "source": [
    "%load_ext autoreload\n",
    "%autoreload 2\n",
    "with open('../confs/models.yaml', 'r') as file:\n",
    "    configurations = yaml.safe_load(file)\n",
    "factory = ModelFactory(configurations, X_train, y_train, X_valid, y_valid, train_scores)\n",
    "for model in factory.get_models():\n",
    "    start = time.time()\n",
    "    model.train()\n",
    "    score = model.evaluate(X_test)\n",
    "    end = time.time()\n",
    "    print(f'{name}={score} in {numpy.round((end-start), 2)}s')"
   ]
  }
 ],
 "metadata": {
  "kernelspec": {
   "display_name": "Python 3 (ipykernel)",
   "language": "python",
   "name": "python3"
  },
  "language_info": {
   "codemirror_mode": {
    "name": "ipython",
    "version": 3
   },
   "file_extension": ".py",
   "mimetype": "text/x-python",
   "name": "python",
   "nbconvert_exporter": "python",
   "pygments_lexer": "ipython3",
   "version": "3.12.1"
  }
 },
 "nbformat": 4,
 "nbformat_minor": 5
}
