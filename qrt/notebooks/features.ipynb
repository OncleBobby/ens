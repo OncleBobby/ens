{
 "cells": [
  {
   "cell_type": "markdown",
   "id": "b73ad84d",
   "metadata": {},
   "source": [
    "# Initialization"
   ]
  },
  {
   "cell_type": "code",
   "execution_count": null,
   "id": "cfdea75f",
   "metadata": {},
   "outputs": [],
   "source": [
    "%load_ext autoreload\n",
    "%autoreload 2\n",
    "import sys, warnings, time, numpy, yaml, pandas, logging\n",
    "sys.path.append(\"../src/\") # go to parent dir\n",
    "from data_access import get_X, get_y, get_train_test\n",
    "from models.factory import ModelFactory\n",
    "warnings.filterwarnings('ignore')\n",
    "with open('../confs/logs.yaml', 'rt') as f:\n",
    "    config = yaml.safe_load(f.read())\n",
    "logging.config.dictConfig(config)"
   ]
  },
  {
   "cell_type": "code",
   "execution_count": null,
   "id": "f766bfa6",
   "metadata": {},
   "outputs": [],
   "source": [
    "X_train, y_train, X_test, y_test, target = get_train_test(train_size=0.8, random_state=42)\n",
    "train_scores = get_y()\n",
    "test_data = get_X('test')\n",
    "# features = ['TEAM_GAME_WON_season_sum', 'TEAM_GAME_WON_season_average', 'TEAM_SHOTS_ON_TARGET_season_average', 'TEAM_SHOTS_ON_TARGET_season_sum', 'TEAM_GAME_LOST_season_sum', 'TEAM_GAME_LOST_season_average', 'TEAM_ATTACKS_season_average', 'TEAM_BALL_POSSESSION_season_average', 'TEAM_SHOTS_TOTAL_season_average', 'TEAM_SHOTS_INSIDEBOX_season_average', 'TEAM_DANGEROUS_ATTACKS_season_sum', 'TEAM_GOALS_season_average', 'TEAM_YELLOWCARDS_5_last_match_std', 'TEAM_GOALS_season_sum', 'TEAM_CORNERS_season_average', 'TEAM_SHOTS_ON_TARGET_5_last_match_std', 'TEAM_YELLOWCARDS_season_std', 'TEAM_ATTACKS_5_last_match_std', 'TEAM_DANGEROUS_ATTACKS_season_average', 'TEAM_SHOTS_OFF_TARGET_season_std']\n",
    "# features = ['TEAM_GAME_WON_season_sum', 'TEAM_GOALS_season_average', 'TEAM_SHOTS_ON_TARGET_season_average', 'TEAM_GAME_LOST_season_sum', 'TEAM_GAME_WON_season_average', 'TEAM_GAME_LOST_season_average', 'TEAM_DANGEROUS_ATTACKS_season_sum', 'TEAM_BALL_POSSESSION_season_average', 'TEAM_SHOTS_INSIDEBOX_season_average', 'TEAM_GOALS_season_sum', 'TEAM_CORNERS_season_sum', 'TEAM_SHOTS_TOTAL_season_average', 'TEAM_ATTACKS_season_average', 'TEAM_YELLOWCARDS_5_last_match_std', 'TEAM_ATTACKS_5_last_match_std', 'TEAM_SHOTS_ON_TARGET_season_sum', 'TEAM_SHOTS_ON_TARGET_5_last_match_std', 'TEAM_BALL_POSSESSION_season_std', 'TEAM_BALL_SAFE_season_std', 'TEAM_DANGEROUS_ATTACKS_season_average', 'TEAM_BALL_SAFE_season_average', 'TEAM_SHOTS_OFF_TARGET_5_last_match_std', 'TEAM_CORNERS_season_average', 'TEAM_BALL_SAFE_5_last_match_average', 'TEAM_DANGEROUS_ATTACKS_season_std', 'TEAM_CORNERS_5_last_match_std', 'TEAM_ATTACKS_season_sum', 'TEAM_ATTACKS_season_std', 'TEAM_PENALTIES_season_std', 'TEAM_DANGEROUS_ATTACKS_5_last_match_std', 'TEAM_BALL_POSSESSION_5_last_match_std', 'TEAM_BALL_POSSESSION_5_last_match_average', 'TEAM_CORNERS_5_last_match_sum', 'TEAM_SAVES_5_last_match_std', 'TEAM_BALL_SAFE_5_last_match_std', 'TEAM_SHOTS_ON_TARGET_season_std', 'TEAM_SHOTS_OFF_TARGET_season_std', 'TEAM_GAME_DRAW_season_sum', 'TEAM_SAVES_season_std', 'TEAM_GOALS_5_last_match_std', 'TEAM_OFFSIDES_5_last_match_std', 'TEAM_OFFSIDES_season_std', 'TEAM_FOULS_season_std', 'TEAM_SHOTS_OUTSIDEBOX_5_last_match_std', 'TEAM_SUBSTITUTIONS_season_std', 'TEAM_YELLOWCARDS_season_std', 'TEAM_CORNERS_season_std', 'TEAM_SAVES_season_average', 'TEAM_CORNERS_5_last_match_average', 'TEAM_SAVES_season_sum', 'TEAM_FOULS_5_last_match_std', 'TEAM_YELLOWCARDS_5_last_match_sum', 'TEAM_BALL_SAFE_season_sum', 'TEAM_SUBSTITUTIONS_season_average', 'TEAM_REDCARDS_season_std', 'TEAM_YELLOWCARDS_season_sum', 'TEAM_OFFSIDES_season_sum', 'TEAM_SUBSTITUTIONS_5_last_match_std', 'TEAM_PENALTIES_season_average', 'TEAM_GAME_DRAW_season_average', 'TEAM_GOALS_season_std', 'TEAM_PENALTIES_season_sum', 'TEAM_BALL_SAFE_5_last_match_sum', 'TEAM_SHOTS_TOTAL_season_std', 'TEAM_GOALS_5_last_match_average', 'TEAM_SHOTS_INSIDEBOX_season_std', 'TEAM_SHOTS_TOTAL_5_last_match_std', 'TEAM_YELLOWCARDS_season_average', 'TEAM_SHOTS_INSIDEBOX_5_last_match_std', 'TEAM_SUCCESSFUL_PASSES_PERCENTAGE_5_last_match_std', 'TEAM_SUBSTITUTIONS_season_sum', 'TEAM_OFFSIDES_5_last_match_sum', 'TEAM_OFFSIDES_season_average', 'TEAM_YELLOWCARDS_5_last_match_average', 'TEAM_OFFSIDES_5_last_match_average', 'TEAM_ATTACKS_5_last_match_average', 'TEAM_SHOTS_OUTSIDEBOX_season_std', 'TEAM_SHOTS_OFF_TARGET_season_sum', 'TEAM_SAVES_5_last_match_average', 'TEAM_SHOTS_OFF_TARGET_5_last_match_average', 'TEAM_SHOTS_ON_TARGET_5_last_match_average', 'TEAM_SHOTS_ON_TARGET_5_last_match_sum', 'TEAM_SUCCESSFUL_PASSES_season_std', 'TEAM_REDCARDS_season_sum', 'TEAM_FOULS_season_average', 'TEAM_INJURIES_5_last_match_sum', 'TEAM_SUCCESSFUL_PASSES_PERCENTAGE_season_std', 'TEAM_INJURIES_season_sum', 'TEAM_REDCARDS_season_average', 'TEAM_SHOTS_TOTAL_5_last_match_average', 'TEAM_SHOTS_OFF_TARGET_5_last_match_sum', 'TEAM_FOULS_season_sum', 'TEAM_DANGEROUS_ATTACKS_5_last_match_sum', 'TEAM_GOALS_5_last_match_sum', 'TEAM_SHOTS_OFF_TARGET_season_average', 'TEAM_SAVES_5_last_match_sum', 'TEAM_PASSES_season_std', 'TEAM_ATTACKS_5_last_match_sum', 'TEAM_SUBSTITUTIONS_5_last_match_average', 'TEAM_DANGEROUS_ATTACKS_5_last_match_average', 'TEAM_FOULS_5_last_match_sum', 'TEAM_GAME_LOST_5_last_match_average', 'TEAM_INJURIES_season_std', 'TEAM_SUBSTITUTIONS_5_last_match_sum', 'TEAM_PASSES_5_last_match_std', 'TEAM_SUCCESSFUL_PASSES_PERCENTAGE_season_average', 'TEAM_SHOTS_TOTAL_5_last_match_sum', 'TEAM_INJURIES_5_last_match_average', 'TEAM_SUCCESSFUL_PASSES_5_last_match_std', 'TEAM_SHOTS_INSIDEBOX_5_last_match_sum', 'TEAM_INJURIES_5_last_match_std', 'TEAM_FOULS_5_last_match_average', 'TEAM_INJURIES_season_average', 'TEAM_SHOTS_OUTSIDEBOX_season_average', 'TEAM_GAME_WON_5_last_match_average', 'TEAM_SHOTS_OUTSIDEBOX_season_sum', 'TEAM_GAME_WON_5_last_match_sum', 'TEAM_PASSES_season_average', 'TEAM_PENALTIES_5_last_match_std', 'TEAM_GAME_DRAW_5_last_match_sum', 'TEAM_SUCCESSFUL_PASSES_season_average', 'TEAM_GAME_LOST_5_last_match_sum', 'TEAM_SUCCESSFUL_PASSES_PERCENTAGE_5_last_match_average', 'TEAM_SHOTS_INSIDEBOX_5_last_match_average', 'TEAM_PASSES_season_sum', 'TEAM_GAME_DRAW_5_last_match_average', 'TEAM_SUCCESSFUL_PASSES_season_sum', 'TEAM_SHOTS_OUTSIDEBOX_5_last_match_average', 'TEAM_SHOTS_OUTSIDEBOX_5_last_match_sum', 'TEAM_SUCCESSFUL_PASSES_5_last_match_sum', 'TEAM_PENALTIES_5_last_match_average', 'TEAM_PENALTIES_5_last_match_sum', 'TEAM_REDCARDS_5_last_match_std', 'TEAM_PASSES_5_last_match_average', 'TEAM_SUCCESSFUL_PASSES_5_last_match_average', 'TEAM_PASSES_5_last_match_sum', 'TEAM_REDCARDS_5_last_match_average', 'TEAM_REDCARDS_5_last_match_sum']\n",
    "# features=['TEAM_GAME_WON_season_average', 'TEAM_SHOTS_TOTAL_season_average', 'TEAM_SHOTS_ON_TARGET_5_last_match_std', 'TEAM_ATTACKS_5_last_match_std', 'TEAM_BALL_SAFE_season_std', 'TEAM_SHOTS_OFF_TARGET_5_last_match_std', 'TEAM_SUCCESSFUL_PASSES_PERCENTAGE_5_last_match_std', 'TEAM_YELLOWCARDS_season_std', 'TEAM_SAVES_5_last_match_std', 'TEAM_SHOTS_OFF_TARGET_season_std', 'TEAM_ATTACKS_season_std', 'TEAM_OFFSIDES_season_std', 'TEAM_DANGEROUS_ATTACKS_season_std', 'TEAM_INJURIES_season_std', 'TEAM_BALL_POSSESSION_season_std', 'TEAM_YELLOWCARDS_5_last_match_std', 'TEAM_FOULS_5_last_match_std', 'TEAM_OFFSIDES_5_last_match_std', 'TEAM_BALL_SAFE_5_last_match_std', 'TEAM_BALL_POSSESSION_5_last_match_std', 'TEAM_SAVES_season_std', 'TEAM_SAVES_season_average', 'TEAM_BALL_SAFE_season_average', 'TEAM_SHOTS_INSIDEBOX_season_average', 'TEAM_OFFSIDES_season_average', 'TEAM_SUBSTITUTIONS_season_average', 'TEAM_BALL_SAFE_5_last_match_sum', 'TEAM_GAME_LOST_season_sum', 'TEAM_FOULS_season_std', 'TEAM_SHOTS_INSIDEBOX_5_last_match_sum', 'TEAM_PASSES_5_last_match_std', 'TEAM_ATTACKS_season_average', 'TEAM_INJURIES_5_last_match_std', 'TEAM_INJURIES_season_sum', 'TEAM_PASSES_season_std', 'TEAM_BALL_SAFE_season_sum', 'TEAM_SUBSTITUTIONS_season_std', 'TEAM_DANGEROUS_ATTACKS_5_last_match_std', 'TEAM_GAME_LOST_season_average', 'TEAM_SHOTS_ON_TARGET_season_sum', 'TEAM_GOALS_season_sum', 'TEAM_CORNERS_5_last_match_std', 'TEAM_SHOTS_OUTSIDEBOX_5_last_match_std', 'TEAM_OFFSIDES_season_sum', 'TEAM_INJURIES_5_last_match_average', 'TEAM_GOALS_5_last_match_std', 'TEAM_SHOTS_TOTAL_season_std', 'TEAM_CORNERS_season_std', 'TEAM_SHOTS_OUTSIDEBOX_season_std', 'TEAM_CORNERS_season_sum', 'TEAM_GAME_DRAW_season_average', 'TEAM_CORNERS_season_average', 'TEAM_SHOTS_INSIDEBOX_5_last_match_std', 'TEAM_REDCARDS_season_std', 'TEAM_FOULS_5_last_match_sum', 'TEAM_GAME_DRAW_5_last_match_sum', 'TEAM_GAME_WON_5_last_match_sum', 'TEAM_SHOTS_TOTAL_5_last_match_std', 'TEAM_GAME_WON_season_sum', 'TEAM_YELLOWCARDS_5_last_match_sum', 'TEAM_SHOTS_OFF_TARGET_season_average', 'TEAM_SHOTS_ON_TARGET_season_std', 'TEAM_PENALTIES_5_last_match_std', 'TEAM_GAME_DRAW_season_sum', 'TEAM_SUCCESSFUL_PASSES_PERCENTAGE_season_average', 'TEAM_BALL_POSSESSION_season_average', 'TEAM_SUBSTITUTIONS_season_sum', 'TEAM_DANGEROUS_ATTACKS_season_average', 'TEAM_GOALS_season_std', 'TEAM_PENALTIES_season_std', 'TEAM_FOULS_season_average', 'TEAM_SUCCESSFUL_PASSES_PERCENTAGE_season_std', 'TEAM_REDCARDS_season_average', 'TEAM_SAVES_5_last_match_sum', 'TEAM_ATTACKS_season_sum', 'TEAM_INJURIES_season_average', 'TEAM_FOULS_season_sum', 'TEAM_CORNERS_5_last_match_sum', 'TEAM_DANGEROUS_ATTACKS_season_sum', 'TEAM_YELLOWCARDS_season_sum', 'TEAM_SUCCESSFUL_PASSES_season_std', 'TEAM_DANGEROUS_ATTACKS_5_last_match_sum', 'TEAM_OFFSIDES_5_last_match_sum', 'TEAM_SHOTS_OUTSIDEBOX_season_average', 'TEAM_SHOTS_ON_TARGET_5_last_match_sum', 'TEAM_SUBSTITUTIONS_5_last_match_std', 'TEAM_PENALTIES_season_sum', 'TEAM_BALL_SAFE_5_last_match_average', 'TEAM_REDCARDS_5_last_match_std', 'TEAM_SHOTS_OUTSIDEBOX_5_last_match_sum', 'TEAM_INJURIES_5_last_match_sum', 'TEAM_SAVES_season_sum', 'TEAM_SUCCESSFUL_PASSES_PERCENTAGE_5_last_match_average', 'TEAM_SHOTS_INSIDEBOX_season_std', 'TEAM_SUBSTITUTIONS_5_last_match_average', 'TEAM_PASSES_season_average', 'TEAM_SUCCESSFUL_PASSES_5_last_match_std', 'TEAM_REDCARDS_season_sum', 'TEAM_GOALS_5_last_match_average', 'TEAM_PASSES_season_sum', 'TEAM_GAME_LOST_5_last_match_sum', 'TEAM_SUBSTITUTIONS_5_last_match_sum', 'TEAM_BALL_POSSESSION_5_last_match_average', 'TEAM_GOALS_5_last_match_sum', 'TEAM_CORNERS_5_last_match_average', 'TEAM_GOALS_season_average', 'TEAM_ATTACKS_5_last_match_sum', 'TEAM_SHOTS_ON_TARGET_season_average', 'TEAM_SHOTS_OFF_TARGET_season_sum', 'TEAM_PENALTIES_5_last_match_sum', 'TEAM_SHOTS_TOTAL_5_last_match_sum', 'TEAM_SHOTS_OUTSIDEBOX_5_last_match_average', 'TEAM_SUCCESSFUL_PASSES_5_last_match_sum', 'TEAM_SHOTS_TOTAL_5_last_match_average', 'TEAM_PASSES_5_last_match_sum', 'TEAM_SHOTS_INSIDEBOX_5_last_match_average', 'TEAM_ATTACKS_5_last_match_average', 'TEAM_YELLOWCARDS_season_average', 'TEAM_SHOTS_OFF_TARGET_5_last_match_sum', 'TEAM_YELLOWCARDS_5_last_match_average', 'TEAM_SUCCESSFUL_PASSES_season_sum', 'TEAM_OFFSIDES_5_last_match_average', 'TEAM_SUCCESSFUL_PASSES_season_average', 'TEAM_SAVES_5_last_match_average', 'TEAM_DANGEROUS_ATTACKS_5_last_match_average', 'TEAM_SHOTS_OFF_TARGET_5_last_match_average', 'TEAM_PENALTIES_season_average', 'TEAM_PASSES_5_last_match_average', 'TEAM_FOULS_5_last_match_average', 'TEAM_SHOTS_OUTSIDEBOX_season_sum', 'TEAM_REDCARDS_5_last_match_sum', 'TEAM_SUCCESSFUL_PASSES_5_last_match_average', 'TEAM_SHOTS_ON_TARGET_5_last_match_average', 'TEAM_PENALTIES_5_last_match_average', 'TEAM_GAME_WON_5_last_match_average', 'TEAM_REDCARDS_5_last_match_average', 'TEAM_GAME_LOST_5_last_match_average', 'TEAM_GAME_DRAW_5_last_match_average']\n",
    "# features=features[:20]\n",
    "# X_train = X_train[features]\n",
    "# X_test = X_test[features]\n",
    "# test_data = test_data[features]"
   ]
  },
  {
   "cell_type": "code",
   "execution_count": null,
   "id": "b917b69e",
   "metadata": {},
   "outputs": [],
   "source": [
    "def eval_model(model, save_model=False, X=X_test):\n",
    "    start = time.time()\n",
    "    model.fit()\n",
    "    score = model.evaluate(X)\n",
    "    end = time.time()\n",
    "    logging.info(f'{model.name}={score} in {numpy.round((end-start), 2)}s')\n",
    "    if save_model:\n",
    "        model.save(test_data)\n",
    "    return {'name': model.name, 'score': score, 'time': numpy.round((end-start), 2)}"
   ]
  },
  {
   "cell_type": "code",
   "execution_count": null,
   "id": "db21ca92",
   "metadata": {},
   "outputs": [],
   "source": [
    "%load_ext autoreload\n",
    "%autoreload 2\n",
    "def eval_model_for_name(name, X=X_train, y=y_train):\n",
    "    with open('../confs/models.yaml', 'r') as file:\n",
    "        configurations = yaml.safe_load(file)\n",
    "    factory = ModelFactory(configurations, X, y, train_scores)\n",
    "    model = factory.get_model(name)\n",
    "    return eval_model(model)"
   ]
  },
  {
   "cell_type": "code",
   "execution_count": null,
   "id": "06cc2593",
   "metadata": {},
   "outputs": [],
   "source": [
    "def get_features(name = 'random_forest'):\n",
    "    with open('../confs/models.yaml', 'r') as file:\n",
    "        configurations = yaml.safe_load(file)\n",
    "    factory = ModelFactory(configurations, X_train, y_train, train_scores)\n",
    "    model = factory.get_model(name)\n",
    "    eval_model(model)\n",
    "    df_importances = model.get_feature_importances()\n",
    "    return list(df_importances['feature'])"
   ]
  },
  {
   "cell_type": "markdown",
   "id": "1ec35fa9",
   "metadata": {},
   "source": [
    "# Feature importances"
   ]
  },
  {
   "cell_type": "code",
   "execution_count": null,
   "id": "8e7eb706",
   "metadata": {},
   "outputs": [],
   "source": [
    "names= ['random_forest', 'lightgbm', 'xgb_gblinear']\n",
    "# for name in names:\n",
    "#     logging.info(f'{name}: {get_features(name)}')\n",
    "features = get_features(name = 'random_forest')\n",
    "logging.info(features)\n",
    "# features=['TEAM_GAME_WON_season_average', 'TEAM_GAME_LOST_season_average', 'TEAM_GOALS_season_sum', 'TEAM_GAME_LOST_season_sum', 'TEAM_SHOTS_INSIDEBOX_season_average', 'TEAM_BALL_POSSESSION_season_average', 'TEAM_CORNERS_season_sum', 'TEAM_DANGEROUS_ATTACKS_season_average', 'TEAM_BALL_POSSESSION_5_last_match_average', 'TEAM_ATTACKS_5_last_match_std', 'TEAM_YELLOWCARDS_5_last_match_std', 'TEAM_CORNERS_5_last_match_average', 'TEAM_BALL_POSSESSION_5_last_match_std', 'TEAM_SHOTS_ON_TARGET_5_last_match_std', 'TEAM_FOULS_season_std', 'TEAM_BALL_SAFE_season_average', 'TEAM_FOULS_5_last_match_std', 'TEAM_ATTACKS_season_sum', 'TEAM_BALL_POSSESSION_season_std', 'TEAM_SHOTS_ON_TARGET_season_std', 'TEAM_BALL_SAFE_season_sum', 'TEAM_YELLOWCARDS_season_std', 'TEAM_OFFSIDES_5_last_match_std', 'TEAM_PENALTIES_season_std', 'TEAM_BALL_SAFE_5_last_match_sum', 'TEAM_SUBSTITUTIONS_season_average', 'TEAM_GOALS_5_last_match_std', 'TEAM_SHOTS_OFF_TARGET_season_average', 'TEAM_YELLOWCARDS_season_sum', 'TEAM_SUCCESSFUL_PASSES_PERCENTAGE_5_last_match_std', 'TEAM_REDCARDS_season_average', 'TEAM_GAME_DRAW_season_average', 'TEAM_DANGEROUS_ATTACKS_5_last_match_sum', 'TEAM_OFFSIDES_5_last_match_average', 'TEAM_SHOTS_OFF_TARGET_5_last_match_sum', 'TEAM_FOULS_season_average', 'TEAM_SHOTS_OFF_TARGET_5_last_match_average', 'TEAM_SAVES_5_last_match_average', 'TEAM_GOALS_5_last_match_average', 'TEAM_INJURIES_season_average', 'TEAM_FOULS_5_last_match_sum', 'TEAM_INJURIES_season_sum', 'TEAM_PASSES_5_last_match_std', 'TEAM_SUCCESSFUL_PASSES_season_std', 'TEAM_INJURIES_5_last_match_average', 'TEAM_REDCARDS_season_sum', 'TEAM_SUBSTITUTIONS_5_last_match_std', 'TEAM_INJURIES_season_std', 'TEAM_SUCCESSFUL_PASSES_5_last_match_std', 'TEAM_GAME_DRAW_5_last_match_sum', 'TEAM_SHOTS_TOTAL_5_last_match_average', 'TEAM_SHOTS_INSIDEBOX_5_last_match_average', 'TEAM_SHOTS_OUTSIDEBOX_season_sum', 'TEAM_GAME_LOST_5_last_match_sum', 'TEAM_PENALTIES_5_last_match_std', 'TEAM_SHOTS_TOTAL_5_last_match_sum', 'TEAM_PENALTIES_5_last_match_average', 'TEAM_REDCARDS_5_last_match_std', 'TEAM_PASSES_5_last_match_sum']\n",
    "# features=['TEAM_GAME_WON_season_average', 'TEAM_GAME_LOST_season_average', 'TEAM_GOALS_season_sum', 'TEAM_SHOTS_INSIDEBOX_season_average', 'TEAM_BALL_POSSESSION_season_average', 'TEAM_CORNERS_season_sum', 'TEAM_DANGEROUS_ATTACKS_season_average', 'TEAM_YELLOWCARDS_5_last_match_std', 'TEAM_CORNERS_5_last_match_average', 'TEAM_BALL_POSSESSION_5_last_match_std', 'TEAM_SHOTS_ON_TARGET_5_last_match_std', 'TEAM_FOULS_season_std', 'TEAM_BALL_SAFE_season_average', 'TEAM_SHOTS_ON_TARGET_season_std', 'TEAM_YELLOWCARDS_season_std', 'TEAM_BALL_SAFE_5_last_match_sum', 'TEAM_SHOTS_OFF_TARGET_season_average', 'TEAM_SUCCESSFUL_PASSES_PERCENTAGE_5_last_match_std', 'TEAM_GAME_DRAW_season_average', 'TEAM_DANGEROUS_ATTACKS_5_last_match_sum', 'TEAM_OFFSIDES_5_last_match_average', 'TEAM_SHOTS_OFF_TARGET_5_last_match_sum', 'TEAM_FOULS_season_average', 'TEAM_GOALS_5_last_match_average', 'TEAM_INJURIES_season_sum', 'TEAM_PASSES_5_last_match_std', 'TEAM_REDCARDS_season_sum', 'TEAM_SHOTS_OUTSIDEBOX_season_sum', 'TEAM_GAME_LOST_5_last_match_sum', 'TEAM_PENALTIES_5_last_match_average', 'TEAM_REDCARDS_5_last_match_std']\n",
    "# features=['TEAM_GAME_WON_season_average', 'TEAM_GAME_LOST_season_average', 'TEAM_GOALS_season_sum', 'TEAM_SHOTS_INSIDEBOX_season_average', 'TEAM_BALL_POSSESSION_season_average', 'TEAM_DANGEROUS_ATTACKS_season_average', 'TEAM_CORNERS_5_last_match_average', 'TEAM_FOULS_season_std', 'TEAM_BALL_SAFE_season_average', 'TEAM_SHOTS_ON_TARGET_season_std', 'TEAM_BALL_SAFE_5_last_match_sum', 'TEAM_GAME_DRAW_season_average', 'TEAM_DANGEROUS_ATTACKS_5_last_match_sum', 'TEAM_SHOTS_OFF_TARGET_5_last_match_sum', 'TEAM_FOULS_season_average', 'TEAM_PASSES_5_last_match_std', 'TEAM_REDCARDS_season_sum', 'TEAM_SHOTS_OUTSIDEBOX_season_sum']\n",
    "# features=['TEAM_GAME_WON_season_average', 'TEAM_GAME_LOST_season_average', 'TEAM_GOALS_season_sum', 'TEAM_SHOTS_INSIDEBOX_season_average', 'TEAM_BALL_POSSESSION_season_average', 'TEAM_CORNERS_5_last_match_average', 'TEAM_FOULS_season_std', 'TEAM_BALL_SAFE_season_average', 'TEAM_BALL_SAFE_5_last_match_sum', 'TEAM_GAME_DRAW_season_average', 'TEAM_SHOTS_OFF_TARGET_5_last_match_sum', 'TEAM_FOULS_season_average']\n",
    "# features=['TEAM_GAME_WON_season_average', 'TEAM_GAME_LOST_season_average', 'TEAM_GOALS_season_sum', 'TEAM_SHOTS_INSIDEBOX_season_average', 'TEAM_BALL_POSSESSION_season_average', 'TEAM_CORNERS_5_last_match_average', 'TEAM_BALL_SAFE_5_last_match_sum', 'TEAM_GAME_DRAW_season_average']"
   ]
  },
  {
   "cell_type": "code",
   "execution_count": null,
   "id": "27380507",
   "metadata": {},
   "outputs": [],
   "source": [
    "def test_features(name = 'xgb_gblinear', save=True, features=None):\n",
    "    with open('../confs/models.yaml', 'r') as file:\n",
    "        configurations = yaml.safe_load(file)\n",
    "    if features is None:\n",
    "        features = get_features()\n",
    "    lines = []\n",
    "    previous_scores = 0\n",
    "    selected_features = []\n",
    "    for i in range(1, len(features)):\n",
    "        sub_features = features[:i]\n",
    "        factory = ModelFactory(configurations, X_train[sub_features], y_train, train_scores)\n",
    "        model = factory.get_model(name)\n",
    "        model.name = f'{name}_{i}'\n",
    "        line = eval_model(model,X=X_test[sub_features])\n",
    "        line['nbr_features'] = len(sub_features)\n",
    "        line['model'] = name\n",
    "        line['feature'] = sub_features[-1]\n",
    "        line['features'] = sub_features\n",
    "        lines.append(line)\n",
    "        if previous_scores < line['score']:\n",
    "            selected_features.append(line['feature'])\n",
    "        previous_scores = line['score']\n",
    "    df = pandas.DataFrame(lines)\n",
    "    if save:\n",
    "        df.to_csv(f'../data/output/features/{name}.csv')\n",
    "    logging.info(f'Features selected: {len(selected_features)}, {selected_features}')\n",
    "    return df"
   ]
  },
  {
   "cell_type": "code",
   "execution_count": null,
   "id": "bb46e8c6",
   "metadata": {},
   "outputs": [],
   "source": [
    "name = 'lightgbm'\n",
    "features=['TEAM_GAME_WON_season_sum', 'TEAM_SHOTS_ON_TARGET_season_average', 'TEAM_SHOTS_ON_TARGET_season_sum', 'TEAM_ATTACKS_season_sum', 'TEAM_ATTACKS_season_average', 'TEAM_GAME_LOST_season_sum', 'TEAM_ATTACKS_5_last_match_std', 'TEAM_DANGEROUS_ATTACKS_5_last_match_std', 'TEAM_CORNERS_5_last_match_std', 'TEAM_CORNERS_season_sum', 'TEAM_BALL_POSSESSION_5_last_match_average', 'TEAM_BALL_SAFE_season_std', 'TEAM_CORNERS_season_std', 'TEAM_FOULS_5_last_match_std', 'TEAM_DANGEROUS_ATTACKS_5_last_match_sum', 'TEAM_GOALS_5_last_match_std', 'TEAM_SAVES_5_last_match_std', 'TEAM_BALL_SAFE_5_last_match_sum', 'TEAM_PENALTIES_season_sum', 'TEAM_SHOTS_ON_TARGET_season_std', 'TEAM_BALL_SAFE_5_last_match_average', 'TEAM_PENALTIES_season_std', 'TEAM_SUBSTITUTIONS_season_average', 'TEAM_GAME_DRAW_season_sum', 'TEAM_YELLOWCARDS_season_sum', 'TEAM_SHOTS_OFF_TARGET_season_average', 'TEAM_SHOTS_TOTAL_season_std', 'TEAM_OFFSIDES_season_average', 'TEAM_SUCCESSFUL_PASSES_PERCENTAGE_5_last_match_std', 'TEAM_SHOTS_OUTSIDEBOX_5_last_match_std', 'TEAM_SUCCESSFUL_PASSES_season_std', 'TEAM_FOULS_season_sum', 'TEAM_SUBSTITUTIONS_5_last_match_std', 'TEAM_SHOTS_OUTSIDEBOX_season_std', 'TEAM_ATTACKS_5_last_match_average', 'TEAM_REDCARDS_season_average', 'TEAM_SHOTS_INSIDEBOX_5_last_match_sum', 'TEAM_SHOTS_INSIDEBOX_5_last_match_average', 'TEAM_INJURIES_season_std', 'TEAM_GOALS_5_last_match_average', 'TEAM_SHOTS_OFF_TARGET_5_last_match_sum', 'TEAM_INJURIES_season_average', 'TEAM_SHOTS_OFF_TARGET_5_last_match_average', 'TEAM_GAME_WON_5_last_match_average', 'TEAM_SUBSTITUTIONS_5_last_match_sum', 'TEAM_SUBSTITUTIONS_5_last_match_average', 'TEAM_SUCCESSFUL_PASSES_5_last_match_std', 'TEAM_SUCCESSFUL_PASSES_season_average', 'TEAM_GAME_DRAW_5_last_match_sum', 'TEAM_GAME_WON_5_last_match_sum', 'TEAM_SHOTS_OUTSIDEBOX_5_last_match_sum', 'TEAM_GAME_LOST_5_last_match_average', 'TEAM_SHOTS_OUTSIDEBOX_5_last_match_average', 'TEAM_PASSES_5_last_match_average', 'TEAM_PASSES_5_last_match_sum', 'TEAM_PASSES_season_sum', 'TEAM_SUCCESSFUL_PASSES_5_last_match_sum']\n",
    "features=['TEAM_GAME_WON_season_sum', 'TEAM_SHOTS_ON_TARGET_season_average', 'TEAM_ATTACKS_season_sum', 'TEAM_GAME_LOST_season_sum', 'TEAM_CORNERS_season_sum', 'TEAM_BALL_SAFE_season_std', 'TEAM_CORNERS_season_std', 'TEAM_DANGEROUS_ATTACKS_5_last_match_sum', 'TEAM_SAVES_5_last_match_std', 'TEAM_PENALTIES_season_sum', 'TEAM_BALL_SAFE_5_last_match_average', 'TEAM_PENALTIES_season_std', 'TEAM_GAME_DRAW_season_sum', 'TEAM_SHOTS_OFF_TARGET_season_average', 'TEAM_OFFSIDES_season_average', 'TEAM_SUCCESSFUL_PASSES_PERCENTAGE_5_last_match_std', 'TEAM_SHOTS_OUTSIDEBOX_5_last_match_std', 'TEAM_FOULS_season_sum', 'TEAM_SUBSTITUTIONS_5_last_match_std', 'TEAM_SHOTS_OUTSIDEBOX_season_std', 'TEAM_SHOTS_INSIDEBOX_5_last_match_sum', 'TEAM_SHOTS_INSIDEBOX_5_last_match_average', 'TEAM_GOALS_5_last_match_average', 'TEAM_SHOTS_OFF_TARGET_5_last_match_average', 'TEAM_SUCCESSFUL_PASSES_5_last_match_std', 'TEAM_SUCCESSFUL_PASSES_season_average', 'TEAM_GAME_DRAW_5_last_match_sum', 'TEAM_SHOTS_OUTSIDEBOX_5_last_match_sum', 'TEAM_SHOTS_OUTSIDEBOX_5_last_match_average', 'TEAM_PASSES_5_last_match_sum', 'TEAM_PASSES_season_sum']\n",
    "features=['TEAM_GAME_WON_season_sum', 'TEAM_SHOTS_ON_TARGET_season_average', 'TEAM_ATTACKS_season_sum', 'TEAM_CORNERS_season_sum', 'TEAM_BALL_SAFE_season_std', 'TEAM_CORNERS_season_std', 'TEAM_DANGEROUS_ATTACKS_5_last_match_sum', 'TEAM_PENALTIES_season_sum', 'TEAM_PENALTIES_season_std', 'TEAM_GAME_DRAW_season_sum', 'TEAM_SHOTS_OUTSIDEBOX_5_last_match_std', 'TEAM_FOULS_season_sum', 'TEAM_SUBSTITUTIONS_5_last_match_std', 'TEAM_SHOTS_INSIDEBOX_5_last_match_sum', 'TEAM_SHOTS_OFF_TARGET_5_last_match_average', 'TEAM_SUCCESSFUL_PASSES_5_last_match_std', 'TEAM_GAME_DRAW_5_last_match_sum', 'TEAM_PASSES_5_last_match_sum']\n",
    "features=['TEAM_GAME_WON_season_sum', 'TEAM_SHOTS_ON_TARGET_season_average', 'TEAM_ATTACKS_season_sum', 'TEAM_BALL_SAFE_season_std', 'TEAM_DANGEROUS_ATTACKS_5_last_match_sum', 'TEAM_PENALTIES_season_std', 'TEAM_GAME_DRAW_season_sum', 'TEAM_FOULS_season_sum', 'TEAM_SHOTS_INSIDEBOX_5_last_match_sum', 'TEAM_SUCCESSFUL_PASSES_5_last_match_std']\n",
    "features=['TEAM_GAME_WON_season_sum', 'TEAM_SHOTS_ON_TARGET_season_average', 'TEAM_ATTACKS_season_sum', 'TEAM_BALL_SAFE_season_std', 'TEAM_DANGEROUS_ATTACKS_5_last_match_sum', 'TEAM_GAME_DRAW_season_sum', 'TEAM_SHOTS_INSIDEBOX_5_last_match_sum']\n",
    "df = test_features(name, features=features)\n",
    "df[['score']].plot.line()"
   ]
  },
  {
   "cell_type": "code",
   "execution_count": null,
   "id": "225487af",
   "metadata": {},
   "outputs": [],
   "source": [
    "name = 'ada_boost'\n",
    "features=['TEAM_GAME_WON_season_sum', 'TEAM_SHOTS_ON_TARGET_season_average', 'TEAM_GAME_WON_season_average', 'TEAM_BALL_POSSESSION_season_average', 'TEAM_DANGEROUS_ATTACKS_season_sum', 'TEAM_SHOTS_TOTAL_season_average', 'TEAM_DANGEROUS_ATTACKS_season_average', 'TEAM_GOALS_season_average', 'TEAM_SHOTS_INSIDEBOX_season_average', 'TEAM_DANGEROUS_ATTACKS_season_std', 'TEAM_CORNERS_season_sum', 'TEAM_CORNERS_season_std', 'TEAM_SAVES_season_average', 'TEAM_BALL_SAFE_5_last_match_std', 'TEAM_GOALS_season_std', 'TEAM_FOULS_season_std', 'TEAM_SHOTS_OFF_TARGET_5_last_match_std', 'TEAM_BALL_POSSESSION_season_std', 'TEAM_BALL_SAFE_5_last_match_sum', 'TEAM_OFFSIDES_season_std', 'TEAM_BALL_SAFE_5_last_match_average', 'TEAM_SUBSTITUTIONS_season_average', 'TEAM_YELLOWCARDS_5_last_match_average', 'TEAM_OFFSIDES_season_average', 'TEAM_SAVES_5_last_match_average', 'TEAM_SUBSTITUTIONS_5_last_match_std', 'TEAM_SHOTS_OUTSIDEBOX_season_std', 'TEAM_YELLOWCARDS_5_last_match_sum', 'TEAM_SHOTS_INSIDEBOX_5_last_match_sum', 'TEAM_SUCCESSFUL_PASSES_PERCENTAGE_season_std', 'TEAM_SHOTS_OUTSIDEBOX_season_average', 'TEAM_PASSES_5_last_match_std', 'TEAM_SUBSTITUTIONS_5_last_match_average', 'TEAM_INJURIES_5_last_match_std', 'TEAM_SUCCESSFUL_PASSES_season_average', 'TEAM_PASSES_season_average', 'TEAM_PASSES_5_last_match_sum', 'TEAM_REDCARDS_5_last_match_std']\n",
    "features=['TEAM_GAME_WON_season_sum', 'TEAM_SHOTS_ON_TARGET_season_average', 'TEAM_GAME_WON_season_average', 'TEAM_BALL_POSSESSION_season_average', 'TEAM_DANGEROUS_ATTACKS_season_sum', 'TEAM_DANGEROUS_ATTACKS_season_average', 'TEAM_CORNERS_season_sum', 'TEAM_FOULS_season_std', 'TEAM_BALL_POSSESSION_season_std', 'TEAM_BALL_SAFE_5_last_match_sum', 'TEAM_BALL_SAFE_5_last_match_average', 'TEAM_YELLOWCARDS_5_last_match_average', 'TEAM_SAVES_5_last_match_average', 'TEAM_SUBSTITUTIONS_5_last_match_std', 'TEAM_SHOTS_OUTSIDEBOX_season_std', 'TEAM_SHOTS_INSIDEBOX_5_last_match_sum', 'TEAM_SUCCESSFUL_PASSES_PERCENTAGE_season_std', 'TEAM_PASSES_5_last_match_std', 'TEAM_SUCCESSFUL_PASSES_season_average']\n",
    "features=['TEAM_GAME_WON_season_sum', 'TEAM_SHOTS_ON_TARGET_season_average', 'TEAM_GAME_WON_season_average', 'TEAM_BALL_POSSESSION_season_average', 'TEAM_DANGEROUS_ATTACKS_season_sum', 'TEAM_DANGEROUS_ATTACKS_season_average', 'TEAM_BALL_POSSESSION_season_std', 'TEAM_BALL_SAFE_5_last_match_sum', 'TEAM_BALL_SAFE_5_last_match_average', 'TEAM_SHOTS_OUTSIDEBOX_season_std', 'TEAM_SHOTS_INSIDEBOX_5_last_match_sum', 'TEAM_PASSES_5_last_match_std']\n",
    "features=['TEAM_GAME_WON_season_sum', 'TEAM_SHOTS_ON_TARGET_season_average', 'TEAM_GAME_WON_season_average', 'TEAM_BALL_POSSESSION_season_average', 'TEAM_DANGEROUS_ATTACKS_season_sum', 'TEAM_DANGEROUS_ATTACKS_season_average', 'TEAM_BALL_SAFE_5_last_match_sum', 'TEAM_SHOTS_INSIDEBOX_5_last_match_sum']\n",
    "features=['TEAM_GAME_WON_season_sum', 'TEAM_SHOTS_ON_TARGET_season_average', 'TEAM_GAME_WON_season_average', 'TEAM_BALL_POSSESSION_season_average', 'TEAM_DANGEROUS_ATTACKS_season_sum', 'TEAM_DANGEROUS_ATTACKS_season_average']\n",
    "df = test_features(name, features=features)\n",
    "df[['score']].plot.line()"
   ]
  },
  {
   "cell_type": "code",
   "execution_count": null,
   "id": "e98a91f4",
   "metadata": {},
   "outputs": [],
   "source": [
    "name = 'xgb_gblinear'\n",
    "features=['TEAM_GAME_WON_season_sum', 'TEAM_SHOTS_ON_TARGET_season_average', 'TEAM_GAME_WON_season_average', 'TEAM_BALL_POSSESSION_season_average', 'TEAM_ATTACKS_season_sum', 'TEAM_GOALS_season_sum', 'TEAM_SHOTS_TOTAL_season_average', 'TEAM_DANGEROUS_ATTACKS_season_average', 'TEAM_GAME_LOST_season_sum', 'TEAM_DANGEROUS_ATTACKS_season_std', 'TEAM_SHOTS_ON_TARGET_5_last_match_std', 'TEAM_SUBSTITUTIONS_season_std', 'TEAM_CORNERS_5_last_match_std', 'TEAM_BALL_POSSESSION_5_last_match_average', 'TEAM_BALL_SAFE_season_average', 'TEAM_BALL_SAFE_5_last_match_std', 'TEAM_GOALS_5_last_match_std', 'TEAM_SAVES_5_last_match_std', 'TEAM_SHOTS_OFF_TARGET_season_std', 'TEAM_CORNERS_5_last_match_sum', 'TEAM_YELLOWCARDS_season_average', 'TEAM_BALL_SAFE_5_last_match_sum', 'TEAM_OFFSIDES_season_std', 'TEAM_BALL_SAFE_5_last_match_average', 'TEAM_OFFSIDES_5_last_match_std', 'TEAM_YELLOWCARDS_season_sum', 'TEAM_OFFSIDES_5_last_match_sum', 'TEAM_SHOTS_TOTAL_season_std', 'TEAM_CORNERS_5_last_match_average', 'TEAM_REDCARDS_season_sum', 'TEAM_SUCCESSFUL_PASSES_PERCENTAGE_5_last_match_std', 'TEAM_SUCCESSFUL_PASSES_season_std', 'TEAM_FOULS_season_sum', 'TEAM_SHOTS_OUTSIDEBOX_season_std', 'TEAM_YELLOWCARDS_5_last_match_sum', 'TEAM_SHOTS_INSIDEBOX_5_last_match_sum', 'TEAM_SHOTS_INSIDEBOX_5_last_match_average', 'TEAM_SHOTS_INSIDEBOX_season_std', 'TEAM_GOALS_5_last_match_sum', 'TEAM_SHOTS_TOTAL_5_last_match_average', 'TEAM_SHOTS_OFF_TARGET_5_last_match_average', 'TEAM_SUCCESSFUL_PASSES_PERCENTAGE_season_std', 'TEAM_GAME_WON_5_last_match_average', 'TEAM_INJURIES_5_last_match_sum', 'TEAM_SHOTS_OUTSIDEBOX_season_average', 'TEAM_SUBSTITUTIONS_5_last_match_average', 'TEAM_SUCCESSFUL_PASSES_5_last_match_std', 'TEAM_PENALTIES_5_last_match_std', 'TEAM_SUCCESSFUL_PASSES_season_average', 'TEAM_SUCCESSFUL_PASSES_season_sum', 'TEAM_SUCCESSFUL_PASSES_PERCENTAGE_season_average', 'TEAM_SHOTS_TOTAL_5_last_match_sum', 'TEAM_PENALTIES_5_last_match_sum', 'TEAM_PASSES_5_last_match_sum', 'TEAM_SUCCESSFUL_PASSES_5_last_match_average', 'TEAM_SUCCESSFUL_PASSES_5_last_match_sum', 'TEAM_REDCARDS_5_last_match_sum']\n",
    "features=['TEAM_GAME_WON_season_sum', 'TEAM_SHOTS_ON_TARGET_season_average', 'TEAM_GAME_WON_season_average', 'TEAM_BALL_POSSESSION_season_average', 'TEAM_ATTACKS_season_sum', 'TEAM_GOALS_season_sum', 'TEAM_SHOTS_TOTAL_season_average', 'TEAM_GAME_LOST_season_sum', 'TEAM_CORNERS_5_last_match_std', 'TEAM_BALL_SAFE_season_average', 'TEAM_SAVES_5_last_match_std', 'TEAM_CORNERS_5_last_match_sum', 'TEAM_BALL_SAFE_5_last_match_sum', 'TEAM_YELLOWCARDS_season_sum', 'TEAM_SHOTS_TOTAL_season_std', 'TEAM_FOULS_season_sum', 'TEAM_SHOTS_INSIDEBOX_5_last_match_sum', 'TEAM_SHOTS_INSIDEBOX_5_last_match_average', 'TEAM_SHOTS_OFF_TARGET_5_last_match_average', 'TEAM_GAME_WON_5_last_match_average', 'TEAM_INJURIES_5_last_match_sum', 'TEAM_SHOTS_OUTSIDEBOX_season_average', 'TEAM_PENALTIES_5_last_match_std', 'TEAM_SUCCESSFUL_PASSES_season_average', 'TEAM_SUCCESSFUL_PASSES_season_sum', 'TEAM_PASSES_5_last_match_sum', 'TEAM_SUCCESSFUL_PASSES_5_last_match_average', 'TEAM_SUCCESSFUL_PASSES_5_last_match_sum']\n",
    "features=['TEAM_GAME_WON_season_sum', 'TEAM_SHOTS_ON_TARGET_season_average', 'TEAM_GAME_WON_season_average', 'TEAM_BALL_POSSESSION_season_average', 'TEAM_ATTACKS_season_sum', 'TEAM_GOALS_season_sum', 'TEAM_SHOTS_TOTAL_season_average', 'TEAM_BALL_SAFE_season_average', 'TEAM_CORNERS_5_last_match_sum', 'TEAM_BALL_SAFE_5_last_match_sum', 'TEAM_SHOTS_TOTAL_season_std', 'TEAM_FOULS_season_sum', 'TEAM_SHOTS_INSIDEBOX_5_last_match_sum', 'TEAM_GAME_WON_5_last_match_average', 'TEAM_SHOTS_OUTSIDEBOX_season_average', 'TEAM_PENALTIES_5_last_match_std', 'TEAM_SUCCESSFUL_PASSES_season_sum']\n",
    "features=['TEAM_GAME_WON_season_sum', 'TEAM_SHOTS_ON_TARGET_season_average', 'TEAM_GAME_WON_season_average', 'TEAM_BALL_POSSESSION_season_average', 'TEAM_ATTACKS_season_sum', 'TEAM_GOALS_season_sum', 'TEAM_SHOTS_TOTAL_season_average', 'TEAM_BALL_SAFE_season_average', 'TEAM_BALL_SAFE_5_last_match_sum', 'TEAM_SHOTS_TOTAL_season_std', 'TEAM_SHOTS_INSIDEBOX_5_last_match_sum', 'TEAM_GAME_WON_5_last_match_average', 'TEAM_SHOTS_OUTSIDEBOX_season_average']\n",
    "features=['TEAM_GAME_WON_season_sum', 'TEAM_SHOTS_ON_TARGET_season_average', 'TEAM_GAME_WON_season_average', 'TEAM_BALL_POSSESSION_season_average', 'TEAM_ATTACKS_season_sum', 'TEAM_GOALS_season_sum', 'TEAM_SHOTS_TOTAL_season_average', 'TEAM_BALL_SAFE_season_average', 'TEAM_SHOTS_TOTAL_season_std', 'TEAM_SHOTS_INSIDEBOX_5_last_match_sum']\n",
    "df = test_features(name, features=features)\n",
    "df[['score']].plot.line()"
   ]
  },
  {
   "cell_type": "code",
   "execution_count": null,
   "id": "8330acfa",
   "metadata": {},
   "outputs": [],
   "source": [
    "name = 'gradient_boosting'\n",
    "features=['TEAM_GAME_WON_season_sum', 'TEAM_SHOTS_ON_TARGET_season_average', 'TEAM_GAME_WON_season_average', 'TEAM_BALL_POSSESSION_season_average', 'TEAM_GOALS_season_sum', 'TEAM_ATTACKS_season_average', 'TEAM_SHOTS_TOTAL_season_average', 'TEAM_DANGEROUS_ATTACKS_season_average', 'TEAM_GAME_LOST_season_sum', 'TEAM_SHOTS_INSIDEBOX_season_average', 'TEAM_DANGEROUS_ATTACKS_season_std', 'TEAM_YELLOWCARDS_5_last_match_std', 'TEAM_SUBSTITUTIONS_season_std', 'TEAM_CORNERS_5_last_match_std', 'TEAM_BALL_POSSESSION_5_last_match_std', 'TEAM_BALL_SAFE_season_average', 'TEAM_FOULS_5_last_match_std', 'TEAM_SAVES_season_average', 'TEAM_GOALS_season_std', 'TEAM_SHOTS_OFF_TARGET_season_std', 'TEAM_YELLOWCARDS_season_average', 'TEAM_BALL_SAFE_5_last_match_sum', 'TEAM_SAVES_season_sum', 'TEAM_PENALTIES_season_sum', 'TEAM_SHOTS_ON_TARGET_season_std', 'TEAM_OFFSIDES_season_std', 'TEAM_BALL_SAFE_5_last_match_average', 'TEAM_PENALTIES_season_std', 'TEAM_GAME_DRAW_season_sum', 'TEAM_GAME_DRAW_season_average', 'TEAM_YELLOWCARDS_5_last_match_average', 'TEAM_SHOTS_OFF_TARGET_season_average', 'TEAM_CORNERS_5_last_match_average', 'TEAM_REDCARDS_season_std', 'TEAM_OFFSIDES_season_average', 'TEAM_SUCCESSFUL_PASSES_PERCENTAGE_5_last_match_std', 'TEAM_SHOTS_INSIDEBOX_5_last_match_std', 'TEAM_SUCCESSFUL_PASSES_season_std', 'TEAM_SAVES_5_last_match_average', 'TEAM_SHOTS_ON_TARGET_5_last_match_average', 'TEAM_SHOTS_OFF_TARGET_season_sum', 'TEAM_SHOTS_OUTSIDEBOX_season_std', 'TEAM_INJURIES_season_sum', 'TEAM_REDCARDS_season_average', 'TEAM_SHOTS_INSIDEBOX_5_last_match_sum', 'TEAM_OFFSIDES_5_last_match_average', 'TEAM_SHOTS_INSIDEBOX_5_last_match_average', 'TEAM_FOULS_5_last_match_average', 'TEAM_GOALS_5_last_match_sum', 'TEAM_GOALS_5_last_match_average', 'TEAM_SHOTS_TOTAL_5_last_match_average', 'TEAM_INJURIES_season_average', 'TEAM_SUCCESSFUL_PASSES_PERCENTAGE_season_std', 'TEAM_GAME_WON_5_last_match_average', 'TEAM_SHOTS_OUTSIDEBOX_season_average', 'TEAM_SUBSTITUTIONS_5_last_match_sum', 'TEAM_SUBSTITUTIONS_5_last_match_average', 'TEAM_SUCCESSFUL_PASSES_5_last_match_std', 'TEAM_SHOTS_OUTSIDEBOX_season_sum', 'TEAM_GAME_DRAW_5_last_match_sum', 'TEAM_INJURIES_5_last_match_average', 'TEAM_GAME_LOST_5_last_match_average', 'TEAM_SHOTS_TOTAL_5_last_match_sum', 'TEAM_PENALTIES_5_last_match_sum', 'TEAM_SUCCESSFUL_PASSES_PERCENTAGE_5_last_match_average', 'TEAM_SUCCESSFUL_PASSES_5_last_match_average', 'TEAM_PASSES_season_sum']\n",
    "features=['TEAM_GAME_WON_season_sum', 'TEAM_SHOTS_ON_TARGET_season_average', 'TEAM_GAME_WON_season_average', 'TEAM_BALL_POSSESSION_season_average', 'TEAM_ATTACKS_season_average', 'TEAM_SHOTS_INSIDEBOX_season_average', 'TEAM_BALL_POSSESSION_5_last_match_std', 'TEAM_FOULS_5_last_match_std', 'TEAM_SAVES_season_average', 'TEAM_SHOTS_OFF_TARGET_season_std', 'TEAM_YELLOWCARDS_season_average', 'TEAM_SAVES_season_sum', 'TEAM_PENALTIES_season_std', 'TEAM_YELLOWCARDS_5_last_match_average', 'TEAM_CORNERS_5_last_match_average', 'TEAM_REDCARDS_season_std', 'TEAM_SHOTS_INSIDEBOX_5_last_match_std', 'TEAM_SUCCESSFUL_PASSES_season_std', 'TEAM_SAVES_5_last_match_average', 'TEAM_SHOTS_ON_TARGET_5_last_match_average', 'TEAM_SHOTS_OFF_TARGET_season_sum', 'TEAM_INJURIES_season_sum', 'TEAM_REDCARDS_season_average', 'TEAM_OFFSIDES_5_last_match_average', 'TEAM_GOALS_5_last_match_sum', 'TEAM_SHOTS_TOTAL_5_last_match_average', 'TEAM_INJURIES_season_average', 'TEAM_SUCCESSFUL_PASSES_PERCENTAGE_season_std', 'TEAM_SHOTS_OUTSIDEBOX_season_average', 'TEAM_SHOTS_OUTSIDEBOX_season_sum', 'TEAM_GAME_LOST_5_last_match_average', 'TEAM_SHOTS_TOTAL_5_last_match_sum']\n",
    "features=['TEAM_GAME_WON_season_sum', 'TEAM_SHOTS_ON_TARGET_season_average', 'TEAM_GAME_WON_season_average', 'TEAM_BALL_POSSESSION_season_average', 'TEAM_SHOTS_INSIDEBOX_season_average', 'TEAM_BALL_POSSESSION_5_last_match_std', 'TEAM_SHOTS_OFF_TARGET_season_std', 'TEAM_SAVES_season_sum', 'TEAM_PENALTIES_season_std', 'TEAM_YELLOWCARDS_5_last_match_average', 'TEAM_CORNERS_5_last_match_average', 'TEAM_SUCCESSFUL_PASSES_season_std', 'TEAM_SHOTS_ON_TARGET_5_last_match_average', 'TEAM_SHOTS_OFF_TARGET_season_sum', 'TEAM_REDCARDS_season_average', 'TEAM_GOALS_5_last_match_sum', 'TEAM_SUCCESSFUL_PASSES_PERCENTAGE_season_std', 'TEAM_SHOTS_OUTSIDEBOX_season_sum']\n",
    "features=['TEAM_GAME_WON_season_sum', 'TEAM_SHOTS_ON_TARGET_season_average', 'TEAM_GAME_WON_season_average', 'TEAM_BALL_POSSESSION_season_average', 'TEAM_SHOTS_INSIDEBOX_season_average', 'TEAM_SAVES_season_sum', 'TEAM_PENALTIES_season_std', 'TEAM_YELLOWCARDS_5_last_match_average', 'TEAM_SHOTS_ON_TARGET_5_last_match_average', 'TEAM_SHOTS_OFF_TARGET_season_sum']\n",
    "features=['TEAM_GAME_WON_season_sum', 'TEAM_SHOTS_ON_TARGET_season_average', 'TEAM_GAME_WON_season_average', 'TEAM_BALL_POSSESSION_season_average', 'TEAM_SHOTS_INSIDEBOX_season_average', 'TEAM_SAVES_season_sum', 'TEAM_SHOTS_ON_TARGET_5_last_match_average']\n",
    "features=['TEAM_GAME_WON_season_sum', 'TEAM_SHOTS_ON_TARGET_season_average', 'TEAM_GAME_WON_season_average', 'TEAM_BALL_POSSESSION_season_average', 'TEAM_DANGEROUS_ATTACKS_season_sum', 'TEAM_DANGEROUS_ATTACKS_season_average']\n",
    "df = test_features(name, features=features)\n",
    "df[['score']].plot.line()"
   ]
  },
  {
   "cell_type": "code",
   "execution_count": null,
   "id": "e8d1eaca",
   "metadata": {},
   "outputs": [],
   "source": [
    "name = 'ada_boost'\n",
    "features=['TEAM_GAME_WON_season_sum', 'TEAM_SHOTS_ON_TARGET_season_average', 'TEAM_GAME_WON_season_average', 'TEAM_BALL_POSSESSION_season_average', 'TEAM_DANGEROUS_ATTACKS_season_sum', 'TEAM_SHOTS_TOTAL_season_average', 'TEAM_DANGEROUS_ATTACKS_season_average', 'TEAM_GOALS_season_average', 'TEAM_SHOTS_INSIDEBOX_season_average', 'TEAM_DANGEROUS_ATTACKS_season_std', 'TEAM_CORNERS_season_sum', 'TEAM_CORNERS_season_std', 'TEAM_SAVES_season_average', 'TEAM_BALL_SAFE_5_last_match_std', 'TEAM_GOALS_season_std', 'TEAM_FOULS_season_std', 'TEAM_SHOTS_OFF_TARGET_5_last_match_std', 'TEAM_BALL_POSSESSION_season_std', 'TEAM_BALL_SAFE_5_last_match_sum', 'TEAM_OFFSIDES_season_std', 'TEAM_BALL_SAFE_5_last_match_average', 'TEAM_SUBSTITUTIONS_season_average', 'TEAM_YELLOWCARDS_5_last_match_average', 'TEAM_OFFSIDES_season_average', 'TEAM_SAVES_5_last_match_average', 'TEAM_SUBSTITUTIONS_5_last_match_std', 'TEAM_SHOTS_OUTSIDEBOX_season_std', 'TEAM_YELLOWCARDS_5_last_match_sum', 'TEAM_SHOTS_INSIDEBOX_5_last_match_sum', 'TEAM_SUCCESSFUL_PASSES_PERCENTAGE_season_std', 'TEAM_SHOTS_OUTSIDEBOX_season_average', 'TEAM_PASSES_5_last_match_std', 'TEAM_SUBSTITUTIONS_5_last_match_average', 'TEAM_INJURIES_5_last_match_std', 'TEAM_SUCCESSFUL_PASSES_season_average', 'TEAM_PASSES_season_average', 'TEAM_PASSES_5_last_match_sum', 'TEAM_REDCARDS_5_last_match_std']\n",
    "features=['TEAM_GAME_WON_season_sum', 'TEAM_SHOTS_ON_TARGET_season_average', 'TEAM_GAME_WON_season_average', 'TEAM_BALL_POSSESSION_season_average', 'TEAM_DANGEROUS_ATTACKS_season_sum', 'TEAM_DANGEROUS_ATTACKS_season_average', 'TEAM_CORNERS_season_sum', 'TEAM_FOULS_season_std', 'TEAM_BALL_POSSESSION_season_std', 'TEAM_BALL_SAFE_5_last_match_sum', 'TEAM_BALL_SAFE_5_last_match_average', 'TEAM_YELLOWCARDS_5_last_match_average', 'TEAM_SAVES_5_last_match_average', 'TEAM_SUBSTITUTIONS_5_last_match_std', 'TEAM_SHOTS_OUTSIDEBOX_season_std', 'TEAM_SHOTS_INSIDEBOX_5_last_match_sum', 'TEAM_SUCCESSFUL_PASSES_PERCENTAGE_season_std', 'TEAM_PASSES_5_last_match_std', 'TEAM_SUCCESSFUL_PASSES_season_average']\n",
    "features=['TEAM_GAME_WON_season_sum', 'TEAM_SHOTS_ON_TARGET_season_average', 'TEAM_GAME_WON_season_average', 'TEAM_BALL_POSSESSION_season_average', 'TEAM_DANGEROUS_ATTACKS_season_sum', 'TEAM_DANGEROUS_ATTACKS_season_average', 'TEAM_BALL_POSSESSION_season_std', 'TEAM_BALL_SAFE_5_last_match_sum', 'TEAM_BALL_SAFE_5_last_match_average', 'TEAM_SHOTS_OUTSIDEBOX_season_std', 'TEAM_SHOTS_INSIDEBOX_5_last_match_sum', 'TEAM_PASSES_5_last_match_std']\n",
    "features=['TEAM_GAME_WON_season_sum', 'TEAM_SHOTS_ON_TARGET_season_average', 'TEAM_GAME_WON_season_average', 'TEAM_BALL_POSSESSION_season_average', 'TEAM_DANGEROUS_ATTACKS_season_sum', 'TEAM_DANGEROUS_ATTACKS_season_average', 'TEAM_BALL_SAFE_5_last_match_sum', 'TEAM_SHOTS_INSIDEBOX_5_last_match_sum']\n",
    "features=['TEAM_GAME_WON_season_sum', 'TEAM_SHOTS_ON_TARGET_season_average', 'TEAM_GAME_WON_season_average', 'TEAM_BALL_POSSESSION_season_average', 'TEAM_DANGEROUS_ATTACKS_season_sum', 'TEAM_DANGEROUS_ATTACKS_season_average']\n",
    "df = test_features(name, features=features)\n",
    "df[['score']].plot.line()"
   ]
  },
  {
   "cell_type": "code",
   "execution_count": null,
   "id": "a8b63efd",
   "metadata": {},
   "outputs": [],
   "source": [
    "name = 'hist_gradient_boosting'\n",
    "features=['TEAM_GAME_WON_season_sum', 'TEAM_ATTACKS_season_sum', 'TEAM_DANGEROUS_ATTACKS_season_sum', 'TEAM_GOALS_season_sum', 'TEAM_SHOTS_TOTAL_season_average', 'TEAM_DANGEROUS_ATTACKS_season_average', 'TEAM_GAME_LOST_season_sum', 'TEAM_DANGEROUS_ATTACKS_season_std', 'TEAM_CORNERS_5_last_match_std', 'TEAM_CORNERS_season_sum', 'TEAM_BALL_SAFE_season_std', 'TEAM_BALL_SAFE_season_average', 'TEAM_CORNERS_season_std', 'TEAM_SAVES_season_average', 'TEAM_SAVES_5_last_match_std', 'TEAM_SHOTS_OFF_TARGET_5_last_match_std', 'TEAM_CORNERS_5_last_match_sum', 'TEAM_BALL_SAFE_5_last_match_sum', 'TEAM_PENALTIES_season_sum', 'TEAM_BALL_SAFE_season_sum', 'TEAM_ATTACKS_season_std', 'TEAM_PENALTIES_season_std', 'TEAM_OFFSIDES_5_last_match_std', 'TEAM_GAME_DRAW_season_average', 'TEAM_SUBSTITUTIONS_season_sum', 'TEAM_YELLOWCARDS_season_sum', 'TEAM_OFFSIDES_5_last_match_sum', 'TEAM_SHOTS_TOTAL_season_std', 'TEAM_OFFSIDES_season_average', 'TEAM_SHOTS_INSIDEBOX_5_last_match_std', 'TEAM_SHOTS_OUTSIDEBOX_5_last_match_std', 'TEAM_PENALTIES_season_average', 'TEAM_SUBSTITUTIONS_5_last_match_std', 'TEAM_ATTACKS_5_last_match_sum', 'TEAM_SHOTS_OFF_TARGET_season_sum', 'TEAM_ATTACKS_5_last_match_average', 'TEAM_REDCARDS_season_average', 'TEAM_OFFSIDES_5_last_match_average', 'TEAM_SHOTS_INSIDEBOX_5_last_match_average', 'TEAM_GAME_LOST_5_last_match_sum', 'TEAM_INJURIES_season_std', 'TEAM_DANGEROUS_ATTACKS_5_last_match_average', 'TEAM_SHOTS_ON_TARGET_5_last_match_sum', 'TEAM_PASSES_season_std', 'TEAM_SHOTS_OFF_TARGET_5_last_match_average', 'TEAM_GAME_WON_5_last_match_average', 'TEAM_FOULS_season_average', 'TEAM_INJURIES_5_last_match_sum', 'TEAM_SUBSTITUTIONS_5_last_match_sum', 'TEAM_INJURIES_5_last_match_std', 'TEAM_SUCCESSFUL_PASSES_5_last_match_std', 'TEAM_PENALTIES_5_last_match_std', 'TEAM_SUCCESSFUL_PASSES_season_average', 'TEAM_INJURIES_5_last_match_average', 'TEAM_GAME_WON_5_last_match_sum', 'TEAM_SHOTS_OUTSIDEBOX_5_last_match_sum', 'TEAM_SUCCESSFUL_PASSES_PERCENTAGE_season_average', 'TEAM_PASSES_season_average', 'TEAM_SHOTS_OUTSIDEBOX_5_last_match_average', 'TEAM_SUCCESSFUL_PASSES_5_last_match_average', 'TEAM_PENALTIES_5_last_match_average', 'TEAM_REDCARDS_5_last_match_sum']\n",
    "features=['TEAM_GAME_WON_season_sum', 'TEAM_GOALS_season_sum', 'TEAM_DANGEROUS_ATTACKS_season_average', 'TEAM_GAME_LOST_season_sum', 'TEAM_CORNERS_5_last_match_std', 'TEAM_CORNERS_season_std', 'TEAM_SAVES_5_last_match_std', 'TEAM_CORNERS_5_last_match_sum', 'TEAM_BALL_SAFE_season_sum', 'TEAM_ATTACKS_season_std', 'TEAM_PENALTIES_season_std', 'TEAM_YELLOWCARDS_season_sum', 'TEAM_OFFSIDES_5_last_match_sum', 'TEAM_SHOTS_INSIDEBOX_5_last_match_std', 'TEAM_SHOTS_OUTSIDEBOX_5_last_match_std', 'TEAM_SUBSTITUTIONS_5_last_match_std', 'TEAM_SHOTS_OFF_TARGET_season_sum', 'TEAM_ATTACKS_5_last_match_average', 'TEAM_OFFSIDES_5_last_match_average', 'TEAM_INJURIES_season_std', 'TEAM_SHOTS_ON_TARGET_5_last_match_sum', 'TEAM_PASSES_season_std', 'TEAM_FOULS_season_average', 'TEAM_INJURIES_5_last_match_sum', 'TEAM_SUBSTITUTIONS_5_last_match_sum', 'TEAM_SUCCESSFUL_PASSES_5_last_match_std', 'TEAM_SUCCESSFUL_PASSES_season_average', 'TEAM_SUCCESSFUL_PASSES_PERCENTAGE_season_average', 'TEAM_PASSES_season_average', 'TEAM_SHOTS_OUTSIDEBOX_5_last_match_average', 'TEAM_SUCCESSFUL_PASSES_5_last_match_average']\n",
    "features=['TEAM_GAME_WON_season_sum', 'TEAM_DANGEROUS_ATTACKS_season_average', 'TEAM_SAVES_5_last_match_std', 'TEAM_BALL_SAFE_season_sum', 'TEAM_PENALTIES_season_std', 'TEAM_SHOTS_OUTSIDEBOX_5_last_match_std', 'TEAM_ATTACKS_5_last_match_average', 'TEAM_OFFSIDES_5_last_match_average', 'TEAM_SHOTS_ON_TARGET_5_last_match_sum', 'TEAM_FOULS_season_average', 'TEAM_SUBSTITUTIONS_5_last_match_sum', 'TEAM_SUCCESSFUL_PASSES_season_average', 'TEAM_SHOTS_OUTSIDEBOX_5_last_match_average']\n",
    "features=['TEAM_GAME_WON_season_sum', 'TEAM_DANGEROUS_ATTACKS_season_average', 'TEAM_PENALTIES_season_std', 'TEAM_SHOTS_OUTSIDEBOX_5_last_match_std', 'TEAM_SHOTS_ON_TARGET_5_last_match_sum', 'TEAM_SUCCESSFUL_PASSES_season_average']\n",
    "features=['TEAM_GAME_WON_season_sum', 'TEAM_DANGEROUS_ATTACKS_season_average', 'TEAM_SHOTS_ON_TARGET_5_last_match_sum']\n",
    "df = test_features(name, features=features)\n",
    "df[['score']].plot.line()"
   ]
  },
  {
   "cell_type": "code",
   "execution_count": null,
   "id": "afeeccb4",
   "metadata": {},
   "outputs": [],
   "source": [
    "name = 'lightgbm'\n",
    "features=['TEAM_GAME_WON_season_sum', 'TEAM_SHOTS_ON_TARGET_season_average', 'TEAM_SHOTS_ON_TARGET_season_sum', 'TEAM_ATTACKS_season_sum', 'TEAM_ATTACKS_season_average', 'TEAM_GAME_LOST_season_sum', 'TEAM_ATTACKS_5_last_match_std', 'TEAM_DANGEROUS_ATTACKS_5_last_match_std', 'TEAM_CORNERS_5_last_match_std', 'TEAM_CORNERS_season_sum', 'TEAM_BALL_POSSESSION_5_last_match_average', 'TEAM_BALL_SAFE_season_std', 'TEAM_CORNERS_season_std', 'TEAM_FOULS_5_last_match_std', 'TEAM_DANGEROUS_ATTACKS_5_last_match_sum', 'TEAM_GOALS_5_last_match_std', 'TEAM_SAVES_5_last_match_std', 'TEAM_BALL_SAFE_5_last_match_sum', 'TEAM_PENALTIES_season_sum', 'TEAM_SHOTS_ON_TARGET_season_std', 'TEAM_BALL_SAFE_5_last_match_average', 'TEAM_PENALTIES_season_std', 'TEAM_SUBSTITUTIONS_season_average', 'TEAM_GAME_DRAW_season_sum', 'TEAM_YELLOWCARDS_season_sum', 'TEAM_SHOTS_OFF_TARGET_season_average', 'TEAM_SHOTS_TOTAL_season_std', 'TEAM_OFFSIDES_season_average', 'TEAM_SUCCESSFUL_PASSES_PERCENTAGE_5_last_match_std', 'TEAM_SHOTS_OUTSIDEBOX_5_last_match_std', 'TEAM_SUCCESSFUL_PASSES_season_std', 'TEAM_FOULS_season_sum', 'TEAM_SUBSTITUTIONS_5_last_match_std', 'TEAM_SHOTS_OUTSIDEBOX_season_std', 'TEAM_ATTACKS_5_last_match_average', 'TEAM_REDCARDS_season_average', 'TEAM_SHOTS_INSIDEBOX_5_last_match_sum', 'TEAM_SHOTS_INSIDEBOX_5_last_match_average', 'TEAM_INJURIES_season_std', 'TEAM_GOALS_5_last_match_average', 'TEAM_SHOTS_OFF_TARGET_5_last_match_sum', 'TEAM_INJURIES_season_average', 'TEAM_SHOTS_OFF_TARGET_5_last_match_average', 'TEAM_GAME_WON_5_last_match_average', 'TEAM_SUBSTITUTIONS_5_last_match_sum', 'TEAM_SUBSTITUTIONS_5_last_match_average', 'TEAM_SUCCESSFUL_PASSES_5_last_match_std', 'TEAM_SUCCESSFUL_PASSES_season_average', 'TEAM_GAME_DRAW_5_last_match_sum', 'TEAM_GAME_WON_5_last_match_sum', 'TEAM_SHOTS_OUTSIDEBOX_5_last_match_sum', 'TEAM_GAME_LOST_5_last_match_average', 'TEAM_SHOTS_OUTSIDEBOX_5_last_match_average', 'TEAM_PASSES_5_last_match_average', 'TEAM_PASSES_5_last_match_sum', 'TEAM_PASSES_season_sum', 'TEAM_SUCCESSFUL_PASSES_5_last_match_sum']\n",
    "features=['TEAM_GAME_WON_season_sum', 'TEAM_SHOTS_ON_TARGET_season_average', 'TEAM_ATTACKS_season_sum', 'TEAM_GAME_LOST_season_sum', 'TEAM_CORNERS_season_sum', 'TEAM_BALL_SAFE_season_std', 'TEAM_CORNERS_season_std', 'TEAM_DANGEROUS_ATTACKS_5_last_match_sum', 'TEAM_SAVES_5_last_match_std', 'TEAM_PENALTIES_season_sum', 'TEAM_BALL_SAFE_5_last_match_average', 'TEAM_PENALTIES_season_std', 'TEAM_GAME_DRAW_season_sum', 'TEAM_SHOTS_OFF_TARGET_season_average', 'TEAM_OFFSIDES_season_average', 'TEAM_SUCCESSFUL_PASSES_PERCENTAGE_5_last_match_std', 'TEAM_SHOTS_OUTSIDEBOX_5_last_match_std', 'TEAM_FOULS_season_sum', 'TEAM_SUBSTITUTIONS_5_last_match_std', 'TEAM_SHOTS_OUTSIDEBOX_season_std', 'TEAM_SHOTS_INSIDEBOX_5_last_match_sum', 'TEAM_SHOTS_INSIDEBOX_5_last_match_average', 'TEAM_GOALS_5_last_match_average', 'TEAM_SHOTS_OFF_TARGET_5_last_match_average', 'TEAM_SUCCESSFUL_PASSES_5_last_match_std', 'TEAM_SUCCESSFUL_PASSES_season_average', 'TEAM_GAME_DRAW_5_last_match_sum', 'TEAM_SHOTS_OUTSIDEBOX_5_last_match_sum', 'TEAM_SHOTS_OUTSIDEBOX_5_last_match_average', 'TEAM_PASSES_5_last_match_sum', 'TEAM_PASSES_season_sum']\n",
    "features=['TEAM_GAME_WON_season_sum', 'TEAM_SHOTS_ON_TARGET_season_average', 'TEAM_ATTACKS_season_sum', 'TEAM_CORNERS_season_sum', 'TEAM_BALL_SAFE_season_std', 'TEAM_CORNERS_season_std', 'TEAM_DANGEROUS_ATTACKS_5_last_match_sum', 'TEAM_PENALTIES_season_sum', 'TEAM_PENALTIES_season_std', 'TEAM_GAME_DRAW_season_sum', 'TEAM_SHOTS_OUTSIDEBOX_5_last_match_std', 'TEAM_FOULS_season_sum', 'TEAM_SUBSTITUTIONS_5_last_match_std', 'TEAM_SHOTS_INSIDEBOX_5_last_match_sum', 'TEAM_SHOTS_OFF_TARGET_5_last_match_average', 'TEAM_SUCCESSFUL_PASSES_5_last_match_std', 'TEAM_GAME_DRAW_5_last_match_sum', 'TEAM_PASSES_5_last_match_sum']\n",
    "features=['TEAM_GAME_WON_season_sum', 'TEAM_SHOTS_ON_TARGET_season_average', 'TEAM_ATTACKS_season_sum', 'TEAM_BALL_SAFE_season_std', 'TEAM_DANGEROUS_ATTACKS_5_last_match_sum', 'TEAM_PENALTIES_season_std', 'TEAM_GAME_DRAW_season_sum', 'TEAM_FOULS_season_sum', 'TEAM_SHOTS_INSIDEBOX_5_last_match_sum', 'TEAM_SUCCESSFUL_PASSES_5_last_match_std']\n",
    "features=['TEAM_GAME_WON_season_sum', 'TEAM_SHOTS_ON_TARGET_season_average', 'TEAM_ATTACKS_season_sum', 'TEAM_BALL_SAFE_season_std', 'TEAM_DANGEROUS_ATTACKS_5_last_match_sum', 'TEAM_GAME_DRAW_season_sum', 'TEAM_SHOTS_INSIDEBOX_5_last_match_sum']\n",
    "df = test_features(name, features=features)\n",
    "df[['score']].plot.line()"
   ]
  },
  {
   "cell_type": "code",
   "execution_count": null,
   "id": "e936d223",
   "metadata": {},
   "outputs": [],
   "source": [
    "name = 'xgb_classifier'\n",
    "features=['TEAM_GAME_WON_season_sum', 'TEAM_SHOTS_ON_TARGET_season_average', 'TEAM_SHOTS_ON_TARGET_season_sum', 'TEAM_BALL_POSSESSION_season_average', 'TEAM_ATTACKS_season_sum', 'TEAM_DANGEROUS_ATTACKS_season_sum', 'TEAM_CORNERS_season_average', 'TEAM_DANGEROUS_ATTACKS_season_average', 'TEAM_SHOTS_ON_TARGET_5_last_match_std', 'TEAM_DANGEROUS_ATTACKS_5_last_match_std', 'TEAM_BALL_SAFE_season_average', 'TEAM_FOULS_5_last_match_std', 'TEAM_DANGEROUS_ATTACKS_5_last_match_sum', 'TEAM_GOALS_5_last_match_std', 'TEAM_CORNERS_5_last_match_sum', 'TEAM_SAVES_season_sum', 'TEAM_SHOTS_ON_TARGET_season_std', 'TEAM_OFFSIDES_season_std', 'TEAM_ATTACKS_season_std', 'TEAM_OFFSIDES_5_last_match_std', 'TEAM_GAME_DRAW_season_sum', 'TEAM_SUBSTITUTIONS_season_sum', 'TEAM_SHOTS_OFF_TARGET_season_average', 'TEAM_REDCARDS_season_std', 'TEAM_REDCARDS_season_sum', 'TEAM_SUCCESSFUL_PASSES_season_std', 'TEAM_FOULS_season_sum', 'TEAM_SHOTS_TOTAL_5_last_match_std', 'TEAM_SUBSTITUTIONS_5_last_match_std', 'TEAM_ATTACKS_5_last_match_sum', 'TEAM_ATTACKS_5_last_match_average', 'TEAM_YELLOWCARDS_5_last_match_sum', 'TEAM_REDCARDS_season_average', 'TEAM_SHOTS_INSIDEBOX_5_last_match_sum', 'TEAM_OFFSIDES_5_last_match_average', 'TEAM_SHOTS_INSIDEBOX_5_last_match_average', 'TEAM_GOALS_5_last_match_sum', 'TEAM_DANGEROUS_ATTACKS_5_last_match_average', 'TEAM_SHOTS_TOTAL_5_last_match_average', 'TEAM_SHOTS_OFF_TARGET_5_last_match_sum', 'TEAM_SHOTS_OFF_TARGET_5_last_match_average', 'TEAM_SUCCESSFUL_PASSES_PERCENTAGE_season_std', 'TEAM_GAME_WON_5_last_match_average', 'TEAM_FOULS_season_average', 'TEAM_PASSES_5_last_match_std', 'TEAM_SUCCESSFUL_PASSES_5_last_match_std', 'TEAM_SHOTS_OUTSIDEBOX_season_sum', 'TEAM_PENALTIES_5_last_match_std', 'TEAM_GAME_DRAW_5_last_match_sum', 'TEAM_INJURIES_5_last_match_average', 'TEAM_SUCCESSFUL_PASSES_PERCENTAGE_season_average', 'TEAM_SHOTS_TOTAL_5_last_match_sum', 'TEAM_PASSES_season_sum', 'TEAM_REDCARDS_5_last_match_std', 'TEAM_SUCCESSFUL_PASSES_5_last_match_sum']\n",
    "features=['TEAM_GAME_WON_season_sum', 'TEAM_SHOTS_ON_TARGET_season_average', 'TEAM_BALL_POSSESSION_season_average', 'TEAM_ATTACKS_season_sum', 'TEAM_CORNERS_season_average', 'TEAM_DANGEROUS_ATTACKS_season_average', 'TEAM_BALL_SAFE_season_average', 'TEAM_FOULS_5_last_match_std', 'TEAM_CORNERS_5_last_match_sum', 'TEAM_OFFSIDES_season_std', 'TEAM_OFFSIDES_5_last_match_std', 'TEAM_SHOTS_OFF_TARGET_season_average', 'TEAM_REDCARDS_season_std', 'TEAM_SHOTS_TOTAL_5_last_match_std', 'TEAM_SUBSTITUTIONS_5_last_match_std', 'TEAM_YELLOWCARDS_5_last_match_sum', 'TEAM_REDCARDS_season_average', 'TEAM_SHOTS_INSIDEBOX_5_last_match_sum', 'TEAM_DANGEROUS_ATTACKS_5_last_match_average', 'TEAM_SHOTS_TOTAL_5_last_match_average', 'TEAM_SHOTS_OFF_TARGET_5_last_match_sum', 'TEAM_SUCCESSFUL_PASSES_PERCENTAGE_season_std', 'TEAM_FOULS_season_average', 'TEAM_PASSES_5_last_match_std', 'TEAM_SHOTS_OUTSIDEBOX_season_sum', 'TEAM_PENALTIES_5_last_match_std', 'TEAM_GAME_DRAW_5_last_match_sum', 'TEAM_INJURIES_5_last_match_average', 'TEAM_PASSES_season_sum']\n",
    "features=['TEAM_GAME_WON_season_sum', 'TEAM_SHOTS_ON_TARGET_season_average', 'TEAM_BALL_POSSESSION_season_average', 'TEAM_ATTACKS_season_sum', 'TEAM_FOULS_5_last_match_std', 'TEAM_OFFSIDES_season_std', 'TEAM_OFFSIDES_5_last_match_std', 'TEAM_SHOTS_OFF_TARGET_season_average', 'TEAM_SHOTS_TOTAL_5_last_match_std', 'TEAM_SUBSTITUTIONS_5_last_match_std', 'TEAM_YELLOWCARDS_5_last_match_sum', 'TEAM_SHOTS_TOTAL_5_last_match_average', 'TEAM_FOULS_season_average', 'TEAM_GAME_DRAW_5_last_match_sum', 'TEAM_INJURIES_5_last_match_average']\n",
    "features=['TEAM_GAME_WON_season_sum', 'TEAM_SHOTS_ON_TARGET_season_average', 'TEAM_BALL_POSSESSION_season_average', 'TEAM_ATTACKS_season_sum', 'TEAM_OFFSIDES_5_last_match_std', 'TEAM_SHOTS_OFF_TARGET_season_average', 'TEAM_YELLOWCARDS_5_last_match_sum', 'TEAM_FOULS_season_average', 'TEAM_GAME_DRAW_5_last_match_sum']\n",
    "features=['TEAM_GAME_WON_season_sum', 'TEAM_SHOTS_ON_TARGET_season_average', 'TEAM_BALL_POSSESSION_season_average', 'TEAM_ATTACKS_season_sum', 'TEAM_SHOTS_OFF_TARGET_season_average', 'TEAM_YELLOWCARDS_5_last_match_sum']\n",
    "df = test_features(name, features=features)\n",
    "df[['score']].plot.line()"
   ]
  },
  {
   "cell_type": "code",
   "execution_count": null,
   "id": "85bdd811",
   "metadata": {},
   "outputs": [],
   "source": [
    "name = 'catboost'\n",
    "features=['TEAM_GAME_WON_season_sum', 'TEAM_SHOTS_ON_TARGET_5_last_match_std', 'TEAM_BALL_SAFE_season_average', 'TEAM_FOULS_5_last_match_std', 'TEAM_GOALS_5_last_match_std', 'TEAM_OFFSIDES_season_std', 'TEAM_ATTACKS_season_std', 'TEAM_GAME_DRAW_season_sum', 'TEAM_SUBSTITUTIONS_season_sum', 'TEAM_REDCARDS_season_std', 'TEAM_SUCCESSFUL_PASSES_season_std', 'TEAM_SHOTS_TOTAL_5_last_match_std', 'TEAM_SUBSTITUTIONS_5_last_match_std', 'TEAM_ATTACKS_5_last_match_average', 'TEAM_YELLOWCARDS_5_last_match_sum', 'TEAM_SHOTS_INSIDEBOX_5_last_match_average', 'TEAM_SHOTS_TOTAL_5_last_match_average', 'TEAM_SHOTS_OFF_TARGET_5_last_match_sum', 'TEAM_SHOTS_OFF_TARGET_5_last_match_average', 'TEAM_GAME_WON_5_last_match_average', 'TEAM_PASSES_5_last_match_std', 'TEAM_PENALTIES_5_last_match_std', 'TEAM_INJURIES_5_last_match_average', 'TEAM_SUCCESSFUL_PASSES_PERCENTAGE_season_average', 'TEAM_PASSES_season_sum', 'TEAM_REDCARDS_5_last_match_std']\n",
    "features=['TEAM_GAME_WON_season_sum', 'TEAM_ATTACKS_season_std', 'TEAM_GAME_DRAW_season_sum', 'TEAM_SUCCESSFUL_PASSES_season_std', 'TEAM_SUBSTITUTIONS_5_last_match_std', 'TEAM_ATTACKS_5_last_match_average', 'TEAM_YELLOWCARDS_5_last_match_sum', 'TEAM_SHOTS_INSIDEBOX_5_last_match_average', 'TEAM_SHOTS_OFF_TARGET_5_last_match_sum', 'TEAM_GAME_WON_5_last_match_average', 'TEAM_INJURIES_5_last_match_average', 'TEAM_SUCCESSFUL_PASSES_PERCENTAGE_season_average']\n",
    "features=['TEAM_GAME_WON_season_sum', 'TEAM_ATTACKS_season_std', 'TEAM_SUBSTITUTIONS_5_last_match_std', 'TEAM_ATTACKS_5_last_match_average', 'TEAM_SHOTS_INSIDEBOX_5_last_match_average', 'TEAM_SHOTS_OFF_TARGET_5_last_match_sum']\n",
    "features=['TEAM_GAME_WON_season_sum', 'TEAM_ATTACKS_season_std', 'TEAM_ATTACKS_5_last_match_average']\n",
    "df = test_features(name, features=features)\n",
    "df[['score']].plot.line()"
   ]
  },
  {
   "cell_type": "code",
   "execution_count": null,
   "id": "adc53604",
   "metadata": {},
   "outputs": [],
   "source": [
    "name = 'decision_tree'\n",
    "features=['TEAM_GAME_WON_season_sum', 'TEAM_BALL_POSSESSION_season_average', 'TEAM_ATTACKS_season_sum', 'TEAM_GOALS_season_sum', 'TEAM_SHOTS_TOTAL_season_average', 'TEAM_DANGEROUS_ATTACKS_season_average', 'TEAM_GOALS_season_average', 'TEAM_SHOTS_INSIDEBOX_season_average', 'TEAM_ATTACKS_5_last_match_std', 'TEAM_DANGEROUS_ATTACKS_5_last_match_std', 'TEAM_SUBSTITUTIONS_season_std', 'TEAM_BALL_POSSESSION_5_last_match_average', 'TEAM_BALL_SAFE_season_std', 'TEAM_BALL_SAFE_season_average', 'TEAM_FOULS_5_last_match_std', 'TEAM_YELLOWCARDS_season_std', 'TEAM_FOULS_season_std', 'TEAM_CORNERS_5_last_match_sum', 'TEAM_YELLOWCARDS_season_average', 'TEAM_BALL_SAFE_5_last_match_sum', 'TEAM_SAVES_season_sum', 'TEAM_OFFSIDES_season_std', 'TEAM_ATTACKS_season_std', 'TEAM_OFFSIDES_5_last_match_std', 'TEAM_GAME_DRAW_season_sum', 'TEAM_SHOTS_OFF_TARGET_season_average', 'TEAM_SHOTS_TOTAL_season_std', 'TEAM_CORNERS_5_last_match_average', 'TEAM_REDCARDS_season_sum', 'TEAM_OFFSIDES_season_average', 'TEAM_SHOTS_INSIDEBOX_5_last_match_std', 'TEAM_SHOTS_OUTSIDEBOX_5_last_match_std', 'TEAM_SUCCESSFUL_PASSES_season_std', 'TEAM_FOULS_season_sum', 'TEAM_SAVES_5_last_match_average', 'TEAM_ATTACKS_5_last_match_sum', 'TEAM_SHOTS_ON_TARGET_5_last_match_average', 'TEAM_SHOTS_OUTSIDEBOX_season_std', 'TEAM_INJURIES_season_sum', 'TEAM_SHOTS_INSIDEBOX_5_last_match_sum', 'TEAM_OFFSIDES_5_last_match_average', 'TEAM_FOULS_5_last_match_sum', 'TEAM_FOULS_5_last_match_average', 'TEAM_GOALS_5_last_match_sum', 'TEAM_GOALS_5_last_match_average', 'TEAM_SHOTS_ON_TARGET_5_last_match_sum', 'TEAM_SHOTS_TOTAL_5_last_match_average', 'TEAM_PASSES_season_std', 'TEAM_INJURIES_season_average', 'TEAM_SAVES_5_last_match_sum', 'TEAM_GAME_WON_5_last_match_average', 'TEAM_FOULS_season_average', 'TEAM_INJURIES_5_last_match_sum', 'TEAM_PENALTIES_5_last_match_std', 'TEAM_INJURIES_5_last_match_average', 'TEAM_SHOTS_OUTSIDEBOX_5_last_match_sum', 'TEAM_GAME_LOST_5_last_match_average', 'TEAM_PASSES_season_average', 'TEAM_PENALTIES_5_last_match_sum', 'TEAM_PASSES_5_last_match_sum', 'TEAM_SUCCESSFUL_PASSES_5_last_match_average', 'TEAM_PENALTIES_5_last_match_average', 'TEAM_REDCARDS_5_last_match_std', 'TEAM_SUCCESSFUL_PASSES_5_last_match_sum', 'TEAM_REDCARDS_5_last_match_sum']\n",
    "features=['TEAM_GAME_WON_season_sum', 'TEAM_GOALS_season_sum', 'TEAM_SHOTS_TOTAL_season_average', 'TEAM_GOALS_season_average', 'TEAM_ATTACKS_5_last_match_std', 'TEAM_DANGEROUS_ATTACKS_5_last_match_std', 'TEAM_BALL_POSSESSION_5_last_match_average', 'TEAM_BALL_SAFE_season_average', 'TEAM_FOULS_5_last_match_std', 'TEAM_FOULS_season_std', 'TEAM_CORNERS_5_last_match_sum', 'TEAM_BALL_SAFE_5_last_match_sum', 'TEAM_ATTACKS_season_std', 'TEAM_OFFSIDES_5_last_match_std', 'TEAM_SHOTS_OFF_TARGET_season_average', 'TEAM_OFFSIDES_season_average', 'TEAM_SHOTS_OUTSIDEBOX_5_last_match_std', 'TEAM_SUCCESSFUL_PASSES_season_std', 'TEAM_FOULS_season_sum', 'TEAM_SHOTS_OUTSIDEBOX_season_std', 'TEAM_SHOTS_INSIDEBOX_5_last_match_sum', 'TEAM_OFFSIDES_5_last_match_average', 'TEAM_FOULS_5_last_match_average', 'TEAM_GOALS_5_last_match_sum', 'TEAM_GOALS_5_last_match_average', 'TEAM_PASSES_season_std', 'TEAM_SAVES_5_last_match_sum', 'TEAM_FOULS_season_average', 'TEAM_SHOTS_OUTSIDEBOX_5_last_match_sum', 'TEAM_PASSES_season_average', 'TEAM_PASSES_5_last_match_sum', 'TEAM_PENALTIES_5_last_match_average', 'TEAM_SUCCESSFUL_PASSES_5_last_match_sum']\n",
    "features=['TEAM_GAME_WON_season_sum', 'TEAM_ATTACKS_5_last_match_std', 'TEAM_DANGEROUS_ATTACKS_5_last_match_std', 'TEAM_FOULS_5_last_match_std', 'TEAM_CORNERS_5_last_match_sum', 'TEAM_BALL_SAFE_5_last_match_sum', 'TEAM_ATTACKS_season_std', 'TEAM_OFFSIDES_season_average', 'TEAM_SHOTS_OUTSIDEBOX_5_last_match_std', 'TEAM_SUCCESSFUL_PASSES_season_std', 'TEAM_SHOTS_INSIDEBOX_5_last_match_sum', 'TEAM_OFFSIDES_5_last_match_average', 'TEAM_GOALS_5_last_match_average', 'TEAM_PASSES_season_std', 'TEAM_SAVES_5_last_match_sum', 'TEAM_PASSES_5_last_match_sum', 'TEAM_PENALTIES_5_last_match_average']\n",
    "features=['TEAM_GAME_WON_season_sum', 'TEAM_FOULS_5_last_match_std', 'TEAM_CORNERS_5_last_match_sum', 'TEAM_BALL_SAFE_5_last_match_sum', 'TEAM_ATTACKS_season_std', 'TEAM_SUCCESSFUL_PASSES_season_std', 'TEAM_GOALS_5_last_match_average', 'TEAM_PASSES_5_last_match_sum']\n",
    "features=['TEAM_GAME_WON_season_sum', 'TEAM_BALL_SAFE_5_last_match_sum', 'TEAM_ATTACKS_season_std', 'TEAM_GOALS_5_last_match_average']\n",
    "df = test_features(name, features=features)\n",
    "df[['score']].plot.line()"
   ]
  },
  {
   "cell_type": "code",
   "execution_count": null,
   "id": "ed850f35",
   "metadata": {},
   "outputs": [],
   "source": [
    "name = 'mlp'\n",
    "features=['TEAM_GAME_WON_season_average', 'TEAM_GAME_LOST_season_average', 'TEAM_SHOTS_INSIDEBOX_season_average', 'TEAM_DANGEROUS_ATTACKS_season_sum', 'TEAM_BALL_POSSESSION_season_average', 'TEAM_SHOTS_ON_TARGET_season_sum', 'TEAM_CORNERS_season_average', 'TEAM_ATTACKS_5_last_match_std', 'TEAM_CORNERS_season_sum', 'TEAM_ATTACKS_season_std', 'TEAM_BALL_SAFE_season_sum', 'TEAM_GOALS_season_average', 'TEAM_GOALS_season_std', 'TEAM_BALL_SAFE_5_last_match_std', 'TEAM_YELLOWCARDS_season_std', 'TEAM_SHOTS_OFF_TARGET_season_std', 'TEAM_SAVES_5_last_match_std', 'TEAM_REDCARDS_season_std', 'TEAM_OFFSIDES_5_last_match_std', 'TEAM_FOULS_5_last_match_std', 'TEAM_YELLOWCARDS_5_last_match_average', 'TEAM_SAVES_season_sum', 'TEAM_GOALS_5_last_match_std', 'TEAM_PENALTIES_season_average', 'TEAM_YELLOWCARDS_season_sum', 'TEAM_GAME_DRAW_season_average', 'TEAM_SAVES_season_std', 'TEAM_SHOTS_INSIDEBOX_5_last_match_std', 'TEAM_SUBSTITUTIONS_season_sum', 'TEAM_BALL_SAFE_5_last_match_average', 'TEAM_OFFSIDES_season_std', 'TEAM_OFFSIDES_5_last_match_average', 'TEAM_PENALTIES_season_sum', 'TEAM_CORNERS_5_last_match_average', 'TEAM_SUBSTITUTIONS_season_average', 'TEAM_SHOTS_ON_TARGET_5_last_match_average', 'TEAM_FOULS_season_sum', 'TEAM_GAME_DRAW_season_sum', 'TEAM_SHOTS_ON_TARGET_season_std', 'TEAM_SUCCESSFUL_PASSES_PERCENTAGE_5_last_match_std', 'TEAM_SHOTS_OFF_TARGET_season_sum', 'TEAM_ATTACKS_5_last_match_average', 'TEAM_SHOTS_OFF_TARGET_5_last_match_sum', 'TEAM_REDCARDS_season_average', 'TEAM_SHOTS_OFF_TARGET_5_last_match_average', 'TEAM_REDCARDS_season_sum', 'TEAM_GOALS_5_last_match_average', 'TEAM_SHOTS_INSIDEBOX_season_std', 'TEAM_INJURIES_5_last_match_std', 'TEAM_SHOTS_INSIDEBOX_5_last_match_sum', 'TEAM_PASSES_5_last_match_std', 'TEAM_INJURIES_5_last_match_average', 'TEAM_SUCCESSFUL_PASSES_season_average', 'TEAM_SUCCESSFUL_PASSES_PERCENTAGE_season_std', 'TEAM_PASSES_season_average', 'TEAM_GAME_WON_5_last_match_sum', 'TEAM_INJURIES_season_std', 'TEAM_SUCCESSFUL_PASSES_season_std', 'TEAM_PASSES_season_std', 'TEAM_SUCCESSFUL_PASSES_PERCENTAGE_season_average', 'TEAM_GAME_DRAW_5_last_match_sum', 'TEAM_INJURIES_5_last_match_sum', 'TEAM_SHOTS_TOTAL_5_last_match_sum', 'TEAM_GAME_DRAW_5_last_match_average', 'TEAM_GAME_WON_5_last_match_average', 'TEAM_SHOTS_OUTSIDEBOX_5_last_match_average', 'TEAM_SHOTS_OUTSIDEBOX_5_last_match_sum', 'TEAM_SUCCESSFUL_PASSES_5_last_match_average', 'TEAM_SUCCESSFUL_PASSES_season_sum', 'TEAM_REDCARDS_5_last_match_std', 'TEAM_PASSES_5_last_match_sum', 'TEAM_PASSES_5_last_match_average', 'TEAM_PENALTIES_5_last_match_average', 'TEAM_REDCARDS_5_last_match_sum']\n",
    "features=['TEAM_GAME_WON_season_average', 'TEAM_GAME_LOST_season_average', 'TEAM_SHOTS_INSIDEBOX_season_average', 'TEAM_BALL_POSSESSION_season_average', 'TEAM_SHOTS_ON_TARGET_season_sum', 'TEAM_CORNERS_season_average', 'TEAM_CORNERS_season_sum', 'TEAM_GOALS_season_std', 'TEAM_REDCARDS_season_std', 'TEAM_SAVES_season_sum', 'TEAM_GOALS_5_last_match_std', 'TEAM_GAME_DRAW_season_average', 'TEAM_SUBSTITUTIONS_season_sum', 'TEAM_OFFSIDES_season_std', 'TEAM_CORNERS_5_last_match_average', 'TEAM_FOULS_season_sum', 'TEAM_GAME_DRAW_season_sum', 'TEAM_SHOTS_ON_TARGET_season_std', 'TEAM_SHOTS_OFF_TARGET_season_sum', 'TEAM_SHOTS_OFF_TARGET_5_last_match_sum', 'TEAM_SHOTS_OFF_TARGET_5_last_match_average', 'TEAM_GOALS_5_last_match_average', 'TEAM_INJURIES_5_last_match_std', 'TEAM_SHOTS_INSIDEBOX_5_last_match_sum', 'TEAM_SUCCESSFUL_PASSES_PERCENTAGE_season_std', 'TEAM_GAME_WON_5_last_match_sum', 'TEAM_SUCCESSFUL_PASSES_season_std', 'TEAM_SUCCESSFUL_PASSES_PERCENTAGE_season_average', 'TEAM_GAME_DRAW_5_last_match_sum', 'TEAM_INJURIES_5_last_match_sum', 'TEAM_SHOTS_TOTAL_5_last_match_sum', 'TEAM_SHOTS_OUTSIDEBOX_5_last_match_average', 'TEAM_SUCCESSFUL_PASSES_season_sum', 'TEAM_PASSES_5_last_match_sum', 'TEAM_PASSES_5_last_match_average']\n",
    "features=['TEAM_GAME_WON_season_average', 'TEAM_GAME_LOST_season_average', 'TEAM_SHOTS_INSIDEBOX_season_average', 'TEAM_BALL_POSSESSION_season_average', 'TEAM_CORNERS_season_average', 'TEAM_CORNERS_season_sum', 'TEAM_REDCARDS_season_std', 'TEAM_GAME_DRAW_season_average', 'TEAM_OFFSIDES_season_std', 'TEAM_FOULS_season_sum', 'TEAM_SHOTS_OFF_TARGET_season_sum', 'TEAM_GOALS_5_last_match_average', 'TEAM_SUCCESSFUL_PASSES_PERCENTAGE_season_std', 'TEAM_SUCCESSFUL_PASSES_PERCENTAGE_season_average', 'TEAM_GAME_DRAW_5_last_match_sum', 'TEAM_SHOTS_TOTAL_5_last_match_sum', 'TEAM_SHOTS_OUTSIDEBOX_5_last_match_average', 'TEAM_PASSES_5_last_match_sum']\n",
    "features=['TEAM_GAME_WON_season_average', 'TEAM_GAME_LOST_season_average', 'TEAM_SHOTS_INSIDEBOX_season_average', 'TEAM_BALL_POSSESSION_season_average', 'TEAM_REDCARDS_season_std', 'TEAM_OFFSIDES_season_std', 'TEAM_GOALS_5_last_match_average', 'TEAM_SUCCESSFUL_PASSES_PERCENTAGE_season_average', 'TEAM_SHOTS_TOTAL_5_last_match_sum', 'TEAM_SHOTS_OUTSIDEBOX_5_last_match_average']\n",
    "features=['TEAM_GAME_WON_season_average', 'TEAM_GAME_LOST_season_average', 'TEAM_SHOTS_INSIDEBOX_season_average', 'TEAM_REDCARDS_season_std', 'TEAM_SHOTS_TOTAL_5_last_match_sum']\n",
    "df = test_features(name, features=features)\n",
    "df[['score']].plot.line()"
   ]
  },
  {
   "cell_type": "code",
   "execution_count": null,
   "id": "5d37c731",
   "metadata": {},
   "outputs": [],
   "source": [
    "name = 'kneighbors'\n",
    "features=['TEAM_GAME_WON_season_average', 'TEAM_GAME_WON_season_sum', 'TEAM_SHOTS_INSIDEBOX_season_average', 'TEAM_SHOTS_ON_TARGET_season_sum', 'TEAM_DANGEROUS_ATTACKS_season_average', 'TEAM_CORNERS_season_average', 'TEAM_YELLOWCARDS_5_last_match_std', 'TEAM_ATTACKS_season_std', 'TEAM_FOULS_season_std', 'TEAM_GOALS_season_average', 'TEAM_GOALS_season_std', 'TEAM_CORNERS_5_last_match_sum', 'TEAM_SUBSTITUTIONS_season_std', 'TEAM_YELLOWCARDS_season_std', 'TEAM_SAVES_5_last_match_std', 'TEAM_OFFSIDES_5_last_match_std', 'TEAM_BALL_SAFE_season_average', 'TEAM_BALL_POSSESSION_5_last_match_std', 'TEAM_OFFSIDES_5_last_match_sum', 'TEAM_SAVES_season_sum', 'TEAM_YELLOWCARDS_5_last_match_sum', 'TEAM_YELLOWCARDS_season_sum', 'TEAM_SAVES_season_std', 'TEAM_SHOTS_OUTSIDEBOX_5_last_match_std', 'TEAM_BALL_SAFE_5_last_match_average', 'TEAM_OFFSIDES_season_std', 'TEAM_SHOTS_TOTAL_5_last_match_std', 'TEAM_BALL_POSSESSION_5_last_match_average', 'TEAM_CORNERS_5_last_match_average', 'TEAM_SUBSTITUTIONS_season_average', 'TEAM_OFFSIDES_season_sum', 'TEAM_SHOTS_ON_TARGET_season_std', 'TEAM_SHOTS_ON_TARGET_5_last_match_sum', 'TEAM_SUCCESSFUL_PASSES_PERCENTAGE_5_last_match_std', 'TEAM_SHOTS_TOTAL_season_std', 'TEAM_ATTACKS_5_last_match_average', 'TEAM_ATTACKS_5_last_match_sum', 'TEAM_REDCARDS_season_average', 'TEAM_SHOTS_OFF_TARGET_5_last_match_average', 'TEAM_DANGEROUS_ATTACKS_5_last_match_sum', 'TEAM_SHOTS_INSIDEBOX_season_std', 'TEAM_FOULS_season_average', 'TEAM_SHOTS_INSIDEBOX_5_last_match_sum', 'TEAM_GOALS_5_last_match_sum', 'TEAM_SUBSTITUTIONS_5_last_match_average', 'TEAM_SUBSTITUTIONS_5_last_match_sum', 'TEAM_GAME_LOST_5_last_match_average', 'TEAM_SUCCESSFUL_PASSES_PERCENTAGE_season_std', 'TEAM_SUCCESSFUL_PASSES_5_last_match_std', 'TEAM_GAME_WON_5_last_match_sum', 'TEAM_SUCCESSFUL_PASSES_season_std', 'TEAM_GAME_LOST_5_last_match_sum', 'TEAM_PENALTIES_5_last_match_std', 'TEAM_SHOTS_TOTAL_5_last_match_average', 'TEAM_SHOTS_TOTAL_5_last_match_sum', 'TEAM_SHOTS_OUTSIDEBOX_season_average', 'TEAM_GAME_DRAW_5_last_match_average', 'TEAM_GAME_WON_5_last_match_average', 'TEAM_SHOTS_OUTSIDEBOX_5_last_match_sum', 'TEAM_PENALTIES_5_last_match_sum', 'TEAM_REDCARDS_5_last_match_std', 'TEAM_PASSES_5_last_match_average', 'TEAM_PENALTIES_5_last_match_average']\n",
    "features=['TEAM_GAME_WON_season_average', 'TEAM_SHOTS_INSIDEBOX_season_average', 'TEAM_CORNERS_season_average', 'TEAM_ATTACKS_season_std', 'TEAM_FOULS_season_std', 'TEAM_GOALS_season_std', 'TEAM_SUBSTITUTIONS_season_std', 'TEAM_SAVES_5_last_match_std', 'TEAM_OFFSIDES_5_last_match_sum', 'TEAM_SAVES_season_sum', 'TEAM_YELLOWCARDS_season_sum', 'TEAM_SHOTS_OUTSIDEBOX_5_last_match_std', 'TEAM_SHOTS_TOTAL_5_last_match_std', 'TEAM_BALL_POSSESSION_5_last_match_average', 'TEAM_CORNERS_5_last_match_average', 'TEAM_SUBSTITUTIONS_season_average', 'TEAM_SHOTS_ON_TARGET_season_std', 'TEAM_SHOTS_TOTAL_season_std', 'TEAM_ATTACKS_5_last_match_sum', 'TEAM_SHOTS_INSIDEBOX_season_std', 'TEAM_SHOTS_INSIDEBOX_5_last_match_sum', 'TEAM_GOALS_5_last_match_sum', 'TEAM_SUBSTITUTIONS_5_last_match_sum', 'TEAM_SUCCESSFUL_PASSES_PERCENTAGE_season_std', 'TEAM_SUCCESSFUL_PASSES_5_last_match_std', 'TEAM_GAME_WON_5_last_match_sum', 'TEAM_GAME_LOST_5_last_match_sum', 'TEAM_SHOTS_TOTAL_5_last_match_sum', 'TEAM_SHOTS_OUTSIDEBOX_season_average', 'TEAM_GAME_WON_5_last_match_average', 'TEAM_PASSES_5_last_match_average']\n",
    "features=['TEAM_GAME_WON_season_average', 'TEAM_CORNERS_season_average', 'TEAM_ATTACKS_season_std', 'TEAM_GOALS_season_std', 'TEAM_SUBSTITUTIONS_season_std', 'TEAM_OFFSIDES_5_last_match_sum', 'TEAM_YELLOWCARDS_season_sum', 'TEAM_SHOTS_OUTSIDEBOX_5_last_match_std', 'TEAM_BALL_POSSESSION_5_last_match_average', 'TEAM_SHOTS_ON_TARGET_season_std', 'TEAM_SHOTS_TOTAL_season_std', 'TEAM_SHOTS_INSIDEBOX_season_std', 'TEAM_GOALS_5_last_match_sum', 'TEAM_SUCCESSFUL_PASSES_PERCENTAGE_season_std', 'TEAM_GAME_LOST_5_last_match_sum', 'TEAM_SHOTS_OUTSIDEBOX_season_average']\n",
    "features=['TEAM_GAME_WON_season_average', 'TEAM_ATTACKS_season_std', 'TEAM_SUBSTITUTIONS_season_std', 'TEAM_OFFSIDES_5_last_match_sum', 'TEAM_SHOTS_OUTSIDEBOX_5_last_match_std', 'TEAM_BALL_POSSESSION_5_last_match_average', 'TEAM_GOALS_5_last_match_sum']\n",
    "features=['TEAM_GAME_WON_season_average', 'TEAM_OFFSIDES_5_last_match_sum', 'TEAM_SHOTS_OUTSIDEBOX_5_last_match_std', 'TEAM_BALL_POSSESSION_5_last_match_average']\n",
    "df = test_features(name, features=features)\n",
    "df[['score']].plot.line()"
   ]
  },
  {
   "cell_type": "code",
   "execution_count": null,
   "id": "619ea796",
   "metadata": {},
   "outputs": [],
   "source": [
    "def plot_features(folder = '../data/output/features/'):\n",
    "   import os, pandas\n",
    "   df = None\n",
    "   for filename in os.listdir(folder):\n",
    "      # if not os.path.isfile(filename): continue\n",
    "      model = filename.split('.')[0]\n",
    "      df_tmp = pandas.read_csv(f'{folder}{filename}')\n",
    "      df_tmp[model] = df_tmp['score']\n",
    "      if df is None:\n",
    "         df = df_tmp[[model]]\n",
    "      else:\n",
    "         df[model] = df_tmp[[model]]\n",
    "   df.plot.line()"
   ]
  },
  {
   "cell_type": "code",
   "execution_count": null,
   "id": "50f7dadf",
   "metadata": {},
   "outputs": [],
   "source": [
    "plot_features('../data/output/features/')"
   ]
  },
  {
   "cell_type": "code",
   "execution_count": null,
   "id": "95f02266",
   "metadata": {},
   "outputs": [],
   "source": [
    "plot_features('../data/output/all_features/')"
   ]
  }
 ],
 "metadata": {
  "kernelspec": {
   "display_name": "Python 3 (ipykernel)",
   "language": "python",
   "name": "python3"
  },
  "language_info": {
   "codemirror_mode": {
    "name": "ipython",
    "version": 3
   },
   "file_extension": ".py",
   "mimetype": "text/x-python",
   "name": "python",
   "nbconvert_exporter": "python",
   "pygments_lexer": "ipython3",
   "version": "3.11.7"
  }
 },
 "nbformat": 4,
 "nbformat_minor": 5
}
