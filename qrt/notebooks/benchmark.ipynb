{
 "cells": [
  {
   "cell_type": "code",
   "execution_count": null,
   "id": "cfdea75f",
   "metadata": {},
   "outputs": [],
   "source": [
    "%load_ext autoreload\n",
    "%autoreload 2\n",
    "import sys, warnings, time, numpy, yaml, pandas\n",
    "sys.path.append(\"../src/\") # go to parent dir\n",
    "from data_access import get_X, get_y, get_train_test\n",
    "from models.factory import ModelFactory\n",
    "from models.xgboost_model import XgboostModel\n",
    "from models.sklearn_model import SklearnModel\n",
    "warnings.filterwarnings('ignore')"
   ]
  },
  {
   "cell_type": "code",
   "execution_count": null,
   "id": "f766bfa6",
   "metadata": {},
   "outputs": [],
   "source": [
    "feature=['HOME_WINS', 'DRAW', 'AWAY_WINS']\n",
    "train_data = get_X('train')\n",
    "train_scores = get_y()\n",
    "test_data = get_X('test')\n",
    "X_train, y_train, X_test, y_test, target = get_train_test(train_size=0.8, random_state=42, feature=feature)"
   ]
  },
  {
   "cell_type": "code",
   "execution_count": null,
   "id": "285b43c3",
   "metadata": {},
   "outputs": [],
   "source": [
    "print(f'y_train={y_train.head()}')\n",
    "print(f'y_test={y_test.head()}')\n",
    "print(f'target={target.head()}')"
   ]
  },
  {
   "cell_type": "code",
   "execution_count": null,
   "id": "b917b69e",
   "metadata": {},
   "outputs": [],
   "source": [
    "def eval_model(model, save_model=False):\n",
    "    start = time.time()\n",
    "    model.train()\n",
    "    score = model.evaluate(X_test)\n",
    "    end = time.time()\n",
    "    print(f'{model.name}={score} in {numpy.round((end-start), 2)}s')\n",
    "    if save_model:\n",
    "        model.save(test_data)\n",
    "    return {'name': model.name, 'score': score, 'time': numpy.round((end-start), 2)}"
   ]
  },
  {
   "cell_type": "code",
   "execution_count": null,
   "id": "db21ca92",
   "metadata": {},
   "outputs": [],
   "source": [
    "%load_ext autoreload\n",
    "%autoreload 2\n",
    "name= 'gradient_boosting'\n",
    "with open('../confs/models.yaml', 'r') as file:\n",
    "    configurations = yaml.safe_load(file)\n",
    "factory = ModelFactory(configurations, X_train, y_train, train_scores)\n",
    "start = time.time()\n",
    "model = factory.get_model(name)\n",
    "model.train()\n",
    "score = model.evaluate(X_test)\n",
    "# model.save(test_data)\n",
    "end = time.time()\n",
    "print(f'{model.name}={score} in {numpy.round((end-start), 2)}s')"
   ]
  },
  {
   "cell_type": "code",
   "execution_count": null,
   "id": "6c4d587f",
   "metadata": {},
   "outputs": [],
   "source": [
    "%load_ext autoreload\n",
    "%autoreload 2\n",
    "save_model = True\n",
    "with open('../confs/models.yaml', 'r') as file:\n",
    "    configurations = yaml.safe_load(file)\n",
    "factory = ModelFactory(configurations, X_train, y_train, train_scores)\n",
    "lines = []\n",
    "for model in factory.get_models():\n",
    "    start = time.time()\n",
    "    model.train()\n",
    "    score = model.evaluate(X_test)\n",
    "    end = time.time()\n",
    "    print(f'{model.name}={score} in {numpy.round((end-start), 2)}s')\n",
    "    lines.append(eval_model(model, save_model))\n",
    "df = pandas.DataFrame(lines)\n",
    "df = df.sort_values(by=['score'], ascending=False)"
   ]
  },
  {
   "cell_type": "code",
   "execution_count": null,
   "id": "6fde6915",
   "metadata": {},
   "outputs": [],
   "source": [
    "print(df)"
   ]
  }
 ],
 "metadata": {
  "kernelspec": {
   "display_name": "Python 3 (ipykernel)",
   "language": "python",
   "name": "python3"
  },
  "language_info": {
   "codemirror_mode": {
    "name": "ipython",
    "version": 3
   },
   "file_extension": ".py",
   "mimetype": "text/x-python",
   "name": "python",
   "nbconvert_exporter": "python",
   "pygments_lexer": "ipython3",
   "version": "3.12.1"
  }
 },
 "nbformat": 4,
 "nbformat_minor": 5
}
