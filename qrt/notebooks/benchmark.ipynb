{
 "cells": [
  {
   "cell_type": "code",
   "execution_count": null,
   "id": "cfdea75f",
   "metadata": {},
   "outputs": [],
   "source": [
    "%load_ext autoreload\n",
    "%autoreload 2\n",
    "import sys, warnings\n",
    "sys.path.append(\"../src/\") # go to parent dir\n",
    "from main import get_X, get_y, get_score, get_train_test\n",
    "# from models import get_model_benchmark1, get_model_benchmark2, show_importance\n",
    "from models.model import Model\n",
    "from models.benchmark import Benchmark1, Benchmark2\n",
    "warnings.filterwarnings('ignore')"
   ]
  },
  {
   "cell_type": "markdown",
   "id": "81774830",
   "metadata": {},
   "source": [
    "## Read Train data"
   ]
  },
  {
   "cell_type": "code",
   "execution_count": null,
   "id": "f766bfa6",
   "metadata": {},
   "outputs": [],
   "source": [
    "train_data = get_X('train')\n",
    "train_scores = get_y()\n",
    "test_data = get_X('test')"
   ]
  },
  {
   "cell_type": "markdown",
   "id": "72068e90-b2e3-41cf-b5de-41b86dd1c1cc",
   "metadata": {},
   "source": [
    "## Benchmark\n",
    "\n",
    "We try to model if AWAY wins"
   ]
  },
  {
   "cell_type": "markdown",
   "id": "73acde0c",
   "metadata": {},
   "source": [
    "### train, valid test split"
   ]
  },
  {
   "cell_type": "code",
   "execution_count": null,
   "id": "af718ee6",
   "metadata": {},
   "outputs": [],
   "source": [
    "X_train, y_train, X_test, y_test, X_valid, y_valid, target = get_train_test(train_size=0.8, random_state=42)"
   ]
  },
  {
   "cell_type": "markdown",
   "id": "a02bbbd6",
   "metadata": {},
   "source": [
    "### xgb model"
   ]
  },
  {
   "cell_type": "code",
   "execution_count": null,
   "id": "282620c0",
   "metadata": {},
   "outputs": [],
   "source": [
    "%load_ext autoreload\n",
    "%autoreload 2\n",
    "benchmark1 = Benchmark1(X_train, y_train, X_valid, y_valid, train_scores)\n",
    "benchmark1.train()\n",
    "benchmark1.evaluate(X_test)\n",
    "# benchmark1.save(test_data)"
   ]
  },
  {
   "cell_type": "code",
   "execution_count": null,
   "id": "b019d2b7",
   "metadata": {},
   "outputs": [],
   "source": [
    "%load_ext autoreload\n",
    "%autoreload 2\n",
    "benchmark2 = Benchmark2(X_train, y_train, X_valid, y_valid, train_scores)\n",
    "benchmark2.train()\n",
    "benchmark2.evaluate(X_test)"
   ]
  },
  {
   "cell_type": "code",
   "execution_count": null,
   "id": "225fc43e",
   "metadata": {},
   "outputs": [],
   "source": [
    "benchmark2.save(test_data)"
   ]
  },
  {
   "cell_type": "markdown",
   "id": "0afc795a-5be0-40ae-82e3-03cdfdebb9ec",
   "metadata": {},
   "source": [
    "## Submission"
   ]
  },
  {
   "cell_type": "code",
   "execution_count": null,
   "id": "f4213dad-d1e4-43e0-b550-6c45f7c191e7",
   "metadata": {
    "execution": {
     "iopub.execute_input": "2023-12-03T09:15:39.460534Z",
     "iopub.status.busy": "2023-12-03T09:15:39.460345Z",
     "iopub.status.idle": "2023-12-03T09:15:39.803528Z",
     "shell.execute_reply": "2023-12-03T09:15:39.802034Z",
     "shell.execute_reply.started": "2023-12-03T09:15:39.460520Z"
    },
    "tags": []
   },
   "outputs": [],
   "source": [
    "test_data = get_X('test')"
   ]
  },
  {
   "cell_type": "code",
   "execution_count": null,
   "id": "47898db7-290c-4fae-85cc-cfaa82977e16",
   "metadata": {
    "execution": {
     "iopub.execute_input": "2023-12-03T09:47:51.002870Z",
     "iopub.status.busy": "2023-12-03T09:47:51.002680Z",
     "iopub.status.idle": "2023-12-03T09:47:51.145776Z",
     "shell.execute_reply": "2023-12-03T09:47:51.144474Z",
     "shell.execute_reply.started": "2023-12-03T09:47:51.002857Z"
    },
    "tags": []
   },
   "outputs": [],
   "source": [
    "X_bench = xgb.DMatrix(test_data)\n",
    "\n",
    "predictions = bst.predict(X_bench, iteration_range=(0, bst.best_iteration))\n",
    "predictions = pd.DataFrame(predictions)\n",
    "\n",
    "predictions[2] = 0\n",
    "predictions.columns = [0,2,1]\n",
    "predictions = (predictions.reindex(columns=[0,1,2]).rank(1,ascending=False)==1).astype(int)\n",
    "\n",
    "predictions.columns = ['HOME_WINS', 'DRAW', 'AWAY_WINS']\n",
    "predictions.index = test_data.index\n",
    "submission = predictions.reset_index()\n",
    "submission.to_csv('./benchmark_submission.csv', index=False)\n",
    "submission.head()"
   ]
  }
 ],
 "metadata": {
  "kernelspec": {
   "display_name": "Python 3 (ipykernel)",
   "language": "python",
   "name": "python3"
  },
  "language_info": {
   "codemirror_mode": {
    "name": "ipython",
    "version": 3
   },
   "file_extension": ".py",
   "mimetype": "text/x-python",
   "name": "python",
   "nbconvert_exporter": "python",
   "pygments_lexer": "ipython3",
   "version": "3.12.1"
  }
 },
 "nbformat": 4,
 "nbformat_minor": 5
}
