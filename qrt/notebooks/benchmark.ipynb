{
 "cells": [
  {
   "cell_type": "code",
   "execution_count": null,
   "id": "cfdea75f",
   "metadata": {},
   "outputs": [],
   "source": [
    "%load_ext autoreload\n",
    "%autoreload 2\n",
    "import sys, warnings, time, numpy, yaml, pandas, logging\n",
    "sys.path.append(\"../src/\") # go to parent dir\n",
    "from data_access import get_X, get_y, get_train_test\n",
    "from models.factory import ModelFactory\n",
    "warnings.filterwarnings('ignore')\n",
    "with open('../confs/logs.yaml', 'rt') as f:\n",
    "    config = yaml.safe_load(f.read())\n",
    "logging.config.dictConfig(config)"
   ]
  },
  {
   "cell_type": "code",
   "execution_count": null,
   "id": "f766bfa6",
   "metadata": {},
   "outputs": [],
   "source": [
    "X_train, y_train, X_test, y_test, target = get_train_test(train_size=0.8, random_state=42)\n",
    "features = ['TEAM_GAME_WON_season_sum', 'TEAM_GAME_WON_season_average', 'TEAM_SHOTS_ON_TARGET_season_average', 'TEAM_SHOTS_ON_TARGET_season_sum', 'TEAM_GAME_LOST_season_sum', 'TEAM_GAME_LOST_season_average', 'TEAM_ATTACKS_season_average', 'TEAM_BALL_POSSESSION_season_average', 'TEAM_SHOTS_TOTAL_season_average', 'TEAM_SHOTS_INSIDEBOX_season_average', 'TEAM_DANGEROUS_ATTACKS_season_sum', 'TEAM_GOALS_season_average', 'TEAM_YELLOWCARDS_5_last_match_std', 'TEAM_GOALS_season_sum', 'TEAM_CORNERS_season_average', 'TEAM_SHOTS_ON_TARGET_5_last_match_std', 'TEAM_YELLOWCARDS_season_std', 'TEAM_ATTACKS_5_last_match_std', 'TEAM_DANGEROUS_ATTACKS_season_average', 'TEAM_SHOTS_OFF_TARGET_season_std']\n",
    "X_train = X_train[features]\n",
    "X_test = X_test[features]\n",
    "train_scores = get_y()\n",
    "test_data = get_X('test')[features]"
   ]
  },
  {
   "cell_type": "code",
   "execution_count": null,
   "id": "b917b69e",
   "metadata": {},
   "outputs": [],
   "source": [
    "def eval_model(model, save_model=False, X=X_test):\n",
    "    start = time.time()\n",
    "    model.fit()\n",
    "    score = model.evaluate(X)\n",
    "    end = time.time()\n",
    "    logging.info(f'{model.name}={score} in {numpy.round((end-start), 2)}s')\n",
    "    if save_model:\n",
    "        model.save(test_data)\n",
    "    return {'name': model.name, 'score': score, 'time': numpy.round((end-start), 2)}"
   ]
  },
  {
   "cell_type": "code",
   "execution_count": null,
   "id": "db21ca92",
   "metadata": {},
   "outputs": [],
   "source": [
    "%load_ext autoreload\n",
    "%autoreload 2\n",
    "def eval_model_for_name(name, X=X_train, y=y_train):\n",
    "    with open('../confs/models.yaml', 'r') as file:\n",
    "        configurations = yaml.safe_load(file)\n",
    "    factory = ModelFactory(configurations, X, y, train_scores)\n",
    "    model = factory.get_model(name)\n",
    "    return eval_model(model)"
   ]
  },
  {
   "cell_type": "code",
   "execution_count": null,
   "id": "06cc2593",
   "metadata": {},
   "outputs": [],
   "source": [
    "def get_features(name = 'random_forest'):\n",
    "    with open('../confs/models.yaml', 'r') as file:\n",
    "        configurations = yaml.safe_load(file)\n",
    "    factory = ModelFactory(configurations, X_train, y_train, train_scores)\n",
    "    model = factory.get_model(name)\n",
    "    eval_model(model)\n",
    "    print(min(model.model.feature_importances_))\n",
    "    print(max(model.model.feature_importances_))\n",
    "    feature_names = [X_train.columns[i] for i in range(X_train.shape[1])]\n",
    "    df_importances = pandas.DataFrame({'feature': feature_names, 'importance': model.model.feature_importances_})\n",
    "    df_importances = df_importances.sort_values(by=['importance'], ascending=False)\n",
    "    # for row in df_importances.iterrows():\n",
    "    #     logging.info(row)\n",
    "    return list(df_importances['feature'])"
   ]
  },
  {
   "cell_type": "code",
   "execution_count": 22,
   "id": "7815d4af",
   "metadata": {},
   "outputs": [],
   "source": [
    "names = ['dummy', 'random_forest']\n",
    "names= ['xgb_gblinear', 'catboost', 'random_forest', 'gradient_boosting', 'ada_boost', 'extra_trees', 'hist_gradient_boosting']\n",
    "names= ['keras_relu']\n",
    "for name in names:\n",
    "    eval_model_for_name(name)"
   ]
  },
  {
   "cell_type": "code",
   "execution_count": null,
   "id": "27380507",
   "metadata": {},
   "outputs": [],
   "source": [
    "name = 'random_forest'\n",
    "with open('../confs/models.yaml', 'r') as file:\n",
    "    configurations = yaml.safe_load(file)\n",
    "features = get_features()\n",
    "lines = []\n",
    "for i in range(len(features), 1, -1):\n",
    "    sub_features = features[:i]\n",
    "    factory = ModelFactory(configurations, X_train[sub_features], y_train, train_scores)\n",
    "    model = factory.get_model(name)\n",
    "    model.name = f'{name}_{i}'\n",
    "    line = eval_model(model,X=X_test[sub_features])\n",
    "    lines.append(line)\n",
    "    logging.info(sub_features)\n",
    "df = pandas.DataFrame(lines)"
   ]
  },
  {
   "cell_type": "code",
   "execution_count": null,
   "id": "29bee754",
   "metadata": {},
   "outputs": [],
   "source": [
    "df[['score']].plot.line()"
   ]
  },
  {
   "cell_type": "code",
   "execution_count": null,
   "id": "2c8be2f4",
   "metadata": {},
   "outputs": [],
   "source": [
    "df.sort_values(by=['score'], ascending=False)"
   ]
  },
  {
   "cell_type": "code",
   "execution_count": null,
   "id": "fdc703a8",
   "metadata": {},
   "outputs": [],
   "source": [
    "%load_ext autoreload\n",
    "%autoreload 2\n",
    "from models.stacking_model import StackingModel\n",
    "names= ['catboost', 'random_forest', 'gradient_boosting', 'ada_boost', 'extra_trees', 'hist_gradient_boosting']\n",
    "# names= ['catboost', 'random_forest']\n",
    "# names= ['random_forest']\n",
    "with open('../confs/models.yaml', 'r') as file:\n",
    "    configurations = yaml.safe_load(file)\n",
    "factory = ModelFactory(configurations, X_train, y_train, train_scores)\n",
    "params = {'estimators': {name:factory.get_model(name) for name in names}}\n",
    "\n",
    "model = StackingModel(X_train, y_train, train_scores, params)\n",
    "line = eval_model(model)\n",
    "model.name = 'stacking_classifier'\n",
    "model.save(test_data)"
   ]
  },
  {
   "cell_type": "code",
   "execution_count": null,
   "id": "fafb2c6c",
   "metadata": {},
   "outputs": [],
   "source": [
    "score = model.evaluate(X_test)\n",
    "print(f'{model.name}={score}')"
   ]
  },
  {
   "cell_type": "code",
   "execution_count": null,
   "id": "6c4d587f",
   "metadata": {},
   "outputs": [],
   "source": [
    "%load_ext autoreload\n",
    "%autoreload 2\n",
    "save_model = True\n",
    "with open('../confs/models.yaml', 'r') as file:\n",
    "    configurations = yaml.safe_load(file)\n",
    "factory = ModelFactory(configurations, X_train, y_train, train_scores)\n",
    "lines = []\n",
    "for model in factory.get_models():\n",
    "    model.fit()\n",
    "    score = model.evaluate(X_test)\n",
    "    lines.append(eval_model(model, save_model))\n",
    "df = pandas.DataFrame(lines)\n",
    "df = df.sort_values(by=['score'], ascending=False)"
   ]
  },
  {
   "cell_type": "code",
   "execution_count": null,
   "id": "6fde6915",
   "metadata": {},
   "outputs": [],
   "source": [
    "df=df.sort_values(by=['score'], ascending=False)\n",
    "print(df.sort_values(by=['score'], ascending=False))\n",
    "df.to_csv('../data/result.csv')"
   ]
  }
 ],
 "metadata": {
  "kernelspec": {
   "display_name": "Python 3 (ipykernel)",
   "language": "python",
   "name": "python3"
  },
  "language_info": {
   "codemirror_mode": {
    "name": "ipython",
    "version": 3
   },
   "file_extension": ".py",
   "mimetype": "text/x-python",
   "name": "python",
   "nbconvert_exporter": "python",
   "pygments_lexer": "ipython3",
   "version": "3.11.7"
  }
 },
 "nbformat": 4,
 "nbformat_minor": 5
}
