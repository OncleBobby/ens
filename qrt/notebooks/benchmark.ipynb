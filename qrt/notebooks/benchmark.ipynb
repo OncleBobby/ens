{
 "cells": [
  {
   "cell_type": "code",
   "execution_count": null,
   "id": "cfdea75f",
   "metadata": {},
   "outputs": [],
   "source": [
    "%load_ext autoreload\n",
    "%autoreload 2\n",
    "import sys, warnings\n",
    "sys.path.append(\"../src/\") # go to parent dir\n",
    "from main import get_X, get_y, get_score, get_train_test\n",
    "from models import get_model_default, show_importance\n",
    "warnings.filterwarnings('ignore')"
   ]
  },
  {
   "cell_type": "code",
   "execution_count": null,
   "id": "0271094b",
   "metadata": {
    "execution": {
     "iopub.execute_input": "2023-12-03T09:01:05.918991Z",
     "iopub.status.busy": "2023-12-03T09:01:05.918796Z",
     "iopub.status.idle": "2023-12-03T09:01:07.725180Z",
     "shell.execute_reply": "2023-12-03T09:01:07.723966Z",
     "shell.execute_reply.started": "2023-12-03T09:01:05.918976Z"
    },
    "tags": []
   },
   "outputs": [],
   "source": [
    "import pandas as pd\n",
    "import numpy as np\n",
    "from sklearn import model_selection\n",
    "import xgboost as xgb\n",
    "import matplotlib.pyplot as plt"
   ]
  },
  {
   "cell_type": "markdown",
   "id": "81774830",
   "metadata": {},
   "source": [
    "## Read Train data"
   ]
  },
  {
   "cell_type": "code",
   "execution_count": null,
   "id": "f766bfa6",
   "metadata": {},
   "outputs": [],
   "source": [
    "train_data = get_X('train')\n",
    "train_scores = get_y()"
   ]
  },
  {
   "cell_type": "markdown",
   "id": "72068e90-b2e3-41cf-b5de-41b86dd1c1cc",
   "metadata": {},
   "source": [
    "## Benchmark\n",
    "\n",
    "We try to model if AWAY wins"
   ]
  },
  {
   "cell_type": "markdown",
   "id": "73acde0c",
   "metadata": {},
   "source": [
    "### train, valid test split"
   ]
  },
  {
   "cell_type": "code",
   "execution_count": null,
   "id": "af718ee6",
   "metadata": {},
   "outputs": [],
   "source": [
    "X_train, y_train, X_test, y_test, X_valid, y_valid = get_train_test(train_size=0.8, random_state=42)"
   ]
  },
  {
   "cell_type": "markdown",
   "id": "a02bbbd6",
   "metadata": {},
   "source": [
    "### xgb model"
   ]
  },
  {
   "cell_type": "code",
   "execution_count": null,
   "id": "282620c0",
   "metadata": {},
   "outputs": [],
   "source": [
    "model = get_model_default(X_train, y_train, X_valid, y_valid)"
   ]
  },
  {
   "cell_type": "markdown",
   "id": "7452620c",
   "metadata": {},
   "source": [
    "### Some analysis"
   ]
  },
  {
   "cell_type": "code",
   "execution_count": null,
   "id": "ec610c15",
   "metadata": {},
   "outputs": [],
   "source": [
    "show_importance(model)"
   ]
  },
  {
   "cell_type": "markdown",
   "id": "0fd1cfcc",
   "metadata": {},
   "source": [
    "### Accuracy on test set"
   ]
  },
  {
   "cell_type": "markdown",
   "id": "f3718f39-b04b-4186-b40d-8c8e2c8442e0",
   "metadata": {},
   "source": [
    "A simple benchmark is always predicting home wins"
   ]
  },
  {
   "cell_type": "code",
   "execution_count": null,
   "id": "4876b668-61c5-4abb-ac0c-fae21627632a",
   "metadata": {
    "execution": {
     "iopub.execute_input": "2023-12-03T09:09:17.367483Z",
     "iopub.status.busy": "2023-12-03T09:09:17.367299Z",
     "iopub.status.idle": "2023-12-03T09:09:17.378107Z",
     "shell.execute_reply": "2023-12-03T09:09:17.376532Z",
     "shell.execute_reply.started": "2023-12-03T09:09:17.367468Z"
    },
    "tags": []
   },
   "outputs": [],
   "source": [
    "target = train_scores.loc[X_test.index].copy()\n",
    "\n",
    "home_wins = target\n",
    "home_wins = 0 * home_wins\n",
    "home_wins.iloc[:,0] = 1\n",
    "\n",
    "np.round(accuracy_score(home_wins,target),4)"
   ]
  },
  {
   "cell_type": "markdown",
   "id": "c48ae0b6-3a87-4a1f-9277-8f88e148592f",
   "metadata": {},
   "source": [
    "Using our model"
   ]
  },
  {
   "cell_type": "code",
   "execution_count": null,
   "id": "206dbc18",
   "metadata": {
    "execution": {
     "iopub.execute_input": "2023-12-03T09:09:38.720204Z",
     "iopub.status.busy": "2023-12-03T09:09:38.719930Z",
     "iopub.status.idle": "2023-12-03T09:09:38.744635Z",
     "shell.execute_reply": "2023-12-03T09:09:38.743865Z",
     "shell.execute_reply.started": "2023-12-03T09:09:38.720185Z"
    },
    "scrolled": true,
    "tags": []
   },
   "outputs": [],
   "source": [
    "X_test_xgb = xgb.DMatrix(X_test)\n",
    "\n",
    "predictions = bst.predict(X_test_xgb, iteration_range=(0, bst.best_iteration))\n",
    "predictions = pd.DataFrame(predictions)\n",
    "\n",
    "get_score(predictions, target)"
   ]
  },
  {
   "cell_type": "markdown",
   "id": "0afc795a-5be0-40ae-82e3-03cdfdebb9ec",
   "metadata": {},
   "source": [
    "## Submission"
   ]
  },
  {
   "cell_type": "code",
   "execution_count": null,
   "id": "f4213dad-d1e4-43e0-b550-6c45f7c191e7",
   "metadata": {
    "execution": {
     "iopub.execute_input": "2023-12-03T09:15:39.460534Z",
     "iopub.status.busy": "2023-12-03T09:15:39.460345Z",
     "iopub.status.idle": "2023-12-03T09:15:39.803528Z",
     "shell.execute_reply": "2023-12-03T09:15:39.802034Z",
     "shell.execute_reply.started": "2023-12-03T09:15:39.460520Z"
    },
    "tags": []
   },
   "outputs": [],
   "source": [
    "test_data = get_X('test')"
   ]
  },
  {
   "cell_type": "code",
   "execution_count": null,
   "id": "47898db7-290c-4fae-85cc-cfaa82977e16",
   "metadata": {
    "execution": {
     "iopub.execute_input": "2023-12-03T09:47:51.002870Z",
     "iopub.status.busy": "2023-12-03T09:47:51.002680Z",
     "iopub.status.idle": "2023-12-03T09:47:51.145776Z",
     "shell.execute_reply": "2023-12-03T09:47:51.144474Z",
     "shell.execute_reply.started": "2023-12-03T09:47:51.002857Z"
    },
    "tags": []
   },
   "outputs": [],
   "source": [
    "X_bench = xgb.DMatrix(test_data)\n",
    "\n",
    "predictions = bst.predict(X_bench, iteration_range=(0, bst.best_iteration))\n",
    "predictions = pd.DataFrame(predictions)\n",
    "\n",
    "predictions[2] = 0\n",
    "predictions.columns = [0,2,1]\n",
    "predictions = (predictions.reindex(columns=[0,1,2]).rank(1,ascending=False)==1).astype(int)\n",
    "\n",
    "predictions.columns = ['HOME_WINS', 'DRAW', 'AWAY_WINS']\n",
    "predictions.index = test_data.index\n",
    "submission = predictions.reset_index()\n",
    "submission.to_csv('./benchmark_submission.csv', index=False)\n",
    "submission.head()"
   ]
  }
 ],
 "metadata": {
  "kernelspec": {
   "display_name": "Python 3 (ipykernel)",
   "language": "python",
   "name": "python3"
  },
  "language_info": {
   "codemirror_mode": {
    "name": "ipython",
    "version": 3
   },
   "file_extension": ".py",
   "mimetype": "text/x-python",
   "name": "python",
   "nbconvert_exporter": "python",
   "pygments_lexer": "ipython3",
   "version": "3.12.1"
  }
 },
 "nbformat": 4,
 "nbformat_minor": 5
}
