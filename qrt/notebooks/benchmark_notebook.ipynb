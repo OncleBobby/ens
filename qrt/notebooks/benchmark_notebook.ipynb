{
 "cells": [
  {
   "cell_type": "code",
   "execution_count": null,
   "id": "0271094b",
   "metadata": {
    "execution": {
     "iopub.execute_input": "2023-12-03T09:01:05.918991Z",
     "iopub.status.busy": "2023-12-03T09:01:05.918796Z",
     "iopub.status.idle": "2023-12-03T09:01:07.725180Z",
     "shell.execute_reply": "2023-12-03T09:01:07.723966Z",
     "shell.execute_reply.started": "2023-12-03T09:01:05.918976Z"
    },
    "tags": []
   },
   "outputs": [],
   "source": [
    "import pandas as pd\n",
    "import numpy as np\n",
    "from tqdm import tqdm\n",
    "from sklearn import model_selection\n",
    "from sklearn.metrics import accuracy_score\n",
    "import xgboost as xgb\n",
    "import warnings\n",
    "import matplotlib.pyplot as plt\n",
    "\n",
    "warnings.filterwarnings('ignore')"
   ]
  },
  {
   "cell_type": "markdown",
   "id": "81774830",
   "metadata": {},
   "source": [
    "## Read Train data"
   ]
  },
  {
   "cell_type": "code",
   "execution_count": null,
   "id": "6aee6b65-07fa-442e-b0b3-4328ef3007e5",
   "metadata": {
    "execution": {
     "iopub.execute_input": "2023-12-03T08:49:06.618707Z",
     "iopub.status.busy": "2023-12-03T08:49:06.618608Z",
     "iopub.status.idle": "2023-12-03T08:49:06.882305Z",
     "shell.execute_reply": "2023-12-03T08:49:06.881730Z",
     "shell.execute_reply.started": "2023-12-03T08:49:06.618696Z"
    },
    "tags": []
   },
   "outputs": [],
   "source": [
    "\n",
    "train_home_team_statistics_df = pd.read_csv('../data/input/Train_Data/train_home_team_statistics_df.csv', index_col=0)\n",
    "train_away_team_statistics_df = pd.read_csv('../data/input/Train_Data/train_away_team_statistics_df.csv', index_col=0)\n",
    "\n",
    "# train_scores = pd.read_csv('./datas_final/Y_train.csv', index_col=0)\n",
    "train_scores = pd.read_csv('../data/input/Y_train_1rknArQ.csv', index_col=0)\n",
    "\n",
    "train_home = train_home_team_statistics_df.iloc[:,2:]\n",
    "train_away = train_away_team_statistics_df.iloc[:,2:]\n",
    "\n",
    "train_home.columns = 'HOME_' + train_home.columns\n",
    "train_away.columns = 'AWAY_' + train_away.columns\n",
    "\n",
    "train_data =  pd.concat([train_home,train_away],join='inner',axis=1)\n",
    "train_scores = train_scores.loc[train_data.index]\n",
    "\n",
    "train_data = train_data.replace({np.inf:np.nan,-np.inf:np.nan})\n"
   ]
  },
  {
   "cell_type": "code",
   "execution_count": null,
   "id": "7dd2c9d3-9a89-43b6-a746-5101de68f83b",
   "metadata": {
    "execution": {
     "iopub.execute_input": "2023-12-03T08:49:31.027863Z",
     "iopub.status.busy": "2023-12-03T08:49:31.027660Z",
     "iopub.status.idle": "2023-12-03T08:49:31.043849Z",
     "shell.execute_reply": "2023-12-03T08:49:31.043086Z",
     "shell.execute_reply.started": "2023-12-03T08:49:31.027846Z"
    },
    "tags": []
   },
   "outputs": [],
   "source": [
    "train_home_team_statistics_df.head()"
   ]
  },
  {
   "cell_type": "code",
   "execution_count": null,
   "id": "515a4e90-c970-49e4-901c-44bd58c50357",
   "metadata": {
    "execution": {
     "iopub.execute_input": "2023-12-03T08:49:14.914136Z",
     "iopub.status.busy": "2023-12-03T08:49:14.913960Z",
     "iopub.status.idle": "2023-12-03T08:49:14.920714Z",
     "shell.execute_reply": "2023-12-03T08:49:14.919761Z",
     "shell.execute_reply.started": "2023-12-03T08:49:14.914120Z"
    },
    "tags": []
   },
   "outputs": [],
   "source": [
    "train_scores.head()"
   ]
  },
  {
   "cell_type": "markdown",
   "id": "72068e90-b2e3-41cf-b5de-41b86dd1c1cc",
   "metadata": {},
   "source": [
    "## Benchmark\n",
    "\n",
    "We try to model if AWAY wins"
   ]
  },
  {
   "cell_type": "code",
   "execution_count": null,
   "id": "f70e78bf-729c-4782-8c69-fefcc3febea9",
   "metadata": {},
   "outputs": [],
   "source": [
    "train_new_y = train_scores['AWAY_WINS']"
   ]
  },
  {
   "cell_type": "markdown",
   "id": "73acde0c",
   "metadata": {},
   "source": [
    "### train, valid test split"
   ]
  },
  {
   "cell_type": "code",
   "execution_count": null,
   "id": "702356a1",
   "metadata": {
    "execution": {
     "iopub.execute_input": "2023-12-03T08:59:14.353015Z",
     "iopub.status.busy": "2023-12-03T08:59:14.352825Z",
     "iopub.status.idle": "2023-12-03T08:59:14.376440Z",
     "shell.execute_reply": "2023-12-03T08:59:14.375834Z",
     "shell.execute_reply.started": "2023-12-03T08:59:14.353001Z"
    },
    "tags": []
   },
   "outputs": [],
   "source": [
    "X_train, X_test, y_train, y_test = model_selection.train_test_split(train_data, train_new_y, train_size=0.8, random_state=42)\n",
    "X_train, X_valid, y_train, y_valid = model_selection.train_test_split(X_train, y_train, train_size=0.8, random_state=42)"
   ]
  },
  {
   "cell_type": "markdown",
   "id": "a02bbbd6",
   "metadata": {},
   "source": [
    "### xgb model"
   ]
  },
  {
   "cell_type": "code",
   "execution_count": null,
   "id": "df4452aa",
   "metadata": {
    "execution": {
     "iopub.execute_input": "2023-12-03T09:00:17.482838Z",
     "iopub.status.busy": "2023-12-03T09:00:17.482595Z",
     "iopub.status.idle": "2023-12-03T09:00:19.391024Z",
     "shell.execute_reply": "2023-12-03T09:00:19.390481Z",
     "shell.execute_reply.started": "2023-12-03T09:00:17.482821Z"
    },
    "tags": []
   },
   "outputs": [],
   "source": [
    "params_1 = {\n",
    "    'booster': 'gbtree',\n",
    "    'tree_method':'hist',\n",
    "    'max_depth': 8, \n",
    "    'learning_rate': 0.025,\n",
    "    'objective': 'multi:softprob',\n",
    "    'num_class': 2,\n",
    "    'eval_metric':'mlogloss'\n",
    "    }\n",
    "\n",
    "d_train = xgb.DMatrix(X_train.replace({0:np.nan}), y_train)\n",
    "d_valid = xgb.DMatrix(X_valid.replace({0:np.nan}), y_valid)\n",
    "\n",
    "num_round = 10000\n",
    "evallist = [(d_train, 'train'), (d_valid, 'eval')]\n",
    "\n",
    "bst = xgb.train(params_1, d_train, num_round, evallist, early_stopping_rounds=100)"
   ]
  },
  {
   "cell_type": "markdown",
   "id": "7452620c",
   "metadata": {},
   "source": [
    "### Some analysis"
   ]
  },
  {
   "cell_type": "code",
   "execution_count": null,
   "id": "b646da9b",
   "metadata": {
    "execution": {
     "iopub.execute_input": "2023-12-03T09:01:15.422383Z",
     "iopub.status.busy": "2023-12-03T09:01:15.422117Z",
     "iopub.status.idle": "2023-12-03T09:01:16.110548Z",
     "shell.execute_reply": "2023-12-03T09:01:16.109259Z",
     "shell.execute_reply.started": "2023-12-03T09:01:15.422367Z"
    },
    "scrolled": true,
    "tags": []
   },
   "outputs": [],
   "source": [
    "xgb.plot_importance(bst, max_num_features=25)\n",
    "fig = plt.gcf()\n",
    "fig.set_size_inches(15, 20)"
   ]
  },
  {
   "cell_type": "markdown",
   "id": "0fd1cfcc",
   "metadata": {},
   "source": [
    "### Accuracy on test set"
   ]
  },
  {
   "cell_type": "markdown",
   "id": "f3718f39-b04b-4186-b40d-8c8e2c8442e0",
   "metadata": {},
   "source": [
    "A simple benchmark is always predicting home wins"
   ]
  },
  {
   "cell_type": "code",
   "execution_count": null,
   "id": "4876b668-61c5-4abb-ac0c-fae21627632a",
   "metadata": {
    "execution": {
     "iopub.execute_input": "2023-12-03T09:09:17.367483Z",
     "iopub.status.busy": "2023-12-03T09:09:17.367299Z",
     "iopub.status.idle": "2023-12-03T09:09:17.378107Z",
     "shell.execute_reply": "2023-12-03T09:09:17.376532Z",
     "shell.execute_reply.started": "2023-12-03T09:09:17.367468Z"
    },
    "tags": []
   },
   "outputs": [],
   "source": [
    "target = train_scores.loc[X_test.index].copy()\n",
    "\n",
    "home_wins = target\n",
    "home_wins = 0 * home_wins\n",
    "home_wins.iloc[:,0] = 1\n",
    "\n",
    "np.round(accuracy_score(home_wins,target),4)"
   ]
  },
  {
   "cell_type": "markdown",
   "id": "c48ae0b6-3a87-4a1f-9277-8f88e148592f",
   "metadata": {},
   "source": [
    "Using our model"
   ]
  },
  {
   "cell_type": "code",
   "execution_count": null,
   "id": "206dbc18",
   "metadata": {
    "execution": {
     "iopub.execute_input": "2023-12-03T09:09:38.720204Z",
     "iopub.status.busy": "2023-12-03T09:09:38.719930Z",
     "iopub.status.idle": "2023-12-03T09:09:38.744635Z",
     "shell.execute_reply": "2023-12-03T09:09:38.743865Z",
     "shell.execute_reply.started": "2023-12-03T09:09:38.720185Z"
    },
    "scrolled": true,
    "tags": []
   },
   "outputs": [],
   "source": [
    "X_test_xgb = xgb.DMatrix(X_test)\n",
    "\n",
    "predictions = bst.predict(X_test_xgb, iteration_range=(0, bst.best_iteration))\n",
    "predictions = pd.DataFrame(predictions)\n",
    "\n",
    "predictions[2] = 0\n",
    "predictions.columns = [0,2,1]\n",
    "predictions = (predictions.reindex(columns=[0,1,2]).rank(1,ascending=False)==1).astype(int).values\n",
    "np.round(accuracy_score(predictions,target),4)"
   ]
  },
  {
   "cell_type": "markdown",
   "id": "0afc795a-5be0-40ae-82e3-03cdfdebb9ec",
   "metadata": {},
   "source": [
    "## Submission"
   ]
  },
  {
   "cell_type": "code",
   "execution_count": null,
   "id": "f4213dad-d1e4-43e0-b550-6c45f7c191e7",
   "metadata": {
    "execution": {
     "iopub.execute_input": "2023-12-03T09:15:39.460534Z",
     "iopub.status.busy": "2023-12-03T09:15:39.460345Z",
     "iopub.status.idle": "2023-12-03T09:15:39.803528Z",
     "shell.execute_reply": "2023-12-03T09:15:39.802034Z",
     "shell.execute_reply.started": "2023-12-03T09:15:39.460520Z"
    },
    "tags": []
   },
   "outputs": [],
   "source": [
    "\n",
    "test_home = pd.read_csv('../data/input/Test_Data/test_home_team_statistics_df.csv', index_col=0)\n",
    "test_away = pd.read_csv('../data/input/Test_Data/test_away_team_statistics_df.csv', index_col=0)\n",
    "\n",
    "\n",
    "test_home.columns = 'HOME_' + test_home.columns\n",
    "test_away.columns = 'AWAY_' + test_away.columns\n",
    "\n",
    "test_data =  pd.concat([test_home,test_away],join='inner',axis=1)"
   ]
  },
  {
   "cell_type": "code",
   "execution_count": null,
   "id": "47898db7-290c-4fae-85cc-cfaa82977e16",
   "metadata": {
    "execution": {
     "iopub.execute_input": "2023-12-03T09:47:51.002870Z",
     "iopub.status.busy": "2023-12-03T09:47:51.002680Z",
     "iopub.status.idle": "2023-12-03T09:47:51.145776Z",
     "shell.execute_reply": "2023-12-03T09:47:51.144474Z",
     "shell.execute_reply.started": "2023-12-03T09:47:51.002857Z"
    },
    "tags": []
   },
   "outputs": [],
   "source": [
    "X_bench = xgb.DMatrix(test_data)\n",
    "\n",
    "predictions = bst.predict(X_bench, iteration_range=(0, bst.best_iteration))\n",
    "predictions = pd.DataFrame(predictions)\n",
    "\n",
    "predictions[2] = 0\n",
    "predictions.columns = [0,2,1]\n",
    "predictions = (predictions.reindex(columns=[0,1,2]).rank(1,ascending=False)==1).astype(int)\n",
    "\n",
    "predictions.columns = ['HOME_WINS', 'DRAW', 'AWAY_WINS']\n",
    "predictions.index = test_data.index\n",
    "submission = predictions.reset_index()\n",
    "# submission.to_csv('./datas_final/benchmark_submission.csv', index=False)\n",
    "submission.head()"
   ]
  }
 ],
 "metadata": {
  "kernelspec": {
   "display_name": "Python 3 (ipykernel)",
   "language": "python",
   "name": "python3"
  },
  "language_info": {
   "codemirror_mode": {
    "name": "ipython",
    "version": 3
   },
   "file_extension": ".py",
   "mimetype": "text/x-python",
   "name": "python",
   "nbconvert_exporter": "python",
   "pygments_lexer": "ipython3",
   "version": "3.12.1"
  }
 },
 "nbformat": 4,
 "nbformat_minor": 5
}
