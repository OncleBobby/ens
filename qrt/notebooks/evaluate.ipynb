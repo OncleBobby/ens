{
 "cells": [
  {
   "cell_type": "markdown",
   "id": "b73ad84d",
   "metadata": {},
   "source": [
    "# Initialization"
   ]
  },
  {
   "cell_type": "code",
   "execution_count": null,
   "id": "cfdea75f",
   "metadata": {},
   "outputs": [],
   "source": [
    "%load_ext autoreload\n",
    "%autoreload 2\n",
    "import sys, warnings, time, numpy, yaml, pandas, logging, os, random\n",
    "sys.path.append(\"../src/\") # go to parent dir\n",
    "from data_access import get_X, get_y, get_train_test\n",
    "from models.factory import ModelFactory\n",
    "warnings.filterwarnings('ignore')\n",
    "with open('../confs/logs.yaml', 'rt') as f:\n",
    "    config = yaml.safe_load(f.read())\n",
    "logging.config.dictConfig(config)"
   ]
  },
  {
   "cell_type": "code",
   "execution_count": null,
   "id": "f766bfa6",
   "metadata": {},
   "outputs": [],
   "source": [
    "type='player'\n",
    "type='team'\n",
    "type='mix'\n",
    "X_train, y_train, X_test, y_test, target = get_train_test(train_size=0.8, random_state=42, type=type)\n",
    "train_scores = get_y('train', type)\n",
    "X_submission = get_X('test', type)\n",
    "features=None\n",
    "features=['TEAM_GAME_WON_season_average', 'TEAM_PENALTIES_5_last_match_sum', 'PLAYER_ASSISTS_season_average', 'PLAYER_SHOTS_OFF_TARGET_season_average', 'TEAM_GAME_DRAW_5_last_match_sum', 'PLAYER_PENALTIES_COMMITTED_season_std', 'PLAYER_GOALS_CONCEDED_season_average', 'PLAYER_PUNCHES_5_last_match_std', 'PLAYER_CLEARANCES_5_last_match_std', 'TEAM_GOALS_season_sum', 'TEAM_GAME_DRAW_5_last_match_average', 'PLAYER_YELLOWCARDS_season_average', 'TEAM_SHOTS_OFF_TARGET_5_last_match_average', 'TEAM_SHOTS_OUTSIDEBOX_5_last_match_std', 'PLAYER_DUELS_WON_season_average']\n",
    "features=['TEAM_GAME_WON_season_average', 'TEAM_GAME_WON_season_sum', 'TEAM_SHOTS_ON_TARGET_season_sum', 'PLAYER_GOALS_CONCEDED_season_average', 'TEAM_GAME_LOST_season_average', 'TEAM_GAME_LOST_season_sum', 'PLAYER_KEY_PASSES_season_average', 'PLAYER_GOALS_season_average', 'TEAM_PASSES_season_average', 'TEAM_SHOTS_INSIDEBOX_5_last_match_sum', 'PLAYER_ACCURATE_PASSES_season_average', 'PLAYER_SHOTS_ON_TARGET_5_last_match_sum', 'TEAM_BALL_POSSESSION_season_average', 'TEAM_SHOTS_ON_TARGET_season_average', 'PLAYER_ASSISTS_season_sum', 'PLAYER_GOALS_season_sum', 'PLAYER_PASSES_season_sum', 'PLAYER_SHOTS_TOTAL_season_average', 'TEAM_SUCCESSFUL_PASSES_season_average', 'PLAYER_ASSISTS_season_average']\n",
    "if not features is None:\n",
    "    X_train = X_train[features]\n",
    "    X_test = X_test[features]\n",
    "    X_submission = X_submission[features]"
   ]
  },
  {
   "cell_type": "markdown",
   "id": "42149f7b",
   "metadata": {},
   "source": [
    "# Methods"
   ]
  },
  {
   "cell_type": "code",
   "execution_count": null,
   "id": "b917b69e",
   "metadata": {},
   "outputs": [],
   "source": [
    "def eval_model(model, x_train, x_test, x_submission, save_model=False, save_proba=False):\n",
    "    start = time.time()\n",
    "    model.fit()\n",
    "    score = model.evaluate(x_test)\n",
    "    if save_proba:\n",
    "        def save_model(model, x, root_path):\n",
    "            y = model.predict(x)\n",
    "            y.columns = ['HOME_WINS', 'DRAW', 'AWAY_WINS']\n",
    "            y = model.format_y(y)\n",
    "            y.to_csv(f'{root_path}{model.name}.csv', index=False)\n",
    "        save_model(model, x_train, f'../data/output/{type}/train/')\n",
    "        save_model(model, x_test, f'../data/output/{type}/test/')\n",
    "        save_model(model, x_submission, f'../data/output/{type}/submission/')\n",
    "    end = time.time()\n",
    "    logging.info(f'{model.name}={score} in {numpy.round((end-start), 2)}s')\n",
    "    if save_model:\n",
    "        model.save(x_submission, root_path=f'../data/output/{type}/predictions/')\n",
    "    return {'name': model.name, 'score': score, 'time': numpy.round((end-start), 2)}"
   ]
  },
  {
   "cell_type": "code",
   "execution_count": null,
   "id": "db21ca92",
   "metadata": {},
   "outputs": [],
   "source": [
    "%load_ext autoreload\n",
    "%autoreload 2\n",
    "def eval_model_for_name(name, x_train, x_test, x_submission, save_proba=False, save_model=False):\n",
    "    with open('../confs/models.yaml', 'r') as file:\n",
    "        configurations = yaml.safe_load(file)\n",
    "    factory = ModelFactory(configurations, x_train, y_train, train_scores)\n",
    "    model = factory.get_model(name)\n",
    "    return eval_model(model, x_train=x_train, x_test=x_test, x_submission=x_submission, save_proba=save_proba, save_model=save_model)"
   ]
  },
  {
   "cell_type": "code",
   "execution_count": null,
   "id": "06cc2593",
   "metadata": {},
   "outputs": [],
   "source": [
    "def get_features(name = 'random_forest'):\n",
    "    with open('../confs/models.yaml', 'r') as file:\n",
    "        configurations = yaml.safe_load(file)\n",
    "    factory = ModelFactory(configurations, X_train, y_train, train_scores)\n",
    "    model = factory.get_model(name)\n",
    "    eval_model(model)\n",
    "    df_importances = model.get_feature_importances()\n",
    "    return list(df_importances['feature'])"
   ]
  },
  {
   "cell_type": "markdown",
   "id": "350d795a",
   "metadata": {},
   "source": [
    "# Evaluation"
   ]
  },
  {
   "cell_type": "code",
   "execution_count": null,
   "id": "6c4d587f",
   "metadata": {},
   "outputs": [],
   "source": [
    "%load_ext autoreload\n",
    "%autoreload 2\n",
    "save_model = True\n",
    "with open('../confs/models.yaml', 'r') as file:\n",
    "    configurations = yaml.safe_load(file)\n",
    "factory = ModelFactory(configurations, X_train, y_train, train_scores)\n",
    "lines = []\n",
    "for model in factory.get_models():\n",
    "    model.fit()\n",
    "    score = model.evaluate(X_test)\n",
    "    lines.append(eval_model(model, x_train=X_train, x_test=X_test, x_submission=X_submission, save_model=save_model))\n",
    "df = pandas.DataFrame(lines)\n",
    "df = df.sort_values(by=['score'], ascending=False)\n",
    "df=df.sort_values(by=['score'], ascending=False)\n",
    "df.to_csv(f'../data/output/{type}/result.csv')"
   ]
  },
  {
   "cell_type": "code",
   "execution_count": null,
   "id": "c3eae570",
   "metadata": {},
   "outputs": [],
   "source": [
    "print(df.sort_values(by=['score'], ascending=False))\n",
    "df.to_csv(f'../data/output/{type}/result.csv')"
   ]
  }
 ],
 "metadata": {
  "kernelspec": {
   "display_name": "Python 3 (ipykernel)",
   "language": "python",
   "name": "python3"
  },
  "language_info": {
   "codemirror_mode": {
    "name": "ipython",
    "version": 3
   },
   "file_extension": ".py",
   "mimetype": "text/x-python",
   "name": "python",
   "nbconvert_exporter": "python",
   "pygments_lexer": "ipython3",
   "version": "3.11.7"
  }
 },
 "nbformat": 4,
 "nbformat_minor": 5
}
