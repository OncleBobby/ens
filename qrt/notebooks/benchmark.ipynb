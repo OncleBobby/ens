{
 "cells": [
  {
   "cell_type": "code",
   "execution_count": null,
   "id": "cfdea75f",
   "metadata": {},
   "outputs": [],
   "source": [
    "%load_ext autoreload\n",
    "%autoreload 2\n",
    "import sys, warnings, time, numpy\n",
    "sys.path.append(\"../src/\") # go to parent dir\n",
    "from main import get_X, get_y, get_score, get_train_test\n",
    "# from models import get_model_benchmark1, get_model_benchmark2, show_importance\n",
    "from models.model import Model\n",
    "from models.benchmark import Benchmark1, Benchmark2\n",
    "warnings.filterwarnings('ignore')"
   ]
  },
  {
   "cell_type": "code",
   "execution_count": null,
   "id": "f766bfa6",
   "metadata": {},
   "outputs": [],
   "source": [
    "train_data = get_X('train')\n",
    "train_scores = get_y()\n",
    "test_data = get_X('test')\n",
    "X_train, y_train, X_test, y_test, X_valid, y_valid, target = get_train_test(train_size=0.8, random_state=42)"
   ]
  },
  {
   "cell_type": "code",
   "execution_count": null,
   "id": "282620c0",
   "metadata": {},
   "outputs": [],
   "source": [
    "%load_ext autoreload\n",
    "%autoreload 2\n",
    "benchmark1 = Benchmark1(X_train, y_train, X_valid, y_valid, train_scores)\n",
    "benchmark1.train()\n",
    "benchmark1.evaluate(X_test)\n",
    "# benchmark1.save(test_data)"
   ]
  },
  {
   "cell_type": "code",
   "execution_count": null,
   "id": "b019d2b7",
   "metadata": {},
   "outputs": [],
   "source": [
    "%load_ext autoreload\n",
    "%autoreload 2\n",
    "benchmark2 = Benchmark2(X_train, y_train, X_valid, y_valid, train_scores)\n",
    "benchmark2.train()\n",
    "benchmark2.evaluate(X_test)"
   ]
  },
  {
   "cell_type": "code",
   "execution_count": null,
   "id": "225fc43e",
   "metadata": {},
   "outputs": [],
   "source": [
    "benchmark2.save(test_data)"
   ]
  },
  {
   "cell_type": "code",
   "execution_count": null,
   "id": "58fb2a42",
   "metadata": {},
   "outputs": [],
   "source": [
    "%load_ext autoreload\n",
    "%autoreload 2\n",
    "def get_params(booster):\n",
    "    return {\n",
    "          'booster': booster,\n",
    "          'tree_method':'hist',\n",
    "          'max_depth': 8, \n",
    "          'learning_rate': 0.025,\n",
    "          'objective': 'multi:softprob',\n",
    "          'num_class': 2,\n",
    "          'eval_metric':'mlogloss'\n",
    "        }\n",
    "# boosters = ['gbtree', 'gblinear', 'dart']\n",
    "boosters = ['gbtree', 'gblinear']\n",
    "for booster in boosters:\n",
    "    start = time.time()\n",
    "    name = booster\n",
    "    params = get_params(booster)\n",
    "    benchmark2 = Benchmark2(X_train, y_train, X_valid, y_valid, train_scores, params)\n",
    "    benchmark2.train()\n",
    "    score = benchmark2.evaluate(X_test)\n",
    "    end = time.time()\n",
    "    print(f'{name}={score} in {numpy.round((end-start), 2)}s')"
   ]
  }
 ],
 "metadata": {
  "kernelspec": {
   "display_name": "Python 3 (ipykernel)",
   "language": "python",
   "name": "python3"
  },
  "language_info": {
   "codemirror_mode": {
    "name": "ipython",
    "version": 3
   },
   "file_extension": ".py",
   "mimetype": "text/x-python",
   "name": "python",
   "nbconvert_exporter": "python",
   "pygments_lexer": "ipython3",
   "version": "3.12.1"
  }
 },
 "nbformat": 4,
 "nbformat_minor": 5
}
