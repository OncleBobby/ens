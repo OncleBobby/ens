{
 "cells": [
  {
   "cell_type": "code",
   "execution_count": null,
   "metadata": {},
   "outputs": [],
   "source": [
    "import os, pandas\n",
    "def transpose(df):\n",
    "    lines = []\n",
    "    for column in df.describe().columns:\n",
    "        line = { 'feature': column }\n",
    "        for index, row in df.iterrows():\n",
    "            line[index] = row[column]\n",
    "        lines.append(line)\n",
    "    return pandas.DataFrame(lines).sort_values(by=['min'], ascending=False).reset_index()\n",
    "def build_statistics(folder = '../data/output/random_features/'):\n",
    "    lines = []\n",
    "    for filename in os.listdir(folder):\n",
    "        df = pandas.read_csv(f'{folder}/{filename}')\n",
    "        for index, row in df.iterrows():\n",
    "            line = {\n",
    "                'model': row['model'],\n",
    "            }\n",
    "            for feature in row['features'].strip('][').split(', '):\n",
    "                line[feature.replace(\"'\", '')] = row['score']\n",
    "            lines.append(line)\n",
    "    return transpose(pandas.DataFrame(lines).describe())\n",
    "df = build_statistics()\n",
    "df"
   ]
  }
 ],
 "metadata": {
  "kernelspec": {
   "display_name": "Python 3",
   "language": "python",
   "name": "python3"
  },
  "language_info": {
   "codemirror_mode": {
    "name": "ipython",
    "version": 3
   },
   "file_extension": ".py",
   "mimetype": "text/x-python",
   "name": "python",
   "nbconvert_exporter": "python",
   "pygments_lexer": "ipython3",
   "version": "3.11.7"
  }
 },
 "nbformat": 4,
 "nbformat_minor": 2
}
