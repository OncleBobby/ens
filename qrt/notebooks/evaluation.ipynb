{
 "cells": [
  {
   "cell_type": "markdown",
   "id": "b73ad84d",
   "metadata": {},
   "source": [
    "# Initialization"
   ]
  },
  {
   "cell_type": "code",
   "execution_count": null,
   "id": "cfdea75f",
   "metadata": {},
   "outputs": [],
   "source": [
    "%load_ext autoreload\n",
    "%autoreload 2\n",
    "import sys, warnings, time, numpy, yaml, pandas, logging, os, random\n",
    "sys.path.append(\"../src/\") # go to parent dir\n",
    "from data_access import get_X, get_y, get_train_test\n",
    "from models.factory import ModelFactory\n",
    "warnings.filterwarnings('ignore')\n",
    "with open('../confs/logs.yaml', 'rt') as f:\n",
    "    config = yaml.safe_load(f.read())\n",
    "logging.config.dictConfig(config)"
   ]
  },
  {
   "cell_type": "code",
   "execution_count": null,
   "id": "f766bfa6",
   "metadata": {},
   "outputs": [],
   "source": [
    "X_train, y_train, X_test, y_test, target = get_train_test(train_size=0.8, random_state=42)\n",
    "train_scores = get_y()\n",
    "X_submission = get_X('test')\n",
    "# features=['TEAM_GAME_WON_season_average', 'TEAM_GAME_LOST_season_average', 'TEAM_GOALS_season_sum', 'TEAM_SHOTS_INSIDEBOX_season_average', 'TEAM_BALL_POSSESSION_season_average', 'TEAM_CORNERS_5_last_match_average', 'TEAM_BALL_SAFE_5_last_match_sum', 'TEAM_GAME_DRAW_season_average']\n",
    "features=['TEAM_GAME_WON_season_average', 'TEAM_GAME_LOST_season_average', 'TEAM_GOALS_season_sum', 'TEAM_SHOTS_INSIDEBOX_season_average', 'TEAM_BALL_POSSESSION_season_average', 'TEAM_CORNERS_5_last_match_average', 'TEAM_BALL_SAFE_5_last_match_sum']\n",
    "# features=['TEAM_GAME_WON_season_average', 'TEAM_SAVES_season_average', 'TEAM_GAME_DRAW_season_average', 'TEAM_GOALS_5_last_match_std', 'TEAM_SUBSTITUTIONS_season_average', 'TEAM_SHOTS_OFF_TARGET_5_last_match_sum', 'TEAM_BALL_POSSESSION_season_average', 'TEAM_PENALTIES_5_last_match_average', 'TEAM_SAVES_5_last_match_average', 'TEAM_SHOTS_TOTAL_5_last_match_std']\n",
    "\n",
    "features=['TEAM_GAME_WON_season_average', 'TEAM_SUCCESSFUL_PASSES_season_average', 'TEAM_SAVES_5_last_match_sum', 'TEAM_YELLOWCARDS_5_last_match_std', 'TEAM_GAME_DRAW_5_last_match_average', 'TEAM_SUCCESSFUL_PASSES_season_std', 'TEAM_SHOTS_INSIDEBOX_5_last_match_sum', 'TEAM_FOULS_5_last_match_sum', 'TEAM_GAME_DRAW_season_sum', 'TEAM_SAVES_season_sum', 'TEAM_CORNERS_season_std', 'TEAM_PASSES_5_last_match_std', 'TEAM_ATTACKS_season_sum', 'TEAM_FOULS_5_last_match_average', 'TEAM_SUCCESSFUL_PASSES_5_last_match_sum', 'TEAM_SUBSTITUTIONS_season_average', 'TEAM_CORNERS_5_last_match_sum']\n",
    "features=['TEAM_GAME_WON_season_average', 'TEAM_SAVES_season_average', 'TEAM_GAME_DRAW_season_average', 'TEAM_GOALS_5_last_match_std', 'TEAM_SUBSTITUTIONS_season_average', 'TEAM_SHOTS_OFF_TARGET_5_last_match_sum', 'TEAM_BALL_POSSESSION_season_average', 'TEAM_PENALTIES_5_last_match_average', 'TEAM_SAVES_5_last_match_average', 'TEAM_SHOTS_TOTAL_5_last_match_std']\n",
    "features=['TEAM_DANGEROUS_ATTACKS_5_last_match_average', 'TEAM_FOULS_season_average', 'TEAM_REDCARDS_season_sum', 'TEAM_BALL_POSSESSION_season_average', 'TEAM_SHOTS_INSIDEBOX_season_average', 'TEAM_SUBSTITUTIONS_season_std', 'TEAM_ATTACKS_5_last_match_average', 'TEAM_GAME_WON_season_sum', 'TEAM_SHOTS_TOTAL_5_last_match_std']\n",
    "features=['TEAM_SAVES_5_last_match_average', 'TEAM_BALL_SAFE_season_std', 'TEAM_SAVES_5_last_match_std', 'TEAM_BALL_SAFE_season_average', 'TEAM_OFFSIDES_5_last_match_average', 'TEAM_GAME_WON_season_sum', 'TEAM_SHOTS_OUTSIDEBOX_5_last_match_average', 'TEAM_SHOTS_OUTSIDEBOX_season_sum', 'TEAM_GAME_WON_season_average', 'TEAM_GOALS_season_average', 'TEAM_BALL_SAFE_5_last_match_sum', 'TEAM_SAVES_season_std', 'TEAM_GAME_LOST_season_average', 'TEAM_SHOTS_OFF_TARGET_5_last_match_average', 'TEAM_OFFSIDES_5_last_match_std', 'TEAM_SHOTS_ON_TARGET_5_last_match_average', 'TEAM_SUCCESSFUL_PASSES_season_sum', 'TEAM_SAVES_season_average', 'TEAM_SHOTS_INSIDEBOX_5_last_match_sum']\n",
    "features=['TEAM_GAME_WON_season_sum', 'TEAM_GAME_LOST_season_sum', 'TEAM_GAME_WON_season_average', 'TEAM_BALL_POSSESSION_season_average', 'TEAM_GOALS_season_average', 'TEAM_SHOTS_INSIDEBOX_5_last_match_sum', 'TEAM_SHOTS_INSIDEBOX_season_average', 'TEAM_SHOTS_ON_TARGET_5_last_match_average', 'TEAM_SAVES_season_sum', 'TEAM_GOALS_5_last_match_std', 'TEAM_SAVES_5_last_match_std', 'TEAM_SUCCESSFUL_PASSES_5_last_match_std', 'TEAM_OFFSIDES_5_last_match_average', 'TEAM_SUBSTITUTIONS_5_last_match_average']\n",
    "features=['TEAM_GAME_WON_season_sum', 'TEAM_GAME_LOST_season_sum', 'TEAM_GAME_WON_season_average', 'TEAM_BALL_POSSESSION_season_average', 'TEAM_GOALS_season_sum', 'TEAM_SHOTS_INSIDEBOX_5_last_match_sum', 'TEAM_SHOTS_INSIDEBOX_season_average', 'TEAM_SHOTS_INSIDEBOX_5_last_match_average', 'TEAM_SUCCESSFUL_PASSES_season_average', 'TEAM_SHOTS_ON_TARGET_season_average']\n",
    "X_train = X_train[features]\n",
    "X_test = X_test[features]\n",
    "X_submission = X_submission[features]"
   ]
  },
  {
   "cell_type": "markdown",
   "id": "42149f7b",
   "metadata": {},
   "source": [
    "# Methods"
   ]
  },
  {
   "cell_type": "code",
   "execution_count": null,
   "id": "b917b69e",
   "metadata": {},
   "outputs": [],
   "source": [
    "def eval_model(model, x_train, x_test, x_submission, save_model=False, save_proba=False):\n",
    "    start = time.time()\n",
    "    model.fit()\n",
    "    score = model.evaluate(x_test)\n",
    "    if save_proba:\n",
    "        def save_model(model, x, root_path):\n",
    "            y = model.predict(x)\n",
    "            y.columns = ['HOME_WINS', 'DRAW', 'AWAY_WINS']\n",
    "            y = model.format_y(y)\n",
    "            y.to_csv(f'{root_path}{model.name}.csv', index=False)\n",
    "        save_model(model, x_train, '../data/output/mix/train/')\n",
    "        save_model(model, x_test, '../data/output/mix/test/')\n",
    "        save_model(model, x_submission, '../data/output/mix/submission/')\n",
    "    end = time.time()\n",
    "    logging.info(f'{model.name}={score} in {numpy.round((end-start), 2)}s')\n",
    "    if save_model:\n",
    "        model.save(x_submission)\n",
    "    return {'name': model.name, 'score': score, 'time': numpy.round((end-start), 2)}"
   ]
  },
  {
   "cell_type": "code",
   "execution_count": null,
   "id": "db21ca92",
   "metadata": {},
   "outputs": [],
   "source": [
    "%load_ext autoreload\n",
    "%autoreload 2\n",
    "def eval_model_for_name(name, x_train, x_test, x_submission, save_proba=False, save_model=False):\n",
    "    with open('../confs/models.yaml', 'r') as file:\n",
    "        configurations = yaml.safe_load(file)\n",
    "    factory = ModelFactory(configurations, x_train, y_train, train_scores)\n",
    "    model = factory.get_model(name)\n",
    "    return eval_model(model, x_train=x_train, x_test=x_test, x_submission=x_submission, save_proba=save_proba, save_model=save_model)"
   ]
  },
  {
   "cell_type": "code",
   "execution_count": null,
   "id": "06cc2593",
   "metadata": {},
   "outputs": [],
   "source": [
    "def get_features(name = 'random_forest'):\n",
    "    with open('../confs/models.yaml', 'r') as file:\n",
    "        configurations = yaml.safe_load(file)\n",
    "    factory = ModelFactory(configurations, X_train, y_train, train_scores)\n",
    "    model = factory.get_model(name)\n",
    "    eval_model(model)\n",
    "    df_importances = model.get_feature_importances()\n",
    "    return list(df_importances['feature'])"
   ]
  },
  {
   "cell_type": "markdown",
   "id": "350d795a",
   "metadata": {},
   "source": [
    "# Evaluation"
   ]
  },
  {
   "cell_type": "code",
   "execution_count": null,
   "id": "7815d4af",
   "metadata": {},
   "outputs": [],
   "source": [
    "%load_ext autoreload\n",
    "%autoreload 2\n",
    "names = ['dummy', 'random_forest']\n",
    "# names= ['xgb_gblinear', 'catboost', 'random_forest', 'gradient_boosting', 'ada_boost', 'extra_trees', 'hist_gradient_boosting']\n",
    "names= ['xgb_classifier']\n",
    "# names= ['lightgbm', 'catboost', 'random_forest', 'gradient_boosting', 'ada_boost', 'extra_trees', 'decision_tree', 'hist_gradient_boosting', 'mlp', 'kneighbors', 'xgb_classifier']\n",
    "for name in names:\n",
    "    eval_model_for_name(name, x_train=X_train, x_test=X_test, x_submission=X_submission, save_proba=True, save_model=False)"
   ]
  },
  {
   "cell_type": "code",
   "execution_count": null,
   "id": "2f45e215",
   "metadata": {},
   "outputs": [],
   "source": [
    "with open('../confs/models.yaml', 'r') as file:\n",
    "    configurations = yaml.safe_load(file)\n",
    "name='ada_boost'\n",
    "size=len(features)-2\n",
    "factory = ModelFactory(configurations, X_train, y_train, train_scores)\n",
    "model = factory.get_model(name)\n",
    "model.fit()\n",
    "score = model.evaluate(X_test)\n",
    "print(f'score={score}')\n",
    "for i in range(0, 50):\n",
    "    random_features=random.sample(features, size)\n",
    "    factory = ModelFactory(configurations, X_train[random_features], y_train, train_scores)\n",
    "    model = factory.get_model(name)\n",
    "    model.fit()\n",
    "    score = model.evaluate(X_test[random_features])\n",
    "    logging.info(f'score={score}, i={i}, random_features={random_features}')"
   ]
  },
  {
   "cell_type": "code",
   "execution_count": null,
   "id": "6c4d587f",
   "metadata": {},
   "outputs": [],
   "source": [
    "%load_ext autoreload\n",
    "%autoreload 2\n",
    "save_model = True\n",
    "with open('../confs/models.yaml', 'r') as file:\n",
    "    configurations = yaml.safe_load(file)\n",
    "factory = ModelFactory(configurations, X_train, y_train, train_scores)\n",
    "lines = []\n",
    "for model in factory.get_models():\n",
    "    model.fit()\n",
    "    score = model.evaluate(X_test)\n",
    "    lines.append(eval_model(model, x_train=X_train, x_test=X_test, x_submission=X_submission, save_model=save_model))\n",
    "df = pandas.DataFrame(lines)\n",
    "df = df.sort_values(by=['score'], ascending=False)\n",
    "df=df.sort_values(by=['score'], ascending=False)\n",
    "df.to_csv('../data/output/result.csv')"
   ]
  },
  {
   "cell_type": "code",
   "execution_count": null,
   "id": "c3eae570",
   "metadata": {},
   "outputs": [],
   "source": [
    "print(df.sort_values(by=['score'], ascending=False))\n",
    "df.to_csv('../data/output/result.csv')"
   ]
  },
  {
   "cell_type": "markdown",
   "id": "ef9c1c7b",
   "metadata": {},
   "source": [
    "# Let's boogy !"
   ]
  },
  {
   "cell_type": "code",
   "execution_count": null,
   "id": "0beb24da",
   "metadata": {},
   "outputs": [],
   "source": [
    "def get_mix_X(X, folder = '../data/input/train/'):\n",
    "    df = None\n",
    "    df = X.copy()\n",
    "    for filename in os.listdir(folder):\n",
    "        model = filename.split('.')[0]\n",
    "        df_tmp = pandas.read_csv(f'{folder}{filename}')\n",
    "        df_tmp.columns = [model]\n",
    "        if df is None:\n",
    "            df = df_tmp\n",
    "        else:\n",
    "            df[df_tmp.columns] = df_tmp\n",
    "    return df"
   ]
  },
  {
   "cell_type": "code",
   "execution_count": null,
   "id": "3565f130",
   "metadata": {},
   "outputs": [],
   "source": [
    "%load_ext autoreload\n",
    "%autoreload 2\n",
    "names = ['dummy', 'random_forest']\n",
    "# names= ['xgb_gblinear', 'catboost', 'random_forest', 'gradient_boosting', 'ada_boost', 'extra_trees', 'hist_gradient_boosting']\n",
    "names= ['random_forest', 'catboost', 'gradient_boosting', 'ada_boost', 'lightgbm', 'extra_trees', 'decision_tree', 'hist_gradient_boosting', 'mlp', 'kneighbors', \n",
    "        'xgb_gblinear', 'xgb_classifier', 'keras_relu_1', 'xgb_gbtree']\n",
    "names= ['random_forest', 'catboost', 'gradient_boosting', 'ada_boost', 'lightgbm', 'extra_trees', 'decision_tree', 'hist_gradient_boosting', 'mlp', 'kneighbors', \n",
    "        'xgb_gblinear', 'xgb_classifier', 'xgb_gbtree']\n",
    "# names= ['xgb_gblinear']\n",
    "x_train = get_mix_X(X_train, '../data/output/mix/train/')\n",
    "x_test = get_mix_X(X_test, '../data/output/mix/test/')\n",
    "x_submission = get_mix_X(X_submission, '../data/output/mix/submission/')\n",
    "\n",
    "with open('../confs/models.yaml', 'r') as file:\n",
    "    configurations = yaml.safe_load(file)\n",
    "factory = ModelFactory(configurations, x_train, y_train, train_scores)\n",
    "lines = []\n",
    "for name in names:\n",
    "    lines.append(eval_model_for_name(name, x_train=x_train, x_test=x_test, x_submission=x_submission, save_model=True))\n",
    "df = pandas.DataFrame(lines)\n",
    "df = df.sort_values(by=['score'], ascending=False)\n",
    "df.to_csv('../data/output/boogy_result.csv')"
   ]
  },
  {
   "cell_type": "code",
   "execution_count": null,
   "id": "6e59b292",
   "metadata": {},
   "outputs": [],
   "source": [
    "print(df.sort_values(by=['score'], ascending=False))"
   ]
  }
 ],
 "metadata": {
  "kernelspec": {
   "display_name": "Python 3 (ipykernel)",
   "language": "python",
   "name": "python3"
  },
  "language_info": {
   "codemirror_mode": {
    "name": "ipython",
    "version": 3
   },
   "file_extension": ".py",
   "mimetype": "text/x-python",
   "name": "python",
   "nbconvert_exporter": "python",
   "pygments_lexer": "ipython3",
   "version": "3.11.7"
  }
 },
 "nbformat": 4,
 "nbformat_minor": 5
}
