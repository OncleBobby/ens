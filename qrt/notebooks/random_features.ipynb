{
 "cells": [
  {
   "cell_type": "markdown",
   "id": "b73ad84d",
   "metadata": {},
   "source": [
    "# Initialization"
   ]
  },
  {
   "cell_type": "code",
   "execution_count": null,
   "id": "cfdea75f",
   "metadata": {},
   "outputs": [],
   "source": [
    "%load_ext autoreload\n",
    "%autoreload 2\n",
    "import sys, warnings, time, numpy, yaml, pandas, logging, random\n",
    "from pathlib import Path\n",
    "sys.path.append(\"../src/\") # go to parent dir\n",
    "from data_access import get_X, get_y, get_train_test\n",
    "from models.factory import ModelFactory\n",
    "warnings.filterwarnings('ignore')\n",
    "with open('../confs/logs.yaml', 'rt') as f:\n",
    "    config = yaml.safe_load(f.read())\n",
    "logging.config.dictConfig(config)"
   ]
  },
  {
   "cell_type": "code",
   "execution_count": null,
   "id": "f766bfa6",
   "metadata": {},
   "outputs": [],
   "source": [
    "X_train, y_train, X_test, y_test, target = get_train_test(train_size=0.8, random_state=42)\n",
    "train_scores = get_y()\n",
    "test_data = get_X('test')"
   ]
  },
  {
   "cell_type": "code",
   "execution_count": null,
   "id": "b917b69e",
   "metadata": {},
   "outputs": [],
   "source": [
    "def eval_model(model, save_model=False, X=X_test):\n",
    "    start = time.time()\n",
    "    model.fit()\n",
    "    score = model.evaluate(X)\n",
    "    end = time.time()\n",
    "    logging.debug(f'{model.name}={score} in {numpy.round((end-start), 2)}s')\n",
    "    if save_model:\n",
    "        model.save(test_data)\n",
    "    return {'name': model.name, 'score': score, 'time': numpy.round((end-start), 2)}"
   ]
  },
  {
   "cell_type": "code",
   "execution_count": null,
   "id": "db21ca92",
   "metadata": {},
   "outputs": [],
   "source": [
    "%load_ext autoreload\n",
    "%autoreload 2\n",
    "def eval_model_for_name(name, X=X_train, y=y_train):\n",
    "    with open('../confs/models.yaml', 'r') as file:\n",
    "        configurations = yaml.safe_load(file)\n",
    "    factory = ModelFactory(configurations, X, y, train_scores)\n",
    "    model = factory.get_model(name)\n",
    "    return eval_model(model)"
   ]
  },
  {
   "cell_type": "code",
   "execution_count": null,
   "id": "06cc2593",
   "metadata": {},
   "outputs": [],
   "source": [
    "def get_features(name = 'ada_boost'):\n",
    "    with open('../confs/models.yaml', 'r') as file:\n",
    "        configurations = yaml.safe_load(file)\n",
    "    factory = ModelFactory(configurations, X_train, y_train, train_scores)\n",
    "    model = factory.get_model(name)\n",
    "    eval_model(model)\n",
    "    df_importances = model.get_feature_importances()\n",
    "    return list(df_importances['feature'])"
   ]
  },
  {
   "cell_type": "code",
   "execution_count": null,
   "id": "fc5ad136",
   "metadata": {},
   "outputs": [],
   "source": [
    "default_features=get_features('ada_boost')"
   ]
  },
  {
   "cell_type": "code",
   "execution_count": null,
   "id": "27380507",
   "metadata": {},
   "outputs": [],
   "source": [
    "def test_features(name = 'xgb_gblinear', save=True, features=default_features):\n",
    "    with open('../confs/models.yaml', 'r') as file:\n",
    "        configurations = yaml.safe_load(file)\n",
    "    lines = []\n",
    "    best_score = 0\n",
    "    selected_features = []\n",
    "    for i in range(1, len(features)):\n",
    "        sub_features = selected_features.copy()\n",
    "        feature = features[i-1]\n",
    "        sub_features.append(feature)\n",
    "        # sub_features = features[:i]\n",
    "        factory = ModelFactory(configurations, X_train[sub_features], y_train, train_scores)\n",
    "        model = factory.get_model(name)\n",
    "        model.name = f'{name}_{i}'\n",
    "        line = eval_model(model,X=X_test[sub_features])\n",
    "        line['nbr_features'] = len(sub_features)\n",
    "        line['model'] = name\n",
    "        line['feature'] = feature\n",
    "        line['features'] = sub_features\n",
    "        lines.append(line)\n",
    "        if best_score < line['score']:\n",
    "            selected_features.append(line['feature'])\n",
    "            best_score = line['score']\n",
    "    df = pandas.DataFrame(lines)\n",
    "    if save:\n",
    "        df.to_csv(f'../data/output/features/{name}.csv')\n",
    "    logging.info(f'Features selected for score {name} - {best_score}: {len(selected_features)}, {selected_features}')\n",
    "    return df"
   ]
  },
  {
   "cell_type": "code",
   "execution_count": null,
   "id": "b97b68e6",
   "metadata": {},
   "outputs": [],
   "source": [
    "def get_row_by_features(filename):\n",
    "    row_by_features = {}\n",
    "    if Path(filename).exists():\n",
    "        df = pandas.read_csv(f'{filename}')\n",
    "        for index, row in df.iterrows():\n",
    "            line = {\n",
    "                'name': row['name'],\n",
    "                'score': row['score'],\n",
    "                'time':  row['time'],\n",
    "                'model': row['model'],\n",
    "                'size': row['size'],\n",
    "                'features': row['features']\n",
    "                }\n",
    "            row_by_features[row['features']] = line\n",
    "    return row_by_features\n",
    "def random_features(name = 'xgb_gblinear', size=10, nbr=20, save=False, root_folder='../data/output/random_features/'):\n",
    "    with open('../confs/models.yaml', 'r') as file:\n",
    "        configurations = yaml.safe_load(file)\n",
    "    filename=f'{root_folder}/{name}.csv'\n",
    "    row_by_features = get_row_by_features(filename)\n",
    "    lines = list(row_by_features.values())\n",
    "    best_score = 0\n",
    "    selected_features = []\n",
    "    features = list(X_train.columns)\n",
    "    start = time.time()\n",
    "    for i in range(1, nbr):\n",
    "        sub_features = random.sample(features, size)\n",
    "        if str(sub_features) in row_by_features:\n",
    "            logging.info(f'skip {sub_features}')\n",
    "            continue\n",
    "        # sub_features = features[:i]\n",
    "        factory = ModelFactory(configurations, X_train[sub_features], y_train, train_scores)\n",
    "        model = factory.get_model(name)\n",
    "        model.name = f'{name}_{i}'\n",
    "        line = eval_model(model,X=X_test[sub_features])\n",
    "        line['model'] = name\n",
    "        line['size'] = size\n",
    "        line['features'] = str(sub_features)\n",
    "        lines.append(line)\n",
    "        if best_score < line['score']:\n",
    "            selected_features=sub_features\n",
    "            best_score = line['score']\n",
    "    end = time.time()\n",
    "    df = pandas.DataFrame(lines)\n",
    "    df=df.sort_values(by=['score'], ascending=False)\n",
    "    # df .reset_index(inplace=True)\n",
    "    if save:\n",
    "        df.to_csv(filename, index=False)\n",
    "    logging.info(f'{name} - {best_score}: {len(selected_features)}, {selected_features}')\n",
    "    return df"
   ]
  },
  {
   "cell_type": "code",
   "execution_count": null,
   "id": "619ea796",
   "metadata": {},
   "outputs": [],
   "source": [
    "def plot_features(folder = '../data/output/features/'):\n",
    "   import os, pandas\n",
    "   df = None\n",
    "   for filename in os.listdir(folder):\n",
    "      # if not os.path.isfile(filename): continue\n",
    "      model = filename.split('.')[0]\n",
    "      df_tmp = pandas.read_csv(f'{folder}{filename}')\n",
    "      df_tmp[model] = df_tmp['score']\n",
    "      if df is None:\n",
    "         df = df_tmp[[model]]\n",
    "      else:\n",
    "         df[model] = df_tmp[[model]]\n",
    "   df.plot.line()"
   ]
  },
  {
   "cell_type": "markdown",
   "id": "1ec35fa9",
   "metadata": {},
   "source": [
    "# Feature importances"
   ]
  },
  {
   "cell_type": "code",
   "execution_count": null,
   "id": "3f6a686e",
   "metadata": {},
   "outputs": [],
   "source": [
    "sizes=list(range(5, 10))\n",
    "nbr=100\n",
    "save=True\n",
    "names= ['random_forest', 'catboost', 'gradient_boosting', 'ada_boost', 'lightgbm', 'extra_trees', 'hist_gradient_boosting', 'mlp', \n",
    "        'xgb_gblinear', 'xgb_classifier', 'xgb_gbtree']\n",
    "# names= ['random_forest', 'ada_boost', 'xgb_gblinear', 'xgb_classifier', 'xgb_gbtree']\n",
    "names= ['ada_boost', 'xgb_gblinear']\n",
    "# names= ['ada_boost']\n",
    "# names= ['xgb_gblinear']\n",
    "for name in names:\n",
    "    for size in sizes:\n",
    "        random_features(name, size, nbr, True)\n",
    "plot_features('../data/output/random_features/')\n",
    "# ['TEAM_PASSES_season_sum', 'TEAM_DANGEROUS_ATTACKS_season_std', 'TEAM_SHOTS_INSIDEBOX_season_average', 'TEAM_GAME_WON_season_sum', 'TEAM_INJURIES_5_last_match_sum', 'TEAM_DANGEROUS_ATTACKS_5_last_match_average', 'TEAM_SUCCESSFUL_PASSES_PERCENTAGE_5_last_match_std', 'TEAM_GAME_LOST_season_sum']"
   ]
  },
  {
   "cell_type": "code",
   "execution_count": null,
   "id": "95f02266",
   "metadata": {},
   "outputs": [],
   "source": [
    "plot_features('../data/output/all_features/')"
   ]
  },
  {
   "cell_type": "code",
   "execution_count": null,
   "id": "3620135a",
   "metadata": {},
   "outputs": [],
   "source": [
    "plot_features('../data/output/random_features/')"
   ]
  }
 ],
 "metadata": {
  "kernelspec": {
   "display_name": "Python 3 (ipykernel)",
   "language": "python",
   "name": "python3"
  },
  "language_info": {
   "codemirror_mode": {
    "name": "ipython",
    "version": 3
   },
   "file_extension": ".py",
   "mimetype": "text/x-python",
   "name": "python",
   "nbconvert_exporter": "python",
   "pygments_lexer": "ipython3",
   "version": "3.11.7"
  }
 },
 "nbformat": 4,
 "nbformat_minor": 5
}
